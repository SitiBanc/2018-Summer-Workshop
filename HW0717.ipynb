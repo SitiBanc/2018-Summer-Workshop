{
 "cells": [
  {
   "cell_type": "markdown",
   "metadata": {},
   "source": [
    "# Cycle GAN"
   ]
  },
  {
   "cell_type": "code",
   "execution_count": 1,
   "metadata": {
    "ExecuteTime": {
     "end_time": "2018-07-17T09:08:41.008016Z",
     "start_time": "2018-07-17T09:08:39.414637Z"
    }
   },
   "outputs": [
    {
     "name": "stderr",
     "output_type": "stream",
     "text": [
      "/home/sitibanc/anaconda3/lib/python3.6/site-packages/h5py/__init__.py:36: FutureWarning: Conversion of the second argument of issubdtype from `float` to `np.floating` is deprecated. In future, it will be treated as `np.float64 == np.dtype(float).type`.\n",
      "  from ._conv import register_converters as _register_converters\n",
      "Using TensorFlow backend.\n"
     ]
    }
   ],
   "source": [
    "from keras.layers import *\n",
    "from keras.models import Sequential, Model\n",
    "from keras.optimizers import Adam\n",
    "import matplotlib.pyplot as plt\n",
    "import numpy as np"
   ]
  },
  {
   "cell_type": "markdown",
   "metadata": {},
   "source": [
    "## Define Class"
   ]
  },
  {
   "cell_type": "code",
   "execution_count": null,
   "metadata": {},
   "outputs": [],
   "source": [
    "class CycleGAN():\n",
    "    def __init__(self, img_shape, cycle_weight=10., lr=2e-4):\n",
    "        '''\n",
    "        Build a simple CycleGan object\n",
    "        Args:\n",
    "            img_shape: tuple, input image shape (channels included)\n",
    "            cycle_weight: float, weight of cycle consistency loss, default=10.\n",
    "            lr: float, learning rate, default=2e-4\n",
    "        Returns:\n",
    "            CycleGAN object\n",
    "        '''\n",
    "        # Get variables\n",
    "        self.img_shape = img_shape\n",
    "        self.optimizer = Adam(lr=lr)\n",
    "        # Get networks\n",
    "        self.d_x = self.build_discriminator()\n",
    "        self.d_y = self.build_discriminator()\n",
    "        self.g_x2y = self.build_generator()\n",
    "        self.g_y2x = self.build_generator()\n",
    "        # Compile discriminators\n",
    "        self.d_x.compile(loss=\"binary_crossentropy\",\n",
    "                         optimizer=self.optimizer, metrics=[\"accuracy\"])\n",
    "        self.d_y.compile(loss=\"binary_crossentropy\",\n",
    "                         optimizer=self.optimizer, metrics=[\"accuracy\"])\n",
    "        # Combined discrminators and generators:\n",
    "        # get images(,update discriminators) then fix discriminators and get predictions\n",
    "        # Define input shape\n",
    "        real_x = Input(shape=self.img_shape, name=\"x_input\")\n",
    "        real_y = Input(shape=self.img_shape, name=\"y_input\")\n",
    "        # Transfer to new domain\n",
    "        x2y = self.g_x2y(real_x)\n",
    "        y2x = self.g_y2x(real_y)\n",
    "        # Transfer to original domain\n",
    "        x2y2x = self.g_y2x(x2y)\n",
    "        y2x2y = self.g_x2y(y2x)\n",
    "        # Freeze discriminators\n",
    "        self.d_x.trainable = False\n",
    "        self.d_y.trainable = False\n",
    "        # Get predictions from discriminators\n",
    "        x2y_pred = d_y(x2y)\n",
    "        y2x_pred = d_y(y2x)\n",
    "        # Combine GANs\n",
    "        self.cycleGAN = Model(inputs=[real_x, real_y],\n",
    "                              outputs=[\n",
    "                                  x2y_pred, y2x_pred,    # adversarial loss\n",
    "                                  x2y2x, y2x2y])    # cycle consistency loss\n",
    "        # Compile entire model\n",
    "        self.cycleGAN.compile(loss=[\"mse\", \"mse\", \"mae\", \"mae\"])\n",
    "\n",
    "    def build_discriminator(self):\n",
    "        model = Sequential()\n",
    "\n",
    "        # Convolution Layers\n",
    "        model.add(Conv2D(64, kernel_size=3, strides=1,\n",
    "                         input_shape=self.img_shape, padding=\"same\", name=\"conv2d\"))\n",
    "        model.add(LeakyReLU(alpha=0.2, name=\"\"))\n",
    "        model.add(Dropout(0.2, name=\"\"))\n",
    "\n",
    "        model.add(Conv2D(128, kernel_size=3, strides=1, padding=\"same\", name=\"\"))\n",
    "        model.add(LeakyReLU(alpha=0.2, name=\"\"))\n",
    "        model.add(Dropout(0.2, name=\"\"))\n",
    "\n",
    "        model.add(Conv2D(256, kernel_size=3, strides=1, padding=\"same\"))\n",
    "        model.add(LeakyReLU(alpha=0.2))\n",
    "        model.add(Dropout(0.2))\n",
    "\n",
    "        model.add(Conv2D(512, kernel_size=3, strides=1, padding=\"same\"))\n",
    "        model.add(LeakyReLU(alpha=0.2))\n",
    "        model.add(Dropout(0.2))\n",
    "\n",
    "        # Dense Layer\n",
    "        model.add(Flatten())\n",
    "        model.add(Dense(1))\n",
    "        model.add(Activation(\"sigmoid\"))\n",
    "\n",
    "        model.summary()\n",
    "\n",
    "    def build_generator(self):\n",
    "\n",
    "    def train(self, x_train, y_train, epochs, batch_size, save_path, save_interval=50):\n",
    "        '''\n",
    "        Train model and save generated image and loss during training process\n",
    "        Args:\n",
    "            x_train: ndarray, training images of x domain\n",
    "            y_train: ndarray, training images of y domain\n",
    "            epochs: int, training epochs\n",
    "            batch_size: int, training batch size\n",
    "            save_path: str, saving path for generated images during training process\n",
    "            save_interval: int, save generated images every save_interval, default=50\n",
    "        Returns:\n",
    "            None\n",
    "        '''"
   ]
  }
 ],
 "metadata": {
  "kernelspec": {
   "display_name": "Python 3",
   "language": "python",
   "name": "python3"
  },
  "language_info": {
   "codemirror_mode": {
    "name": "ipython",
    "version": 3
   },
   "file_extension": ".py",
   "mimetype": "text/x-python",
   "name": "python",
   "nbconvert_exporter": "python",
   "pygments_lexer": "ipython3",
   "version": "3.6.4"
  },
  "toc": {
   "base_numbering": 1,
   "nav_menu": {},
   "number_sections": true,
   "sideBar": true,
   "skip_h1_title": false,
   "title_cell": "Table of Contents",
   "title_sidebar": "Contents",
   "toc_cell": false,
   "toc_position": {
    "height": "calc(100% - 180px)",
    "left": "10px",
    "top": "150px",
    "width": "248px"
   },
   "toc_section_display": true,
   "toc_window_display": true
  },
  "varInspector": {
   "cols": {
    "lenName": 16,
    "lenType": 16,
    "lenVar": 40
   },
   "kernels_config": {
    "python": {
     "delete_cmd_postfix": "",
     "delete_cmd_prefix": "del ",
     "library": "var_list.py",
     "varRefreshCmd": "print(var_dic_list())"
    },
    "r": {
     "delete_cmd_postfix": ") ",
     "delete_cmd_prefix": "rm(",
     "library": "var_list.r",
     "varRefreshCmd": "cat(var_dic_list()) "
    }
   },
   "types_to_exclude": [
    "module",
    "function",
    "builtin_function_or_method",
    "instance",
    "_Feature"
   ],
   "window_display": false
  }
 },
 "nbformat": 4,
 "nbformat_minor": 2
}
