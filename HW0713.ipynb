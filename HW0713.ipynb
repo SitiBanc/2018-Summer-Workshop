{
 "cells": [
  {
   "cell_type": "markdown",
   "metadata": {},
   "source": [
    "# Seq2seq Chat-bot"
   ]
  },
  {
   "cell_type": "code",
   "execution_count": 1,
   "metadata": {
    "ExecuteTime": {
     "end_time": "2018-07-16T12:59:11.160061Z",
     "start_time": "2018-07-16T12:59:11.150720Z"
    }
   },
   "outputs": [
    {
     "data": {
      "text/plain": [
       "'\\nquestions = []\\nanswers = []\\nis_q = True\\ncounter = 0\\nwith open(\"clr_conversation.txt\", mode=\"r\") as f:\\n    for line in f:\\n        if is_q:\\n            questions.extend(line.strip().split())\\n            is_q = False\\n        else:\\n            answers.extend(line.strip().split())\\n            is_q = True\\n'"
      ]
     },
     "execution_count": 1,
     "metadata": {},
     "output_type": "execute_result"
    }
   ],
   "source": [
    "# Read training data\n",
    "'''\n",
    "questions = []\n",
    "answers = []\n",
    "is_q = True\n",
    "counter = 0\n",
    "with open(\"clr_conversation.txt\", mode=\"r\") as f:\n",
    "    for line in f:\n",
    "        if is_q:\n",
    "            questions.extend(line.strip().split())\n",
    "            is_q = False\n",
    "        else:\n",
    "            answers.extend(line.strip().split())\n",
    "            is_q = True\n",
    "'''"
   ]
  },
  {
   "cell_type": "markdown",
   "metadata": {},
   "source": [
    "# Seq2seq Transaltion\n",
    "\n",
    "ref\n",
    "- [keras blog](https://blog.keras.io/a-ten-minute-introduction-to-sequence-to-sequence-learning-in-keras.html)\n",
    "    - [github](https://github.com/keras-team/keras/blob/master/examples/lstm_seq2seq.py)"
   ]
  },
  {
   "cell_type": "code",
   "execution_count": 2,
   "metadata": {
    "ExecuteTime": {
     "end_time": "2018-07-16T12:59:12.262186Z",
     "start_time": "2018-07-16T12:59:11.161076Z"
    }
   },
   "outputs": [
    {
     "name": "stderr",
     "output_type": "stream",
     "text": [
      "/home/sitibanc/anaconda3/lib/python3.6/site-packages/h5py/__init__.py:36: FutureWarning: Conversion of the second argument of issubdtype from `float` to `np.floating` is deprecated. In future, it will be treated as `np.float64 == np.dtype(float).type`.\n",
      "  from ._conv import register_converters as _register_converters\n",
      "Using TensorFlow backend.\n"
     ]
    }
   ],
   "source": [
    "import numpy as np\n",
    "from matplotlib import pyplot as plt\n",
    "from keras.models import Model\n",
    "from keras.layers import *"
   ]
  },
  {
   "cell_type": "markdown",
   "metadata": {},
   "source": [
    "## Parameters"
   ]
  },
  {
   "cell_type": "code",
   "execution_count": 3,
   "metadata": {
    "ExecuteTime": {
     "end_time": "2018-07-16T12:59:12.266286Z",
     "start_time": "2018-07-16T12:59:12.263395Z"
    }
   },
   "outputs": [],
   "source": [
    "batch_size = 256  # Batch size for training.\n",
    "epochs = 100  # Number of epochs to train for.\n",
    "latent_dim = 256  # Latent dimensionality of the encoding space.\n",
    "num_samples = 10000  # Number of samples to train on.\n",
    "# Path to the data txt file on disk.\n",
    "data_path = \"fra.txt\""
   ]
  },
  {
   "cell_type": "markdown",
   "metadata": {},
   "source": [
    "## Data Preprocessing"
   ]
  },
  {
   "cell_type": "code",
   "execution_count": 4,
   "metadata": {
    "ExecuteTime": {
     "end_time": "2018-07-16T12:59:12.429448Z",
     "start_time": "2018-07-16T12:59:12.267332Z"
    }
   },
   "outputs": [],
   "source": [
    "# Vectorize the data.\n",
    "input_texts = []\n",
    "target_texts = []\n",
    "input_characters = set()\n",
    "target_characters = set()\n",
    "with open(data_path, \"r\", encoding=\"utf-8\") as f:\n",
    "    lines = f.read().split(\"\\n\") # txt format: ENG\\tFR\\n\n",
    "for line in lines[: min(num_samples, len(lines) - 1)]:\n",
    "    input_text, target_text = line.split(\"\\t\")    # Split x/y\n",
    "    # We use \"\\t\" as \"BOS\" token\n",
    "    # for the targets, and \"\\n\" as \"EOS\" token\n",
    "    target_text = \"\\t\" + target_text + \"\\n\"    # Add tokens\n",
    "    input_texts.append(input_text)\n",
    "    target_texts.append(target_text)\n",
    "    for char in input_text:\n",
    "        if char not in input_characters:\n",
    "            input_characters.add(char)\n",
    "    for char in target_text:\n",
    "        if char not in target_characters:\n",
    "            target_characters.add(char)"
   ]
  },
  {
   "cell_type": "code",
   "execution_count": 5,
   "metadata": {
    "ExecuteTime": {
     "end_time": "2018-07-16T12:59:12.441170Z",
     "start_time": "2018-07-16T12:59:12.430542Z"
    }
   },
   "outputs": [],
   "source": [
    "# set to list and sort\n",
    "input_characters = sorted(list(input_characters))\n",
    "target_characters = sorted(list(target_characters))\n",
    "# count input and target languages tokens (may be different)\n",
    "num_encoder_tokens = len(input_characters)\n",
    "num_decoder_tokens = len(target_characters)\n",
    "# count max sequence length of input and target language data respectively (may be different)\n",
    "max_encoder_seq_length = max([len(txt) for txt in input_texts])\n",
    "max_decoder_seq_length = max([len(txt) for txt in target_texts])"
   ]
  },
  {
   "cell_type": "code",
   "execution_count": 6,
   "metadata": {
    "ExecuteTime": {
     "end_time": "2018-07-16T12:59:12.517993Z",
     "start_time": "2018-07-16T12:59:12.442066Z"
    }
   },
   "outputs": [
    {
     "name": "stdout",
     "output_type": "stream",
     "text": [
      "Number of samples: 10000\n",
      "Number of unique input tokens: 71\n",
      "Number of unique output tokens: 94\n",
      "Max sequence length for inputs: 16\n",
      "Max sequence length for outputs: 59\n"
     ]
    }
   ],
   "source": [
    "print('Number of samples:', len(input_texts))\n",
    "print('Number of unique input tokens:', num_encoder_tokens)\n",
    "print('Number of unique output tokens:', num_decoder_tokens)\n",
    "print('Max sequence length for inputs:', max_encoder_seq_length)\n",
    "print('Max sequence length for outputs:', max_decoder_seq_length)"
   ]
  },
  {
   "cell_type": "code",
   "execution_count": 7,
   "metadata": {
    "ExecuteTime": {
     "end_time": "2018-07-16T12:59:12.598703Z",
     "start_time": "2018-07-16T12:59:12.521481Z"
    }
   },
   "outputs": [],
   "source": [
    "# Build (char2index) dictionary\n",
    "input_char2index = dict(\n",
    "    [(char, i) for i, char in enumerate(input_characters)])\n",
    "target_char2index = dict(\n",
    "[(char, i) for i, char in enumerate(target_characters)])"
   ]
  },
  {
   "cell_type": "code",
   "execution_count": 8,
   "metadata": {
    "ExecuteTime": {
     "end_time": "2018-07-16T12:59:12.850146Z",
     "start_time": "2018-07-16T12:59:12.603012Z"
    }
   },
   "outputs": [],
   "source": [
    "# One-hot Encoding\n",
    "encoder_input_data = np.zeros(\n",
    "    (len(input_texts), max_encoder_seq_length, num_encoder_tokens),\n",
    "    dtype='float32')\n",
    "decoder_input_data = np.zeros(\n",
    "    (len(input_texts), max_decoder_seq_length, num_decoder_tokens),\n",
    "    dtype='float32')\n",
    "decoder_target_data = np.zeros(\n",
    "    (len(input_texts), max_decoder_seq_length, num_decoder_tokens),\n",
    "    dtype='float32')\n",
    "\n",
    "for i, (input_text, target_text) in enumerate(zip(input_texts, target_texts)):    # zip to create (input, target) tuples\n",
    "    for t, char in enumerate(input_text):\n",
    "        encoder_input_data[i, t, input_char2index[char]] = 1.\n",
    "    for t, char in enumerate(target_text):\n",
    "        # decoder_target_data is ahead of decoder_input_data by one timestep\n",
    "        decoder_input_data[i, t, target_char2index[char]] = 1.\n",
    "        if t > 0:\n",
    "            # decoder_target_data will be ahead by one timestep\n",
    "            # and will not include the start character.\n",
    "            decoder_target_data[i, t - 1, target_char2index[char]] = 1."
   ]
  },
  {
   "cell_type": "markdown",
   "metadata": {},
   "source": [
    "## Build Model"
   ]
  },
  {
   "cell_type": "code",
   "execution_count": 9,
   "metadata": {
    "ExecuteTime": {
     "end_time": "2018-07-16T12:59:13.189030Z",
     "start_time": "2018-07-16T12:59:12.851222Z"
    }
   },
   "outputs": [
    {
     "name": "stdout",
     "output_type": "stream",
     "text": [
      "__________________________________________________________________________________________________\n",
      "Layer (type)                    Output Shape         Param #     Connected to                     \n",
      "==================================================================================================\n",
      "encoder_input (InputLayer)      (None, None, 71)     0                                            \n",
      "__________________________________________________________________________________________________\n",
      "decoder_input (InputLayer)      (None, None, 94)     0                                            \n",
      "__________________________________________________________________________________________________\n",
      "encoder_lstm (LSTM)             [(None, 256), (None, 335872      encoder_input[0][0]              \n",
      "__________________________________________________________________________________________________\n",
      "decoder_lstm (LSTM)             [(None, None, 256),  359424      decoder_input[0][0]              \n",
      "                                                                 encoder_lstm[0][1]               \n",
      "                                                                 encoder_lstm[0][2]               \n",
      "__________________________________________________________________________________________________\n",
      "decoder_output (Dense)          (None, None, 94)     24158       decoder_lstm[0][0]               \n",
      "==================================================================================================\n",
      "Total params: 719,454\n",
      "Trainable params: 719,454\n",
      "Non-trainable params: 0\n",
      "__________________________________________________________________________________________________\n"
     ]
    }
   ],
   "source": [
    "# Define an input sequence and process it.\n",
    "encoder_inputs = Input(shape=(None, num_encoder_tokens), name=\"encoder_input\")    # 16*71\n",
    "encoder_outputs, state_h, state_c = LSTM(latent_dim, return_state=True, name=\"encoder_lstm\")(encoder_inputs)    # 16*256, 16*256, 16*256\n",
    "# We discard `encoder_outputs` and only keep the states.\n",
    "encoder_states = [state_h, state_c]\n",
    "\n",
    "# Set up the decoder, using `encoder_states` as initial state.\n",
    "decoder_inputs = Input(shape=(None, num_decoder_tokens), name=\"decoder_input\")    # 59*94\n",
    "decoder_outputs, _, _ = LSTM(latent_dim, return_sequences=True, return_state=True, name=\"decoder_lstm\")(decoder_inputs, initial_state=encoder_states)    # 59*256\n",
    "decoder_outputs = Dense(num_decoder_tokens, activation=\"softmax\", name=\"decoder_output\")(decoder_outputs)    # 59*94\n",
    "\n",
    "# Define the model that will turn\n",
    "# `encoder_input_data` & `decoder_input_data` into `decoder_target_data`\n",
    "model = Model([encoder_inputs, decoder_inputs], decoder_outputs, name=\"seq2seq\")\n",
    "\n",
    "model.summary()"
   ]
  },
  {
   "cell_type": "markdown",
   "metadata": {},
   "source": [
    "## Train Model"
   ]
  },
  {
   "cell_type": "code",
   "execution_count": null,
   "metadata": {
    "ExecuteTime": {
     "start_time": "2018-07-16T12:59:11.155Z"
    }
   },
   "outputs": [
    {
     "name": "stdout",
     "output_type": "stream",
     "text": [
      "Train on 9000 samples, validate on 1000 samples\n",
      "Epoch 1/100\n",
      "9000/9000 [==============================] - 23s 3ms/step - loss: 1.1266 - val_loss: 1.1404\n",
      "Epoch 2/100\n",
      "9000/9000 [==============================] - 22s 2ms/step - loss: 0.9336 - val_loss: 1.0979\n",
      "Epoch 3/100\n",
      "9000/9000 [==============================] - 23s 3ms/step - loss: 0.8994 - val_loss: 1.0506\n",
      "Epoch 4/100\n",
      "9000/9000 [==============================] - 23s 3ms/step - loss: 0.8507 - val_loss: 0.9840\n",
      "Epoch 5/100\n",
      "9000/9000 [==============================] - 23s 3ms/step - loss: 0.7813 - val_loss: 0.9085\n",
      "Epoch 6/100\n",
      "9000/9000 [==============================] - 23s 3ms/step - loss: 0.7202 - val_loss: 0.8604\n",
      "Epoch 7/100\n",
      "9000/9000 [==============================] - 23s 3ms/step - loss: 0.6752 - val_loss: 0.8102\n",
      "Epoch 8/100\n",
      "9000/9000 [==============================] - 23s 3ms/step - loss: 0.6422 - val_loss: 0.7869\n",
      "Epoch 9/100\n",
      "9000/9000 [==============================] - 23s 3ms/step - loss: 0.6167 - val_loss: 0.7622\n",
      "Epoch 10/100\n",
      "9000/9000 [==============================] - 23s 3ms/step - loss: 0.5959 - val_loss: 0.7366\n",
      "Epoch 11/100\n",
      "9000/9000 [==============================] - 23s 3ms/step - loss: 0.5788 - val_loss: 0.7152\n",
      "Epoch 12/100\n",
      "9000/9000 [==============================] - 23s 3ms/step - loss: 0.5619 - val_loss: 0.7038\n",
      "Epoch 13/100\n",
      "9000/9000 [==============================] - 23s 3ms/step - loss: 0.5478 - val_loss: 0.6894\n",
      "Epoch 14/100\n",
      "9000/9000 [==============================] - 23s 3ms/step - loss: 0.5361 - val_loss: 0.6763\n",
      "Epoch 15/100\n",
      "9000/9000 [==============================] - 23s 3ms/step - loss: 0.5253 - val_loss: 0.6695\n",
      "Epoch 16/100\n",
      "9000/9000 [==============================] - 23s 3ms/step - loss: 0.5139 - val_loss: 0.6577\n",
      "Epoch 17/100\n",
      "9000/9000 [==============================] - 23s 3ms/step - loss: 0.5030 - val_loss: 0.6461\n",
      "Epoch 18/100\n",
      "9000/9000 [==============================] - 23s 3ms/step - loss: 0.4936 - val_loss: 0.6380\n",
      "Epoch 19/100\n",
      "9000/9000 [==============================] - 23s 3ms/step - loss: 0.4840 - val_loss: 0.6288\n",
      "Epoch 20/100\n",
      "9000/9000 [==============================] - 23s 3ms/step - loss: 0.4755 - val_loss: 0.6247\n",
      "Epoch 21/100\n",
      "9000/9000 [==============================] - 23s 3ms/step - loss: 0.4707 - val_loss: 0.6137\n",
      "Epoch 22/100\n",
      "9000/9000 [==============================] - 23s 3ms/step - loss: 0.4610 - val_loss: 0.6066\n",
      "Epoch 23/100\n",
      "9000/9000 [==============================] - 23s 3ms/step - loss: 0.4541 - val_loss: 0.6001\n",
      "Epoch 24/100\n",
      "9000/9000 [==============================] - 23s 3ms/step - loss: 0.4473 - val_loss: 0.5971\n",
      "Epoch 25/100\n",
      "9000/9000 [==============================] - 23s 3ms/step - loss: 0.4403 - val_loss: 0.5999\n",
      "Epoch 26/100\n",
      "9000/9000 [==============================] - 23s 3ms/step - loss: 0.4355 - val_loss: 0.5869\n",
      "Epoch 27/100\n",
      "9000/9000 [==============================] - 23s 3ms/step - loss: 0.4289 - val_loss: 0.5811\n",
      "Epoch 28/100\n",
      "9000/9000 [==============================] - 23s 3ms/step - loss: 0.4231 - val_loss: 0.5794\n",
      "Epoch 29/100\n",
      "9000/9000 [==============================] - 23s 3ms/step - loss: 0.4178 - val_loss: 0.5710\n",
      "Epoch 30/100\n",
      "9000/9000 [==============================] - 23s 3ms/step - loss: 0.4127 - val_loss: 0.5723\n",
      "Epoch 31/100\n",
      "9000/9000 [==============================] - 23s 3ms/step - loss: 0.4087 - val_loss: 0.5650\n",
      "Epoch 32/100\n",
      "9000/9000 [==============================] - 23s 3ms/step - loss: 0.4030 - val_loss: 0.5627\n",
      "Epoch 33/100\n",
      "9000/9000 [==============================] - 23s 3ms/step - loss: 0.3991 - val_loss: 0.5571\n",
      "Epoch 34/100\n",
      "9000/9000 [==============================] - 23s 3ms/step - loss: 0.3932 - val_loss: 0.5557\n",
      "Epoch 35/100\n",
      "9000/9000 [==============================] - 23s 3ms/step - loss: 0.3897 - val_loss: 0.5506\n",
      "Epoch 36/100\n",
      "9000/9000 [==============================] - 23s 3ms/step - loss: 0.3848 - val_loss: 0.5485\n",
      "Epoch 37/100\n",
      "9000/9000 [==============================] - 23s 3ms/step - loss: 0.3817 - val_loss: 0.5459\n",
      "Epoch 38/100\n",
      "9000/9000 [==============================] - 23s 3ms/step - loss: 0.3764 - val_loss: 0.5425\n",
      "Epoch 39/100\n",
      "9000/9000 [==============================] - 23s 3ms/step - loss: 0.3721 - val_loss: 0.5386\n",
      "Epoch 40/100\n",
      "9000/9000 [==============================] - 23s 3ms/step - loss: 0.3672 - val_loss: 0.5353\n",
      "Epoch 41/100\n",
      "9000/9000 [==============================] - 23s 3ms/step - loss: 0.3642 - val_loss: 0.5327\n",
      "Epoch 42/100\n",
      "9000/9000 [==============================] - 23s 3ms/step - loss: 0.3604 - val_loss: 0.5320\n",
      "Epoch 43/100\n",
      "9000/9000 [==============================] - 23s 3ms/step - loss: 0.3564 - val_loss: 0.5277\n",
      "Epoch 44/100\n",
      "9000/9000 [==============================] - 23s 3ms/step - loss: 0.3519 - val_loss: 0.5273\n",
      "Epoch 45/100\n",
      "9000/9000 [==============================] - 23s 3ms/step - loss: 0.3498 - val_loss: 0.5230\n",
      "Epoch 46/100\n",
      "9000/9000 [==============================] - 23s 3ms/step - loss: 0.3457 - val_loss: 0.5219\n",
      "Epoch 47/100\n",
      "9000/9000 [==============================] - 23s 3ms/step - loss: 0.3410 - val_loss: 0.5274\n",
      "Epoch 48/100\n",
      "9000/9000 [==============================] - 23s 3ms/step - loss: 0.3390 - val_loss: 0.5174\n",
      "Epoch 49/100\n",
      "9000/9000 [==============================] - 23s 3ms/step - loss: 0.3346 - val_loss: 0.5184\n",
      "Epoch 50/100\n",
      "9000/9000 [==============================] - 23s 3ms/step - loss: 0.3315 - val_loss: 0.5194\n",
      "Epoch 51/100\n",
      "9000/9000 [==============================] - 23s 3ms/step - loss: 0.3286 - val_loss: 0.5186\n",
      "Epoch 52/100\n",
      "9000/9000 [==============================] - 23s 3ms/step - loss: 0.3244 - val_loss: 0.5149\n",
      "Epoch 53/100\n",
      "9000/9000 [==============================] - 23s 3ms/step - loss: 0.3210 - val_loss: 0.5132\n",
      "Epoch 54/100\n",
      "9000/9000 [==============================] - 23s 3ms/step - loss: 0.3176 - val_loss: 0.5173\n",
      "Epoch 55/100\n",
      "9000/9000 [==============================] - 23s 3ms/step - loss: 0.3167 - val_loss: 0.5117\n",
      "Epoch 56/100\n",
      "9000/9000 [==============================] - 23s 3ms/step - loss: 0.3117 - val_loss: 0.5097\n",
      "Epoch 57/100\n",
      "9000/9000 [==============================] - 23s 3ms/step - loss: 0.3079 - val_loss: 0.5114\n",
      "Epoch 58/100\n",
      "9000/9000 [==============================] - 23s 3ms/step - loss: 0.3046 - val_loss: 0.5112\n",
      "Epoch 59/100\n",
      "9000/9000 [==============================] - 23s 3ms/step - loss: 0.3030 - val_loss: 0.5091\n",
      "Epoch 60/100\n",
      "9000/9000 [==============================] - 23s 3ms/step - loss: 0.3004 - val_loss: 0.5100\n",
      "Epoch 61/100\n",
      "9000/9000 [==============================] - 23s 3ms/step - loss: 0.2968 - val_loss: 0.5092\n",
      "Epoch 62/100\n",
      "9000/9000 [==============================] - 23s 3ms/step - loss: 0.2944 - val_loss: 0.5091\n",
      "Epoch 63/100\n",
      "9000/9000 [==============================] - 23s 3ms/step - loss: 0.2907 - val_loss: 0.5062\n",
      "Epoch 64/100\n",
      "9000/9000 [==============================] - 23s 3ms/step - loss: 0.2879 - val_loss: 0.5054\n",
      "Epoch 65/100\n",
      "9000/9000 [==============================] - 23s 3ms/step - loss: 0.2851 - val_loss: 0.5059\n",
      "Epoch 66/100\n",
      "9000/9000 [==============================] - 23s 3ms/step - loss: 0.2821 - val_loss: 0.5048\n",
      "Epoch 67/100\n",
      "9000/9000 [==============================] - 23s 3ms/step - loss: 0.2792 - val_loss: 0.5054\n",
      "Epoch 68/100\n",
      "9000/9000 [==============================] - 23s 3ms/step - loss: 0.2767 - val_loss: 0.5047\n",
      "Epoch 69/100\n",
      "9000/9000 [==============================] - 23s 3ms/step - loss: 0.2740 - val_loss: 0.5086\n",
      "Epoch 70/100\n",
      "9000/9000 [==============================] - 23s 3ms/step - loss: 0.2706 - val_loss: 0.5060\n",
      "Epoch 71/100\n",
      "9000/9000 [==============================] - 23s 3ms/step - loss: 0.2685 - val_loss: 0.5041\n",
      "Epoch 72/100\n",
      "9000/9000 [==============================] - 23s 3ms/step - loss: 0.2667 - val_loss: 0.5069\n",
      "Epoch 73/100\n",
      "9000/9000 [==============================] - 23s 3ms/step - loss: 0.2629 - val_loss: 0.5071\n",
      "Epoch 74/100\n",
      "9000/9000 [==============================] - 23s 3ms/step - loss: 0.2613 - val_loss: 0.5071\n",
      "Epoch 75/100\n",
      "9000/9000 [==============================] - 23s 3ms/step - loss: 0.2577 - val_loss: 0.5079\n",
      "Epoch 76/100\n",
      "3328/9000 [==========>...................] - ETA: 13s - loss: 0.2512"
     ]
    }
   ],
   "source": [
    "model.compile(optimizer=\"adam\", loss=\"categorical_crossentropy\")\n",
    "history = model.fit([encoder_input_data, decoder_input_data], decoder_target_data,\n",
    "          batch_size=batch_size,\n",
    "          epochs=epochs,\n",
    "          validation_split=0.1)"
   ]
  },
  {
   "cell_type": "code",
   "execution_count": null,
   "metadata": {
    "ExecuteTime": {
     "start_time": "2018-07-16T12:59:11.158Z"
    }
   },
   "outputs": [],
   "source": [
    "# Save model\n",
    "model.save(\"seq2seq-translate.h5\")"
   ]
  },
  {
   "cell_type": "markdown",
   "metadata": {},
   "source": [
    "## Inference"
   ]
  },
  {
   "cell_type": "code",
   "execution_count": null,
   "metadata": {
    "ExecuteTime": {
     "start_time": "2018-07-16T12:59:11.161Z"
    }
   },
   "outputs": [],
   "source": [
    "# Define Encoder & Decoder Model\n",
    "encoder_model = Model(encoder_inputs, encoder_states, name=\"Encoder\")\n",
    "\n",
    "decoder_state_input_h = Input(shape=(latent_dim,), name=\"hidden_state_input\")\n",
    "decoder_state_input_c = Input(shape=(latent_dim,), name=\"memory_cell_input\")\n",
    "decoder_states_inputs = [decoder_state_input_h, decoder_state_input_c]    # decoder initial states\n",
    "decoder_outputs, state_h, state_c = model.get_layer(\"decoder_lstm\")(decoder_inputs, initial_state=decoder_states_inputs)\n",
    "decoder_states = [state_h, state_c]\n",
    "decoder_outputs = model.get_layer(\"decoder_output\")(decoder_outputs)\n",
    "decoder_model = Model([decoder_inputs] + decoder_states_inputs, [decoder_outputs] + decoder_states, name=\"Decoder\")"
   ]
  },
  {
   "cell_type": "code",
   "execution_count": null,
   "metadata": {
    "ExecuteTime": {
     "start_time": "2018-07-16T12:59:11.163Z"
    }
   },
   "outputs": [],
   "source": [
    "# Build (index2char) dictionary for reverse lookup\n",
    "input_index2char = dict(\n",
    "    (i, char) for char, i in input_char2index.items())\n",
    "target_index2char = dict(\n",
    "    (i, char) for char, i in target_char2index.items())"
   ]
  },
  {
   "cell_type": "code",
   "execution_count": null,
   "metadata": {
    "ExecuteTime": {
     "start_time": "2018-07-16T12:59:11.165Z"
    }
   },
   "outputs": [],
   "source": [
    "def decode_sequence(input_seq):\n",
    "    '''\n",
    "    Args:\n",
    "        input_seq: ndarray, encoder input\n",
    "    '''\n",
    "    # Encode the input as state vectors.\n",
    "    # Get (initial) state value from encoder give input_seq\n",
    "    states_value = encoder_model.predict(input_seq)\n",
    "\n",
    "    # Generate empty target sequence of length 1. (1 sentence, 1 char which is a num_decoder_tokens vector)\n",
    "    target_seq = np.zeros((1, 1, num_decoder_tokens))\n",
    "    # Populate the first character of target sequence with the start character (<BOS> token).\n",
    "    target_seq[0, 0, target_char2index['\\t']] = 1.\n",
    "\n",
    "    # Sampling loop for a batch of sequences\n",
    "    # (to simplify, here we assume a batch of size 1).\n",
    "    stop_condition = False\n",
    "    decoded_sentence = ''\n",
    "    while not stop_condition:\n",
    "        # Get prediction(along with hidden state h, and memory cell c) from decoder (character-wise)\n",
    "        output_tokens, h, c = decoder_model.predict([target_seq] + states_value)\n",
    "\n",
    "        # Sample a token\n",
    "        sampled_token_index = np.argmax(output_tokens[0, -1, :])\n",
    "        sampled_char = target_index2char[sampled_token_index]    # lookup from index2char dict\n",
    "        decoded_sentence += sampled_char\n",
    "\n",
    "        # Exit condition: either hit max length\n",
    "        # or find stop character.\n",
    "        if (sampled_char == \"\\n\" or len(decoded_sentence) > max_decoder_seq_length):\n",
    "            stop_condition = True\n",
    "\n",
    "        # Update the target sequence (of length 1).\n",
    "        target_seq = np.zeros((1, 1, num_decoder_tokens))\n",
    "        target_seq[0, 0, sampled_token_index] = 1.\n",
    "        #target_seq = output_tokens\n",
    "\n",
    "        # Update states\n",
    "        states_value = [h, c]\n",
    "\n",
    "    return decoded_sentence"
   ]
  },
  {
   "cell_type": "code",
   "execution_count": null,
   "metadata": {
    "ExecuteTime": {
     "start_time": "2018-07-16T12:59:11.168Z"
    }
   },
   "outputs": [],
   "source": [
    "for seq_index in range(50):\n",
    "    # Take one sequence (from training data)\n",
    "    input_seq = encoder_input_data[seq_index: seq_index + 1]\n",
    "    decoded_sentence = decode_sequence(input_seq)\n",
    "    print('-')\n",
    "    print('Input sentence:', input_texts[seq_index])\n",
    "    print('Decoded sentence:', decoded_sentence)"
   ]
  },
  {
   "cell_type": "markdown",
   "metadata": {},
   "source": [
    "## Test"
   ]
  },
  {
   "cell_type": "code",
   "execution_count": null,
   "metadata": {
    "ExecuteTime": {
     "start_time": "2018-07-16T12:59:11.170Z"
    }
   },
   "outputs": [],
   "source": [
    "test_seq = \"You\"\n",
    "# One-hot Encoding\n",
    "onehot_test_seq = np.zeros((1, max_encoder_seq_length, num_encoder_tokens), dtype='float32')\n",
    "for t, char in enumerate(test_seq):\n",
    "    onehot_test_seq[0, t, input_token_index[char]] = 1.\n",
    "\n",
    "decoded_sentence = decode_sequence(onehot_test_seq)\n",
    "print('Input sentence:', test_seq)\n",
    "print('Decoded sentence:', decoded_sentence)"
   ]
  }
 ],
 "metadata": {
  "kernelspec": {
   "display_name": "Python 3",
   "language": "python",
   "name": "python3"
  },
  "language_info": {
   "codemirror_mode": {
    "name": "ipython",
    "version": 3
   },
   "file_extension": ".py",
   "mimetype": "text/x-python",
   "name": "python",
   "nbconvert_exporter": "python",
   "pygments_lexer": "ipython3",
   "version": "3.6.4"
  },
  "toc": {
   "base_numbering": 1,
   "nav_menu": {},
   "number_sections": true,
   "sideBar": true,
   "skip_h1_title": false,
   "title_cell": "Table of Contents",
   "title_sidebar": "Contents",
   "toc_cell": false,
   "toc_position": {
    "height": "calc(100% - 180px)",
    "left": "10px",
    "top": "150px",
    "width": "190px"
   },
   "toc_section_display": true,
   "toc_window_display": true
  },
  "varInspector": {
   "cols": {
    "lenName": 16,
    "lenType": 16,
    "lenVar": 40
   },
   "kernels_config": {
    "python": {
     "delete_cmd_postfix": "",
     "delete_cmd_prefix": "del ",
     "library": "var_list.py",
     "varRefreshCmd": "print(var_dic_list())"
    },
    "r": {
     "delete_cmd_postfix": ") ",
     "delete_cmd_prefix": "rm(",
     "library": "var_list.r",
     "varRefreshCmd": "cat(var_dic_list()) "
    }
   },
   "oldHeight": 156,
   "position": {
    "height": "178px",
    "left": "1163px",
    "right": "61px",
    "top": "0px",
    "width": "696px"
   },
   "types_to_exclude": [
    "module",
    "function",
    "builtin_function_or_method",
    "instance",
    "_Feature"
   ],
   "varInspector_section_display": "block",
   "window_display": true
  }
 },
 "nbformat": 4,
 "nbformat_minor": 2
}
