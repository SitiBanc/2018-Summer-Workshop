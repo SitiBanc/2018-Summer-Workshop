{
 "cells": [
  {
   "cell_type": "markdown",
   "metadata": {},
   "source": [
    "# Seq2seq Chat-bot"
   ]
  },
  {
   "cell_type": "code",
   "execution_count": 1,
   "metadata": {
    "ExecuteTime": {
     "end_time": "2018-07-17T08:49:21.880051Z",
     "start_time": "2018-07-17T08:49:21.873330Z"
    }
   },
   "outputs": [
    {
     "data": {
      "text/plain": [
       "'\\nquestions = []\\nanswers = []\\nis_q = True\\ncounter = 0\\nwith open(\"clr_conversation.txt\", mode=\"r\") as f:\\n    for line in f:\\n        if is_q:\\n            questions.extend(line.strip().split())\\n            is_q = False\\n        else:\\n            answers.extend(line.strip().split())\\n            is_q = True\\n'"
      ]
     },
     "execution_count": 1,
     "metadata": {},
     "output_type": "execute_result"
    }
   ],
   "source": [
    "# Read training data\n",
    "'''\n",
    "questions = []\n",
    "answers = []\n",
    "is_q = True\n",
    "counter = 0\n",
    "with open(\"clr_conversation.txt\", mode=\"r\") as f:\n",
    "    for line in f:\n",
    "        if is_q:\n",
    "            questions.extend(line.strip().split())\n",
    "            is_q = False\n",
    "        else:\n",
    "            answers.extend(line.strip().split())\n",
    "            is_q = True\n",
    "'''"
   ]
  },
  {
   "cell_type": "markdown",
   "metadata": {},
   "source": [
    "# Seq2seq Transaltion\n",
    "\n",
    "ref\n",
    "- [keras blog](https://blog.keras.io/a-ten-minute-introduction-to-sequence-to-sequence-learning-in-keras.html)\n",
    "    - [github](https://github.com/keras-team/keras/blob/master/examples/lstm_seq2seq.py)"
   ]
  },
  {
   "cell_type": "code",
   "execution_count": 2,
   "metadata": {
    "ExecuteTime": {
     "end_time": "2018-07-17T08:49:34.006921Z",
     "start_time": "2018-07-17T08:49:21.881113Z"
    }
   },
   "outputs": [
    {
     "name": "stderr",
     "output_type": "stream",
     "text": [
      "/home/sitibanc/anaconda3/lib/python3.6/site-packages/h5py/__init__.py:36: FutureWarning: Conversion of the second argument of issubdtype from `float` to `np.floating` is deprecated. In future, it will be treated as `np.float64 == np.dtype(float).type`.\n",
      "  from ._conv import register_converters as _register_converters\n",
      "Using TensorFlow backend.\n"
     ]
    }
   ],
   "source": [
    "import numpy as np\n",
    "from matplotlib import pyplot as plt\n",
    "from keras.models import Model\n",
    "from keras.layers import *"
   ]
  },
  {
   "cell_type": "markdown",
   "metadata": {},
   "source": [
    "## Parameters"
   ]
  },
  {
   "cell_type": "code",
   "execution_count": 3,
   "metadata": {
    "ExecuteTime": {
     "end_time": "2018-07-17T08:49:34.023508Z",
     "start_time": "2018-07-17T08:49:34.011753Z"
    }
   },
   "outputs": [],
   "source": [
    "batch_size = 256  # Batch size for training.\n",
    "epochs = 100  # Number of epochs to train for.\n",
    "latent_dim = 256  # Latent dimensionality of the encoding space.\n",
    "num_samples = 10000  # Number of samples to train on.\n",
    "# Path to the data txt file on disk.\n",
    "data_path = \"fra.txt\""
   ]
  },
  {
   "cell_type": "markdown",
   "metadata": {},
   "source": [
    "## Data Preprocessing"
   ]
  },
  {
   "cell_type": "code",
   "execution_count": 4,
   "metadata": {
    "ExecuteTime": {
     "end_time": "2018-07-17T08:49:34.349689Z",
     "start_time": "2018-07-17T08:49:34.029045Z"
    }
   },
   "outputs": [],
   "source": [
    "# Vectorize the data.\n",
    "input_texts = []\n",
    "target_texts = []\n",
    "input_characters = set()\n",
    "target_characters = set()\n",
    "with open(data_path, \"r\", encoding=\"utf-8\") as f:\n",
    "    lines = f.read().split(\"\\n\") # txt format: ENG\\tFR\\n\n",
    "for line in lines[: min(num_samples, len(lines) - 1)]:\n",
    "    input_text, target_text = line.split(\"\\t\")    # Split x/y\n",
    "    # We use \"\\t\" as \"BOS\" token\n",
    "    # for the targets, and \"\\n\" as \"EOS\" token\n",
    "    target_text = \"\\t\" + target_text + \"\\n\"    # Add tokens\n",
    "    input_texts.append(input_text)\n",
    "    target_texts.append(target_text)\n",
    "    for char in input_text:\n",
    "        if char not in input_characters:\n",
    "            input_characters.add(char)\n",
    "    for char in target_text:\n",
    "        if char not in target_characters:\n",
    "            target_characters.add(char)"
   ]
  },
  {
   "cell_type": "code",
   "execution_count": 5,
   "metadata": {
    "ExecuteTime": {
     "end_time": "2018-07-17T08:49:34.359737Z",
     "start_time": "2018-07-17T08:49:34.351093Z"
    }
   },
   "outputs": [],
   "source": [
    "# set to list and sort\n",
    "input_characters = sorted(list(input_characters))\n",
    "target_characters = sorted(list(target_characters))\n",
    "# count input and target languages tokens (may be different)\n",
    "num_encoder_tokens = len(input_characters)\n",
    "num_decoder_tokens = len(target_characters)\n",
    "# count max sequence length of input and target language data respectively (may be different)\n",
    "max_encoder_seq_length = max([len(txt) for txt in input_texts])\n",
    "max_decoder_seq_length = max([len(txt) for txt in target_texts])"
   ]
  },
  {
   "cell_type": "code",
   "execution_count": 6,
   "metadata": {
    "ExecuteTime": {
     "end_time": "2018-07-17T08:49:34.454767Z",
     "start_time": "2018-07-17T08:49:34.360747Z"
    }
   },
   "outputs": [
    {
     "name": "stdout",
     "output_type": "stream",
     "text": [
      "Number of samples: 10000\n",
      "Number of unique input tokens: 71\n",
      "Number of unique output tokens: 94\n",
      "Max sequence length for inputs: 16\n",
      "Max sequence length for outputs: 59\n"
     ]
    }
   ],
   "source": [
    "print('Number of samples:', len(input_texts))\n",
    "print('Number of unique input tokens:', num_encoder_tokens)\n",
    "print('Number of unique output tokens:', num_decoder_tokens)\n",
    "print('Max sequence length for inputs:', max_encoder_seq_length)\n",
    "print('Max sequence length for outputs:', max_decoder_seq_length)"
   ]
  },
  {
   "cell_type": "code",
   "execution_count": 7,
   "metadata": {
    "ExecuteTime": {
     "end_time": "2018-07-17T08:49:34.534864Z",
     "start_time": "2018-07-17T08:49:34.460907Z"
    }
   },
   "outputs": [],
   "source": [
    "# Build (char2index) dictionary\n",
    "input_char2index = dict(\n",
    "    [(char, i) for i, char in enumerate(input_characters)])\n",
    "target_char2index = dict(\n",
    "[(char, i) for i, char in enumerate(target_characters)])"
   ]
  },
  {
   "cell_type": "code",
   "execution_count": 8,
   "metadata": {
    "ExecuteTime": {
     "end_time": "2018-07-17T08:49:34.808441Z",
     "start_time": "2018-07-17T08:49:34.539124Z"
    }
   },
   "outputs": [],
   "source": [
    "# One-hot Encoding\n",
    "encoder_input_data = np.zeros(\n",
    "    (len(input_texts), max_encoder_seq_length, num_encoder_tokens),\n",
    "    dtype='float32')\n",
    "decoder_input_data = np.zeros(\n",
    "    (len(input_texts), max_decoder_seq_length, num_decoder_tokens),\n",
    "    dtype='float32')\n",
    "decoder_target_data = np.zeros(\n",
    "    (len(input_texts), max_decoder_seq_length, num_decoder_tokens),\n",
    "    dtype='float32')\n",
    "\n",
    "for i, (input_text, target_text) in enumerate(zip(input_texts, target_texts)):    # zip to create (input, target) tuples\n",
    "    for t, char in enumerate(input_text):\n",
    "        encoder_input_data[i, t, input_char2index[char]] = 1.\n",
    "    for t, char in enumerate(target_text):\n",
    "        # decoder_target_data is ahead of decoder_input_data by one timestep\n",
    "        decoder_input_data[i, t, target_char2index[char]] = 1.\n",
    "        if t > 0:\n",
    "            # decoder_target_data will be ahead by one timestep\n",
    "            # and will not include the start character.\n",
    "            decoder_target_data[i, t - 1, target_char2index[char]] = 1."
   ]
  },
  {
   "cell_type": "markdown",
   "metadata": {},
   "source": [
    "## Build Model"
   ]
  },
  {
   "cell_type": "code",
   "execution_count": 9,
   "metadata": {
    "ExecuteTime": {
     "end_time": "2018-07-17T08:49:35.823862Z",
     "start_time": "2018-07-17T08:49:34.809446Z"
    }
   },
   "outputs": [
    {
     "name": "stdout",
     "output_type": "stream",
     "text": [
      "__________________________________________________________________________________________________\n",
      "Layer (type)                    Output Shape         Param #     Connected to                     \n",
      "==================================================================================================\n",
      "encoder_input (InputLayer)      (None, None, 71)     0                                            \n",
      "__________________________________________________________________________________________________\n",
      "decoder_input (InputLayer)      (None, None, 94)     0                                            \n",
      "__________________________________________________________________________________________________\n",
      "encoder_lstm (LSTM)             [(None, 256), (None, 335872      encoder_input[0][0]              \n",
      "__________________________________________________________________________________________________\n",
      "decoder_lstm (LSTM)             [(None, None, 256),  359424      decoder_input[0][0]              \n",
      "                                                                 encoder_lstm[0][1]               \n",
      "                                                                 encoder_lstm[0][2]               \n",
      "__________________________________________________________________________________________________\n",
      "decoder_output (Dense)          (None, None, 94)     24158       decoder_lstm[0][0]               \n",
      "==================================================================================================\n",
      "Total params: 719,454\n",
      "Trainable params: 719,454\n",
      "Non-trainable params: 0\n",
      "__________________________________________________________________________________________________\n"
     ]
    }
   ],
   "source": [
    "# Define an input sequence and process it.\n",
    "encoder_inputs = Input(shape=(None, num_encoder_tokens), name=\"encoder_input\")    # 16*71\n",
    "encoder_outputs, state_h, state_c = LSTM(latent_dim, return_state=True, name=\"encoder_lstm\")(encoder_inputs)    # 16*256, 16*256, 16*256\n",
    "# We discard `encoder_outputs` and only keep the states.\n",
    "encoder_states = [state_h, state_c]\n",
    "\n",
    "# Set up the decoder, using `encoder_states` as initial state.\n",
    "decoder_inputs = Input(shape=(None, num_decoder_tokens), name=\"decoder_input\")    # 59*94\n",
    "decoder_outputs, _, _ = LSTM(latent_dim, return_sequences=True, return_state=True, name=\"decoder_lstm\")(decoder_inputs, initial_state=encoder_states)    # 59*256\n",
    "decoder_outputs = Dense(num_decoder_tokens, activation=\"softmax\", name=\"decoder_output\")(decoder_outputs)    # 59*94\n",
    "\n",
    "# Define the model that will turn\n",
    "# `encoder_input_data` & `decoder_input_data` into `decoder_target_data`\n",
    "model = Model([encoder_inputs, decoder_inputs], decoder_outputs, name=\"seq2seq\")\n",
    "\n",
    "model.summary()"
   ]
  },
  {
   "cell_type": "markdown",
   "metadata": {},
   "source": [
    "## Train Model"
   ]
  },
  {
   "cell_type": "code",
   "execution_count": 10,
   "metadata": {
    "ExecuteTime": {
     "end_time": "2018-07-17T09:27:28.882651Z",
     "start_time": "2018-07-17T08:49:35.824803Z"
    },
    "scrolled": true
   },
   "outputs": [
    {
     "name": "stdout",
     "output_type": "stream",
     "text": [
      "Train on 9000 samples, validate on 1000 samples\n",
      "Epoch 1/100\n",
      "9000/9000 [==============================] - 24s 3ms/step - loss: 1.1334 - val_loss: 1.1457\n",
      "Epoch 2/100\n",
      "9000/9000 [==============================] - 22s 2ms/step - loss: 0.9364 - val_loss: 1.1066\n",
      "Epoch 3/100\n",
      "9000/9000 [==============================] - 23s 3ms/step - loss: 0.8983 - val_loss: 1.0524\n",
      "Epoch 4/100\n",
      "9000/9000 [==============================] - 23s 3ms/step - loss: 0.8459 - val_loss: 0.9794\n",
      "Epoch 5/100\n",
      "9000/9000 [==============================] - 23s 3ms/step - loss: 0.7816 - val_loss: 0.9065\n",
      "Epoch 6/100\n",
      "9000/9000 [==============================] - 23s 3ms/step - loss: 0.7281 - val_loss: 0.8665\n",
      "Epoch 7/100\n",
      "9000/9000 [==============================] - 23s 3ms/step - loss: 0.6864 - val_loss: 0.8258\n",
      "Epoch 8/100\n",
      "9000/9000 [==============================] - 23s 3ms/step - loss: 0.6523 - val_loss: 0.7917\n",
      "Epoch 9/100\n",
      "9000/9000 [==============================] - 23s 3ms/step - loss: 0.6261 - val_loss: 0.7663\n",
      "Epoch 10/100\n",
      "9000/9000 [==============================] - 23s 3ms/step - loss: 0.6052 - val_loss: 0.7435\n",
      "Epoch 11/100\n",
      "9000/9000 [==============================] - 23s 3ms/step - loss: 0.5891 - val_loss: 0.7306\n",
      "Epoch 12/100\n",
      "9000/9000 [==============================] - 23s 3ms/step - loss: 0.5722 - val_loss: 0.7131\n",
      "Epoch 13/100\n",
      "9000/9000 [==============================] - 23s 3ms/step - loss: 0.5588 - val_loss: 0.7076\n",
      "Epoch 14/100\n",
      "9000/9000 [==============================] - 23s 3ms/step - loss: 0.5485 - val_loss: 0.6845\n",
      "Epoch 15/100\n",
      "9000/9000 [==============================] - 23s 3ms/step - loss: 0.5373 - val_loss: 0.6787\n",
      "Epoch 16/100\n",
      "9000/9000 [==============================] - 23s 3ms/step - loss: 0.5284 - val_loss: 0.6681\n",
      "Epoch 17/100\n",
      "9000/9000 [==============================] - 23s 3ms/step - loss: 0.5196 - val_loss: 0.6611\n",
      "Epoch 18/100\n",
      "9000/9000 [==============================] - 23s 3ms/step - loss: 0.5127 - val_loss: 0.6552\n",
      "Epoch 19/100\n",
      "9000/9000 [==============================] - 23s 3ms/step - loss: 0.5075 - val_loss: 0.6476\n",
      "Epoch 20/100\n",
      "9000/9000 [==============================] - 23s 3ms/step - loss: 0.4971 - val_loss: 0.6405\n",
      "Epoch 21/100\n",
      "9000/9000 [==============================] - 23s 3ms/step - loss: 0.4903 - val_loss: 0.6348\n",
      "Epoch 22/100\n",
      "9000/9000 [==============================] - 23s 3ms/step - loss: 0.4830 - val_loss: 0.6263\n",
      "Epoch 23/100\n",
      "9000/9000 [==============================] - 23s 3ms/step - loss: 0.4765 - val_loss: 0.6187\n",
      "Epoch 24/100\n",
      "9000/9000 [==============================] - 23s 3ms/step - loss: 0.4700 - val_loss: 0.6194\n",
      "Epoch 25/100\n",
      "9000/9000 [==============================] - 23s 3ms/step - loss: 0.4642 - val_loss: 0.6120\n",
      "Epoch 26/100\n",
      "9000/9000 [==============================] - 23s 3ms/step - loss: 0.4574 - val_loss: 0.6042\n",
      "Epoch 27/100\n",
      "9000/9000 [==============================] - 23s 3ms/step - loss: 0.4520 - val_loss: 0.5992\n",
      "Epoch 28/100\n",
      "9000/9000 [==============================] - 23s 3ms/step - loss: 0.4459 - val_loss: 0.5950\n",
      "Epoch 29/100\n",
      "9000/9000 [==============================] - 23s 3ms/step - loss: 0.4414 - val_loss: 0.5901\n",
      "Epoch 30/100\n",
      "9000/9000 [==============================] - 23s 3ms/step - loss: 0.4362 - val_loss: 0.5858\n",
      "Epoch 31/100\n",
      "9000/9000 [==============================] - 23s 3ms/step - loss: 0.4295 - val_loss: 0.5823\n",
      "Epoch 32/100\n",
      "9000/9000 [==============================] - 23s 3ms/step - loss: 0.4250 - val_loss: 0.5772\n",
      "Epoch 33/100\n",
      "9000/9000 [==============================] - 23s 3ms/step - loss: 0.4209 - val_loss: 0.5734\n",
      "Epoch 34/100\n",
      "9000/9000 [==============================] - 23s 3ms/step - loss: 0.4149 - val_loss: 0.5657\n",
      "Epoch 35/100\n",
      "9000/9000 [==============================] - 23s 3ms/step - loss: 0.4107 - val_loss: 0.5655\n",
      "Epoch 36/100\n",
      "9000/9000 [==============================] - 23s 3ms/step - loss: 0.4062 - val_loss: 0.5598\n",
      "Epoch 37/100\n",
      "9000/9000 [==============================] - 23s 3ms/step - loss: 0.4017 - val_loss: 0.5589\n",
      "Epoch 38/100\n",
      "9000/9000 [==============================] - 23s 3ms/step - loss: 0.3981 - val_loss: 0.5562\n",
      "Epoch 39/100\n",
      "9000/9000 [==============================] - 23s 3ms/step - loss: 0.3933 - val_loss: 0.5528\n",
      "Epoch 40/100\n",
      "9000/9000 [==============================] - 23s 3ms/step - loss: 0.3896 - val_loss: 0.5483\n",
      "Epoch 41/100\n",
      "9000/9000 [==============================] - 23s 3ms/step - loss: 0.3856 - val_loss: 0.5451\n",
      "Epoch 42/100\n",
      "9000/9000 [==============================] - 23s 3ms/step - loss: 0.3808 - val_loss: 0.5417\n",
      "Epoch 43/100\n",
      "9000/9000 [==============================] - 23s 3ms/step - loss: 0.3770 - val_loss: 0.5413\n",
      "Epoch 44/100\n",
      "9000/9000 [==============================] - 23s 3ms/step - loss: 0.3733 - val_loss: 0.5388\n",
      "Epoch 45/100\n",
      "9000/9000 [==============================] - 23s 3ms/step - loss: 0.3691 - val_loss: 0.5391\n",
      "Epoch 46/100\n",
      "9000/9000 [==============================] - 23s 3ms/step - loss: 0.3653 - val_loss: 0.5347\n",
      "Epoch 47/100\n",
      "9000/9000 [==============================] - 23s 3ms/step - loss: 0.3612 - val_loss: 0.5296\n",
      "Epoch 48/100\n",
      "9000/9000 [==============================] - 23s 3ms/step - loss: 0.3577 - val_loss: 0.5279\n",
      "Epoch 49/100\n",
      "9000/9000 [==============================] - 23s 3ms/step - loss: 0.3540 - val_loss: 0.5256\n",
      "Epoch 50/100\n",
      "9000/9000 [==============================] - 23s 3ms/step - loss: 0.3517 - val_loss: 0.5254\n",
      "Epoch 51/100\n",
      "9000/9000 [==============================] - 23s 3ms/step - loss: 0.3477 - val_loss: 0.5237\n",
      "Epoch 52/100\n",
      "9000/9000 [==============================] - 23s 3ms/step - loss: 0.3436 - val_loss: 0.5211\n",
      "Epoch 53/100\n",
      "9000/9000 [==============================] - 23s 3ms/step - loss: 0.3404 - val_loss: 0.5206\n",
      "Epoch 54/100\n",
      "9000/9000 [==============================] - 23s 3ms/step - loss: 0.3384 - val_loss: 0.5182\n",
      "Epoch 55/100\n",
      "9000/9000 [==============================] - 23s 3ms/step - loss: 0.3354 - val_loss: 0.5172\n",
      "Epoch 56/100\n",
      "9000/9000 [==============================] - 23s 3ms/step - loss: 0.3312 - val_loss: 0.5170\n",
      "Epoch 57/100\n",
      "9000/9000 [==============================] - 23s 3ms/step - loss: 0.3281 - val_loss: 0.5113\n",
      "Epoch 58/100\n",
      "9000/9000 [==============================] - 23s 3ms/step - loss: 0.3247 - val_loss: 0.5174\n",
      "Epoch 59/100\n",
      "9000/9000 [==============================] - 23s 3ms/step - loss: 0.3219 - val_loss: 0.5146\n",
      "Epoch 60/100\n",
      "9000/9000 [==============================] - 23s 3ms/step - loss: 0.3189 - val_loss: 0.5076\n",
      "Epoch 61/100\n",
      "9000/9000 [==============================] - 23s 3ms/step - loss: 0.3159 - val_loss: 0.5101\n",
      "Epoch 62/100\n",
      "9000/9000 [==============================] - 23s 3ms/step - loss: 0.3127 - val_loss: 0.5106\n",
      "Epoch 63/100\n",
      "9000/9000 [==============================] - 23s 3ms/step - loss: 0.3104 - val_loss: 0.5058\n",
      "Epoch 64/100\n",
      "9000/9000 [==============================] - 23s 3ms/step - loss: 0.3069 - val_loss: 0.5084\n",
      "Epoch 65/100\n",
      "9000/9000 [==============================] - 23s 3ms/step - loss: 0.3044 - val_loss: 0.5040\n",
      "Epoch 66/100\n",
      "9000/9000 [==============================] - 23s 3ms/step - loss: 0.3010 - val_loss: 0.5078\n",
      "Epoch 67/100\n",
      "9000/9000 [==============================] - 23s 3ms/step - loss: 0.2985 - val_loss: 0.5056\n",
      "Epoch 68/100\n",
      "9000/9000 [==============================] - 23s 3ms/step - loss: 0.2957 - val_loss: 0.5045\n",
      "Epoch 69/100\n",
      "9000/9000 [==============================] - 23s 3ms/step - loss: 0.2932 - val_loss: 0.5054\n",
      "Epoch 70/100\n",
      "9000/9000 [==============================] - 23s 3ms/step - loss: 0.2906 - val_loss: 0.5038\n",
      "Epoch 71/100\n",
      "9000/9000 [==============================] - 23s 3ms/step - loss: 0.2868 - val_loss: 0.5032\n",
      "Epoch 72/100\n",
      "9000/9000 [==============================] - 23s 3ms/step - loss: 0.2851 - val_loss: 0.5029\n",
      "Epoch 73/100\n",
      "9000/9000 [==============================] - 23s 3ms/step - loss: 0.2821 - val_loss: 0.5048\n",
      "Epoch 74/100\n",
      "9000/9000 [==============================] - 23s 3ms/step - loss: 0.2794 - val_loss: 0.5038\n",
      "Epoch 75/100\n",
      "9000/9000 [==============================] - 23s 3ms/step - loss: 0.2764 - val_loss: 0.5026\n",
      "Epoch 76/100\n",
      "9000/9000 [==============================] - 23s 3ms/step - loss: 0.2741 - val_loss: 0.5033\n",
      "Epoch 77/100\n",
      "9000/9000 [==============================] - 23s 3ms/step - loss: 0.2722 - val_loss: 0.5012\n",
      "Epoch 78/100\n"
     ]
    },
    {
     "name": "stdout",
     "output_type": "stream",
     "text": [
      "9000/9000 [==============================] - 23s 3ms/step - loss: 0.2692 - val_loss: 0.5051\n",
      "Epoch 79/100\n",
      "9000/9000 [==============================] - 23s 3ms/step - loss: 0.2668 - val_loss: 0.5052\n",
      "Epoch 80/100\n",
      "9000/9000 [==============================] - 23s 3ms/step - loss: 0.2648 - val_loss: 0.5020\n",
      "Epoch 81/100\n",
      "9000/9000 [==============================] - 23s 3ms/step - loss: 0.2608 - val_loss: 0.5059\n",
      "Epoch 82/100\n",
      "9000/9000 [==============================] - 23s 3ms/step - loss: 0.2591 - val_loss: 0.5034\n",
      "Epoch 83/100\n",
      "9000/9000 [==============================] - 23s 3ms/step - loss: 0.2565 - val_loss: 0.5094\n",
      "Epoch 84/100\n",
      "9000/9000 [==============================] - 23s 3ms/step - loss: 0.2552 - val_loss: 0.5052\n",
      "Epoch 85/100\n",
      "9000/9000 [==============================] - 23s 3ms/step - loss: 0.2520 - val_loss: 0.5087\n",
      "Epoch 86/100\n",
      "9000/9000 [==============================] - 23s 3ms/step - loss: 0.2489 - val_loss: 0.5077\n",
      "Epoch 87/100\n",
      "9000/9000 [==============================] - 23s 3ms/step - loss: 0.2466 - val_loss: 0.5105\n",
      "Epoch 88/100\n",
      "9000/9000 [==============================] - 23s 3ms/step - loss: 0.2452 - val_loss: 0.5074\n",
      "Epoch 89/100\n",
      "9000/9000 [==============================] - 23s 3ms/step - loss: 0.2435 - val_loss: 0.5058\n",
      "Epoch 90/100\n",
      "9000/9000 [==============================] - 23s 3ms/step - loss: 0.2397 - val_loss: 0.5122\n",
      "Epoch 91/100\n",
      "9000/9000 [==============================] - 23s 3ms/step - loss: 0.2378 - val_loss: 0.5106\n",
      "Epoch 92/100\n",
      "9000/9000 [==============================] - 23s 3ms/step - loss: 0.2345 - val_loss: 0.5100\n",
      "Epoch 93/100\n",
      "9000/9000 [==============================] - 23s 3ms/step - loss: 0.2329 - val_loss: 0.5094\n",
      "Epoch 94/100\n",
      "9000/9000 [==============================] - 23s 3ms/step - loss: 0.2307 - val_loss: 0.5139\n",
      "Epoch 95/100\n",
      "9000/9000 [==============================] - 23s 3ms/step - loss: 0.2285 - val_loss: 0.5178\n",
      "Epoch 96/100\n",
      "9000/9000 [==============================] - 23s 3ms/step - loss: 0.2265 - val_loss: 0.5201\n",
      "Epoch 97/100\n",
      "9000/9000 [==============================] - 23s 3ms/step - loss: 0.2248 - val_loss: 0.5145\n",
      "Epoch 98/100\n",
      "9000/9000 [==============================] - 23s 3ms/step - loss: 0.2220 - val_loss: 0.5261\n",
      "Epoch 99/100\n",
      "9000/9000 [==============================] - 23s 3ms/step - loss: 0.2199 - val_loss: 0.5190\n",
      "Epoch 100/100\n",
      "9000/9000 [==============================] - 23s 3ms/step - loss: 0.2168 - val_loss: 0.5204\n"
     ]
    }
   ],
   "source": [
    "model.compile(optimizer=\"adam\", loss=\"categorical_crossentropy\")\n",
    "history = model.fit([encoder_input_data, decoder_input_data], decoder_target_data,\n",
    "          batch_size=batch_size,\n",
    "          epochs=epochs,\n",
    "          validation_split=0.1)"
   ]
  },
  {
   "cell_type": "code",
   "execution_count": 11,
   "metadata": {
    "ExecuteTime": {
     "end_time": "2018-07-17T09:27:29.210953Z",
     "start_time": "2018-07-17T09:27:28.883653Z"
    }
   },
   "outputs": [
    {
     "name": "stderr",
     "output_type": "stream",
     "text": [
      "/home/sitibanc/anaconda3/lib/python3.6/site-packages/keras/engine/topology.py:2368: UserWarning: Layer decoder_lstm was passed non-serializable keyword arguments: {'initial_state': [<tf.Tensor 'encoder_lstm/while/Exit_2:0' shape=(?, 256) dtype=float32>, <tf.Tensor 'encoder_lstm/while/Exit_3:0' shape=(?, 256) dtype=float32>]}. They will not be included in the serialized model (and thus will be missing at deserialization time).\n",
      "  str(node.arguments) + '. They will not be included '\n"
     ]
    }
   ],
   "source": [
    "# Save model\n",
    "model.save(\"seq2seq-translate.h5\")"
   ]
  },
  {
   "cell_type": "code",
   "execution_count": 12,
   "metadata": {
    "ExecuteTime": {
     "end_time": "2018-07-17T09:27:29.293028Z",
     "start_time": "2018-07-17T09:27:29.212065Z"
    }
   },
   "outputs": [
    {
     "data": {
      "image/png": "[encoded data removed]",
      "text/plain": [
       "<Figure size 432x288 with 1 Axes>"
      ]
     },
     "metadata": {},
     "output_type": "display_data"
    }
   ],
   "source": [
    "# Plot learning curve\n",
    "plt.plot(history.history[\"loss\"], label=\"train\")\n",
    "plt.plot(history.history[\"val_loss\"], label=\"test\")\n",
    "plt.xlabel(\"Epochs\")\n",
    "plt.ylabel(\"Loss\")\n",
    "plt.title(\"Learning Curve\")\n",
    "plt.legend()\n",
    "plt.show()"
   ]
  },
  {
   "cell_type": "markdown",
   "metadata": {},
   "source": [
    "## Inference"
   ]
  },
  {
   "cell_type": "code",
   "execution_count": 13,
   "metadata": {
    "ExecuteTime": {
     "end_time": "2018-07-17T09:27:29.492846Z",
     "start_time": "2018-07-17T09:27:29.293981Z"
    }
   },
   "outputs": [],
   "source": [
    "# Define Encoder & Decoder Model\n",
    "encoder_model = Model(encoder_inputs, encoder_states, name=\"Encoder\")\n",
    "\n",
    "decoder_state_input_h = Input(shape=(latent_dim,), name=\"hidden_state_input\")\n",
    "decoder_state_input_c = Input(shape=(latent_dim,), name=\"memory_cell_input\")\n",
    "decoder_states_inputs = [decoder_state_input_h, decoder_state_input_c]    # decoder initial states\n",
    "decoder_outputs, state_h, state_c = model.get_layer(\"decoder_lstm\")(decoder_inputs, initial_state=decoder_states_inputs)\n",
    "decoder_states = [state_h, state_c]\n",
    "decoder_outputs = model.get_layer(\"decoder_output\")(decoder_outputs)\n",
    "decoder_model = Model([decoder_inputs] + decoder_states_inputs, [decoder_outputs] + decoder_states, name=\"Decoder\")"
   ]
  },
  {
   "cell_type": "code",
   "execution_count": 14,
   "metadata": {
    "ExecuteTime": {
     "end_time": "2018-07-17T09:27:29.496537Z",
     "start_time": "2018-07-17T09:27:29.493922Z"
    }
   },
   "outputs": [],
   "source": [
    "# Build (index2char) dictionary for reverse lookup\n",
    "input_index2char = dict(\n",
    "    (i, char) for char, i in input_char2index.items())\n",
    "target_index2char = dict(\n",
    "    (i, char) for char, i in target_char2index.items())"
   ]
  },
  {
   "cell_type": "code",
   "execution_count": 15,
   "metadata": {
    "ExecuteTime": {
     "end_time": "2018-07-17T09:27:29.583121Z",
     "start_time": "2018-07-17T09:27:29.497643Z"
    }
   },
   "outputs": [],
   "source": [
    "def decode_sequence(input_seq):\n",
    "    '''\n",
    "    Args:\n",
    "        input_seq: ndarray, encoder input\n",
    "    '''\n",
    "    # Encode the input as state vectors.\n",
    "    # Get (initial) state value from encoder give input_seq\n",
    "    states_value = encoder_model.predict(input_seq)\n",
    "\n",
    "    # Generate empty target sequence of length 1. (1 sentence, 1 char which is a num_decoder_tokens vector)\n",
    "    target_seq = np.zeros((1, 1, num_decoder_tokens))\n",
    "    # Populate the first character of target sequence with the start character (<BOS> token).\n",
    "    target_seq[0, 0, target_char2index['\\t']] = 1.\n",
    "\n",
    "    # Sampling loop for a batch of sequences\n",
    "    # (to simplify, here we assume a batch of size 1).\n",
    "    stop_condition = False\n",
    "    decoded_sentence = ''\n",
    "    while not stop_condition:\n",
    "        # Get prediction(along with hidden state h, and memory cell c) from decoder (character-wise)\n",
    "        output_tokens, h, c = decoder_model.predict([target_seq] + states_value)\n",
    "\n",
    "        # Sample a token\n",
    "        sampled_token_index = np.argmax(output_tokens[0, -1, :])\n",
    "        sampled_char = target_index2char[sampled_token_index]    # lookup from index2char dict\n",
    "        decoded_sentence += sampled_char\n",
    "\n",
    "        # Exit condition: either hit max length\n",
    "        # or find stop character.\n",
    "        if (sampled_char == \"\\n\" or len(decoded_sentence) > max_decoder_seq_length):\n",
    "            stop_condition = True\n",
    "\n",
    "        # Update the target sequence (of length 1).\n",
    "        target_seq = np.zeros((1, 1, num_decoder_tokens))\n",
    "        target_seq[0, 0, sampled_token_index] = 1.\n",
    "        #target_seq = output_tokens\n",
    "\n",
    "        # Update states\n",
    "        states_value = [h, c]\n",
    "\n",
    "    return decoded_sentence"
   ]
  },
  {
   "cell_type": "code",
   "execution_count": 16,
   "metadata": {
    "ExecuteTime": {
     "end_time": "2018-07-17T09:27:30.243542Z",
     "start_time": "2018-07-17T09:27:29.584701Z"
    }
   },
   "outputs": [
    {
     "name": "stdout",
     "output_type": "stream",
     "text": [
      "-\n",
      "Input sentence: Go.\n",
      "Decoded sentence: Allez-vous !\n",
      "\n",
      "-\n",
      "Input sentence: Run!\n",
      "Decoded sentence: Ariliez !\n",
      "\n",
      "-\n",
      "Input sentence: Run!\n",
      "Decoded sentence: Ariliez !\n",
      "\n",
      "-\n",
      "Input sentence: Fire!\n",
      "Decoded sentence: Au feu !\n",
      "\n",
      "-\n",
      "Input sentence: Help!\n",
      "Decoded sentence: Aide-moi !\n",
      "\n",
      "-\n",
      "Input sentence: Jump.\n",
      "Decoded sentence: Saute.\n",
      "\n",
      "-\n",
      "Input sentence: Stop!\n",
      "Decoded sentence: Arrêtez-vous !\n",
      "\n",
      "-\n",
      "Input sentence: Stop!\n",
      "Decoded sentence: Arrêtez-vous !\n",
      "\n",
      "-\n",
      "Input sentence: Stop!\n",
      "Decoded sentence: Arrêtez-vous !\n",
      "\n",
      "-\n",
      "Input sentence: Wait!\n",
      "Decoded sentence: Attendez !\n",
      "\n",
      "-\n",
      "Input sentence: Wait!\n",
      "Decoded sentence: Attendez !\n",
      "\n",
      "-\n",
      "Input sentence: Go on.\n",
      "Decoded sentence: Allez !\n",
      "\n",
      "-\n",
      "Input sentence: Go on.\n",
      "Decoded sentence: Allez !\n",
      "\n",
      "-\n",
      "Input sentence: Go on.\n",
      "Decoded sentence: Allez !\n",
      "\n",
      "-\n",
      "Input sentence: I see.\n",
      "Decoded sentence: Je l'ai ressé.\n",
      "\n",
      "-\n",
      "Input sentence: I try.\n",
      "Decoded sentence: Je plaise.\n",
      "\n",
      "-\n",
      "Input sentence: I won!\n",
      "Decoded sentence: Je vous ai !\n",
      "\n",
      "-\n",
      "Input sentence: I won!\n",
      "Decoded sentence: Je vous ai !\n",
      "\n",
      "-\n",
      "Input sentence: Oh no!\n",
      "Decoded sentence: Qui chamme !\n",
      "\n",
      "-\n",
      "Input sentence: Attack!\n",
      "Decoded sentence: Attaquez !\n",
      "\n",
      "-\n",
      "Input sentence: Attack!\n",
      "Decoded sentence: Attaquez !\n",
      "\n",
      "-\n",
      "Input sentence: Cheers!\n",
      "Decoded sentence: Étritez bles !\n",
      "\n",
      "-\n",
      "Input sentence: Cheers!\n",
      "Decoded sentence: Étritez bles !\n",
      "\n",
      "-\n",
      "Input sentence: Cheers!\n",
      "Decoded sentence: Étritez bles !\n",
      "\n",
      "-\n",
      "Input sentence: Cheers!\n",
      "Decoded sentence: Étritez bles !\n",
      "\n",
      "-\n",
      "Input sentence: Get up.\n",
      "Decoded sentence: Va cherche.\n",
      "\n",
      "-\n",
      "Input sentence: Go now.\n",
      "Decoded sentence: Allez-vous !\n",
      "\n",
      "-\n",
      "Input sentence: Go now.\n",
      "Decoded sentence: Allez-vous !\n",
      "\n",
      "-\n",
      "Input sentence: Go now.\n",
      "Decoded sentence: Allez-vous !\n",
      "\n",
      "-\n",
      "Input sentence: Got it!\n",
      "Decoded sentence: Compris !\n",
      "\n",
      "-\n",
      "Input sentence: Got it!\n",
      "Decoded sentence: Compris !\n",
      "\n",
      "-\n",
      "Input sentence: Got it?\n",
      "Decoded sentence: Compris ?\n",
      "\n",
      "-\n",
      "Input sentence: Got it?\n",
      "Decoded sentence: Compris ?\n",
      "\n",
      "-\n",
      "Input sentence: Got it?\n",
      "Decoded sentence: Compris ?\n",
      "\n",
      "-\n",
      "Input sentence: Hop in.\n",
      "Decoded sentence: Entre.\n",
      "\n",
      "-\n",
      "Input sentence: Hop in.\n",
      "Decoded sentence: Entre.\n",
      "\n",
      "-\n",
      "Input sentence: Hug me.\n",
      "Decoded sentence: Allez vous bles !\n",
      "\n",
      "-\n",
      "Input sentence: Hug me.\n",
      "Decoded sentence: Allez vous bles !\n",
      "\n",
      "-\n",
      "Input sentence: I fell.\n",
      "Decoded sentence: Je me suis senti mal.\n",
      "\n",
      "-\n",
      "Input sentence: I fell.\n",
      "Decoded sentence: Je me suis senti mal.\n",
      "\n",
      "-\n",
      "Input sentence: I know.\n",
      "Decoded sentence: Je les ai courir.\n",
      "\n",
      "-\n",
      "Input sentence: I left.\n",
      "Decoded sentence: Je l'ai contrarié.\n",
      "\n",
      "-\n",
      "Input sentence: I left.\n",
      "Decoded sentence: Je l'ai contrarié.\n",
      "\n",
      "-\n",
      "Input sentence: I lost.\n",
      "Decoded sentence: Je l'ai eu chauche.\n",
      "\n",
      "-\n",
      "Input sentence: I'm 19.\n",
      "Decoded sentence: J'ai fait de moi.\n",
      "\n",
      "-\n",
      "Input sentence: I'm OK.\n",
      "Decoded sentence: Je suis maline.\n",
      "\n",
      "-\n",
      "Input sentence: I'm OK.\n",
      "Decoded sentence: Je suis maline.\n",
      "\n",
      "-\n",
      "Input sentence: Listen.\n",
      "Decoded sentence: Écoute !\n",
      "\n",
      "-\n",
      "Input sentence: No way!\n",
      "Decoded sentence: Prrêt !\n",
      "\n",
      "-\n",
      "Input sentence: No way!\n",
      "Decoded sentence: Prrêt !\n",
      "\n"
     ]
    }
   ],
   "source": [
    "for seq_index in range(50):\n",
    "    # Take one sequence (from training data)\n",
    "    input_seq = encoder_input_data[seq_index: seq_index + 1]\n",
    "    decoded_sentence = decode_sequence(input_seq)\n",
    "    print('-')\n",
    "    print('Input sentence:', input_texts[seq_index])\n",
    "    print('Decoded sentence:', decoded_sentence)"
   ]
  },
  {
   "cell_type": "markdown",
   "metadata": {},
   "source": [
    "## Test (Single word)"
   ]
  },
  {
   "cell_type": "code",
   "execution_count": 17,
   "metadata": {
    "ExecuteTime": {
     "end_time": "2018-07-17T09:31:54.527416Z",
     "start_time": "2018-07-17T09:31:54.512267Z"
    }
   },
   "outputs": [
    {
     "name": "stdout",
     "output_type": "stream",
     "text": [
      "Input sentence: Hi\n",
      "Decoded sentence: Ent-el !\n",
      "\n"
     ]
    }
   ],
   "source": [
    "test_seq = \"Hi\"\n",
    "# One-hot Encoding\n",
    "onehot_test_seq = np.zeros((1, max_encoder_seq_length, num_encoder_tokens), dtype='float32')\n",
    "for t, char in enumerate(test_seq):\n",
    "    onehot_test_seq[0, t, input_char2index[char]] = 1.\n",
    "\n",
    "decoded_sentence = decode_sequence(onehot_test_seq)\n",
    "print('Input sentence:', test_seq)\n",
    "print('Decoded sentence:', decoded_sentence)"
   ]
  }
 ],
 "metadata": {
  "kernelspec": {
   "display_name": "Python 3",
   "language": "python",
   "name": "python3"
  },
  "language_info": {
   "codemirror_mode": {
    "name": "ipython",
    "version": 3
   },
   "file_extension": ".py",
   "mimetype": "text/x-python",
   "name": "python",
   "nbconvert_exporter": "python",
   "pygments_lexer": "ipython3",
   "version": "3.6.4"
  },
  "toc": {
   "base_numbering": 1,
   "nav_menu": {},
   "number_sections": true,
   "sideBar": true,
   "skip_h1_title": false,
   "title_cell": "Table of Contents",
   "title_sidebar": "Contents",
   "toc_cell": false,
   "toc_position": {
    "height": "calc(100% - 180px)",
    "left": "10px",
    "top": "150px",
    "width": "190px"
   },
   "toc_section_display": true,
   "toc_window_display": true
  },
  "varInspector": {
   "cols": {
    "lenName": 16,
    "lenType": 16,
    "lenVar": 40
   },
   "kernels_config": {
    "python": {
     "delete_cmd_postfix": "",
     "delete_cmd_prefix": "del ",
     "library": "var_list.py",
     "varRefreshCmd": "print(var_dic_list())"
    },
    "r": {
     "delete_cmd_postfix": ") ",
     "delete_cmd_prefix": "rm(",
     "library": "var_list.r",
     "varRefreshCmd": "cat(var_dic_list()) "
    }
   },
   "oldHeight": 156,
   "position": {
    "height": "40px",
    "left": "1163px",
    "right": "61px",
    "top": "0px",
    "width": "696px"
   },
   "types_to_exclude": [
    "module",
    "function",
    "builtin_function_or_method",
    "instance",
    "_Feature"
   ],
   "varInspector_section_display": "none",
   "window_display": true
  }
 },
 "nbformat": 4,
 "nbformat_minor": 2
}
