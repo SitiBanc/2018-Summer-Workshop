{
 "cells": [
  {
   "cell_type": "code",
   "execution_count": 1,
   "metadata": {
    "ExecuteTime": {
     "end_time": "2018-07-03T16:36:54.868120Z",
     "start_time": "2018-07-03T16:36:21.578701Z"
    }
   },
   "outputs": [
    {
     "name": "stderr",
     "output_type": "stream",
     "text": [
      "/home/sitibanc/anaconda3/lib/python3.6/site-packages/h5py/__init__.py:36: FutureWarning: Conversion of the second argument of issubdtype from `float` to `np.floating` is deprecated. In future, it will be treated as `np.float64 == np.dtype(float).type`.\n",
      "  from ._conv import register_converters as _register_converters\n",
      "Using TensorFlow backend.\n"
     ]
    }
   ],
   "source": [
    "import numpy as np\n",
    "from matplotlib import pyplot as plt\n",
    "from keras.datasets import mnist\n",
    "from keras.layers import *\n",
    "from keras.models import Sequential, Model\n",
    "from keras.optimizers import Adam\n",
    "from keras.utils import to_categorical\n",
    "import keras.backend as K"
   ]
  },
  {
   "cell_type": "markdown",
   "metadata": {},
   "source": [
    "## Visulaize Optimization Process"
   ]
  },
  {
   "cell_type": "markdown",
   "metadata": {},
   "source": [
    "### Build Model"
   ]
  },
  {
   "cell_type": "code",
   "execution_count": 2,
   "metadata": {
    "ExecuteTime": {
     "end_time": "2018-07-03T16:36:54.899293Z",
     "start_time": "2018-07-03T16:36:54.873625Z"
    }
   },
   "outputs": [],
   "source": [
    "def build_model(print_summary=False):\n",
    "    '''\n",
    "    Build model\n",
    "    Args:\n",
    "        print_summary: bool, whether or not to print model summary, default: False\n",
    "    Returns:\n",
    "        model: keras model\n",
    "    '''\n",
    "    model = Sequential()\n",
    "\n",
    "    model.add(Flatten(input_shape=(28, 28), name=\"input\"))\n",
    "    model.add(Dense(16, use_bias=False, activation=\"relu\", name=\"h1\"))\n",
    "    model.add(Dense(16, use_bias=False, activation=\"relu\", name=\"h2\"))\n",
    "    model.add(Dense(10, use_bias=False, activation=\"softmax\", name=\"output\"))\n",
    "\n",
    "    if print_summary:\n",
    "        model.summary()\n",
    "\n",
    "    return model"
   ]
  },
  {
   "cell_type": "code",
   "execution_count": 3,
   "metadata": {
    "ExecuteTime": {
     "end_time": "2018-07-03T12:28:52.981712Z",
     "start_time": "2018-07-03T12:28:52.684844Z"
    }
   },
   "outputs": [
    {
     "name": "stdout",
     "output_type": "stream",
     "text": [
      "_________________________________________________________________\n",
      "Layer (type)                 Output Shape              Param #   \n",
      "=================================================================\n",
      "input (Flatten)              (None, 784)               0         \n",
      "_________________________________________________________________\n",
      "h1 (Dense)                   (None, 16)                12544     \n",
      "_________________________________________________________________\n",
      "h2 (Dense)                   (None, 16)                256       \n",
      "_________________________________________________________________\n",
      "output (Dense)               (None, 10)                160       \n",
      "=================================================================\n",
      "Total params: 12,960\n",
      "Trainable params: 12,960\n",
      "Non-trainable params: 0\n",
      "_________________________________________________________________\n"
     ]
    }
   ],
   "source": [
    "optimizer = Adam()\n",
    "models = []\n",
    "for i in range(8):\n",
    "    m = build_model()\n",
    "    if i == 0:\n",
    "        m.summary()\n",
    "    m.compile(optimizer=optimizer, loss=\"categorical_crossentropy\", metrics=[\"accuracy\"])\n",
    "    models.append(m)"
   ]
  },
  {
   "cell_type": "markdown",
   "metadata": {},
   "source": [
    "### Data Preprocessing"
   ]
  },
  {
   "cell_type": "code",
   "execution_count": 4,
   "metadata": {
    "ExecuteTime": {
     "end_time": "2018-07-03T16:37:10.764561Z",
     "start_time": "2018-07-03T16:37:09.592392Z"
    }
   },
   "outputs": [],
   "source": [
    "# Load Data\n",
    "(x_train, y_train), (x_test, y_test) = mnist.load_data()\n",
    "# Normalize\n",
    "x_train = x_train / 255\n",
    "x_test = x_test / 255\n",
    "# Get One-Hot Labels\n",
    "y_train = to_categorical(y_train, num_classes=10)\n",
    "y_test = to_categorical(y_test, num_classes=10)"
   ]
  },
  {
   "cell_type": "markdown",
   "metadata": {},
   "source": [
    "### Train Model"
   ]
  },
  {
   "cell_type": "code",
   "execution_count": 5,
   "metadata": {
    "ExecuteTime": {
     "end_time": "2018-07-03T16:37:11.739934Z",
     "start_time": "2018-07-03T16:37:11.702896Z"
    }
   },
   "outputs": [],
   "source": [
    "def get_batch(x, y, batch_size):\n",
    "    '''\n",
    "    Input whole data, output a batch data generator\n",
    "    Args:\n",
    "        x: ndarray, whole data featurs\n",
    "        y: ndarray, whole data labels\n",
    "        batch_size: int, size of batch\n",
    "    Yields:\n",
    "        batch: ndarray, batch_size of data features and labels\n",
    "    '''\n",
    "    num_batch = x.shape[0] // batch_size\n",
    "    if x.shape[0] % batch_size != 0:\n",
    "        num_batch += 1\n",
    "    \n",
    "    for i in range(num_batch):\n",
    "        # get batch data\n",
    "        if i != num_batch:\n",
    "            batch_x = x[i*batch_size:(i+1)*batch_size]\n",
    "            batch_y = y[i*batch_size:(i+1)*batch_size]\n",
    "        else:    # last batch\n",
    "            batch_x = x[i*batch_size:]\n",
    "            batch_y = y[i*batch_size:]\n",
    "        yield batch_x, batch_y"
   ]
  },
  {
   "cell_type": "code",
   "execution_count": 6,
   "metadata": {
    "ExecuteTime": {
     "end_time": "2018-07-03T12:09:01.281949Z",
     "start_time": "2018-07-03T12:09:01.200213Z"
    }
   },
   "outputs": [],
   "source": [
    "# Hyperparameters\n",
    "EPOCHS = 30\n",
    "BATCH_SIZE = 256"
   ]
  },
  {
   "cell_type": "code",
   "execution_count": 7,
   "metadata": {
    "ExecuteTime": {
     "end_time": "2018-07-03T12:24:12.257996Z",
     "start_time": "2018-07-03T12:24:12.211385Z"
    },
    "scrolled": true
   },
   "outputs": [],
   "source": [
    "def train_model(training, model, testing=None, epochs=30, batch_size=256):\n",
    "    '''\n",
    "    Train model\n",
    "    Args:\n",
    "        training: tuple(of ndarray), training x and y\n",
    "        model: keras model, model to be trained\n",
    "        testing: tuple(of ndarray), testing x and y\n",
    "        epochs: int, number of training epochs, default: 30\n",
    "        batch_size: int, size of batch, default: 256\n",
    "    Returns:\n",
    "        history: dict, store training loss/accuracy and validation loss/accuracy during training process\n",
    "        weights: ndarray, store weights of each layer in the model every 3 epochs\n",
    "    '''\n",
    "    x_train, y_train = training\n",
    "    history = dict()\n",
    "    history[\"loss\"] = []\n",
    "    history[\"acc\"] = []\n",
    "    if testing is not None:\n",
    "        x_test, y_test = testing\n",
    "        history[\"val_loss\"] = []\n",
    "        history[\"val_acc\"] = []\n",
    "    flag = True   # Store weights for the first time\n",
    "    for e in range(epochs):\n",
    "        # Shuffle\n",
    "        idx = np.random.permutation(x_train.shape[0])\n",
    "        # Train batch\n",
    "        for b_x, b_y in get_batch(x_train[idx], y_train[idx], batch_size):\n",
    "            loss, acc = model.train_on_batch(b_x, b_y)\n",
    "\n",
    "        loss, acc = model.evaluate(x_train, y_train, verbose=0)\n",
    "        history[\"loss\"].append(loss)\n",
    "        history[\"acc\"].append(acc)\n",
    "\n",
    "        if testing is not None:\n",
    "            loss, acc = model.evaluate(x_test, y_test, verbose=0)\n",
    "            history[\"val_loss\"].append(loss)\n",
    "            history[\"val_acc\"].append(acc)\n",
    "\n",
    "        print(\"Epoch %d/%d\\tloss: %.4f\\tacc: %.2f%%\" % (e+1, EPOCHS, loss, acc*100))\n",
    "\n",
    "        # Get weights\n",
    "        if e % 3 == 0:\n",
    "            # WARNING!!! This part is hard-coded cause I'm too lazy!!!\n",
    "            # (Use for loop to get weights of different layers will be better)\n",
    "            # l0 = model0.layers[0].get_weights()[0].flatten() <-- First layer is Flatten (no parameters)\n",
    "            l1 = model.layers[1].get_weights()[0].flatten()\n",
    "            l2 = model.layers[2].get_weights()[0].flatten()\n",
    "            l3 = model.layers[3].get_weights()[0].flatten()\n",
    "            if flag:\n",
    "                weights = np.concatenate((l1, l2, l3))\n",
    "                flag = False\n",
    "            else:\n",
    "                weights = np.vstack((weights, np.concatenate((l1, l2, l3))))\n",
    "    return history, weights"
   ]
  },
  {
   "cell_type": "code",
   "execution_count": 8,
   "metadata": {
    "ExecuteTime": {
     "end_time": "2018-07-03T12:38:30.259167Z",
     "start_time": "2018-07-03T12:32:40.335030Z"
    },
    "scrolled": true
   },
   "outputs": [
    {
     "name": "stdout",
     "output_type": "stream",
     "text": [
      "=== Training Model 0 ===\n",
      "Epoch 1/30\tloss: 0.3803\tacc: 89.55%\n",
      "Epoch 2/30\tloss: 0.2887\tacc: 91.92%\n",
      "Epoch 3/30\tloss: 0.2433\tacc: 93.03%\n",
      "Epoch 4/30\tloss: 0.2191\tacc: 93.77%\n",
      "Epoch 5/30\tloss: 0.2022\tacc: 94.31%\n",
      "Epoch 6/30\tloss: 0.1929\tacc: 94.52%\n",
      "Epoch 7/30\tloss: 0.1808\tacc: 94.86%\n",
      "Epoch 8/30\tloss: 0.1715\tacc: 95.19%\n",
      "Epoch 9/30\tloss: 0.1668\tacc: 95.25%\n",
      "Epoch 10/30\tloss: 0.1605\tacc: 95.45%\n",
      "Epoch 11/30\tloss: 0.1503\tacc: 95.75%\n",
      "Epoch 12/30\tloss: 0.1453\tacc: 95.89%\n",
      "Epoch 13/30\tloss: 0.1407\tacc: 96.03%\n",
      "Epoch 14/30\tloss: 0.1376\tacc: 96.14%\n",
      "Epoch 15/30\tloss: 0.1359\tacc: 96.17%\n",
      "Epoch 16/30\tloss: 0.1304\tacc: 96.25%\n",
      "Epoch 17/30\tloss: 0.1255\tacc: 96.43%\n",
      "Epoch 18/30\tloss: 0.1238\tacc: 96.48%\n",
      "Epoch 19/30\tloss: 0.1205\tacc: 96.58%\n",
      "Epoch 20/30\tloss: 0.1200\tacc: 96.56%\n",
      "Epoch 21/30\tloss: 0.1203\tacc: 96.45%\n",
      "Epoch 22/30\tloss: 0.1151\tacc: 96.66%\n",
      "Epoch 23/30\tloss: 0.1126\tacc: 96.72%\n",
      "Epoch 24/30\tloss: 0.1140\tacc: 96.64%\n",
      "Epoch 25/30\tloss: 0.1103\tacc: 96.85%\n",
      "Epoch 26/30\tloss: 0.1075\tacc: 96.89%\n",
      "Epoch 27/30\tloss: 0.1064\tacc: 96.90%\n",
      "Epoch 28/30\tloss: 0.1056\tacc: 96.91%\n",
      "Epoch 29/30\tloss: 0.1063\tacc: 96.91%\n",
      "Epoch 30/30\tloss: 0.1027\tacc: 96.99%\n",
      "=== Training Model 1 ===\n",
      "Epoch 1/30\tloss: 0.2791\tacc: 92.02%\n",
      "Epoch 2/30\tloss: 0.2370\tacc: 93.19%\n",
      "Epoch 3/30\tloss: 0.2210\tacc: 93.55%\n",
      "Epoch 4/30\tloss: 0.2004\tacc: 94.24%\n",
      "Epoch 5/30\tloss: 0.1869\tacc: 94.61%\n",
      "Epoch 6/30\tloss: 0.1798\tacc: 94.81%\n",
      "Epoch 7/30\tloss: 0.1801\tacc: 94.61%\n",
      "Epoch 8/30\tloss: 0.1628\tacc: 95.29%\n",
      "Epoch 9/30\tloss: 0.1586\tacc: 95.42%\n",
      "Epoch 10/30\tloss: 0.1510\tacc: 95.68%\n",
      "Epoch 11/30\tloss: 0.1489\tacc: 95.63%\n",
      "Epoch 12/30\tloss: 0.1437\tacc: 95.82%\n",
      "Epoch 13/30\tloss: 0.1378\tacc: 95.96%\n",
      "Epoch 14/30\tloss: 0.1370\tacc: 96.01%\n",
      "Epoch 15/30\tloss: 0.1326\tacc: 96.04%\n",
      "Epoch 16/30\tloss: 0.1283\tacc: 96.24%\n",
      "Epoch 17/30\tloss: 0.1299\tacc: 96.20%\n",
      "Epoch 18/30\tloss: 0.1221\tacc: 96.46%\n",
      "Epoch 19/30\tloss: 0.1201\tacc: 96.43%\n",
      "Epoch 20/30\tloss: 0.1148\tacc: 96.68%\n",
      "Epoch 21/30\tloss: 0.1140\tacc: 96.65%\n",
      "Epoch 22/30\tloss: 0.1130\tacc: 96.68%\n",
      "Epoch 23/30\tloss: 0.1091\tacc: 96.75%\n",
      "Epoch 24/30\tloss: 0.1077\tacc: 96.81%\n",
      "Epoch 25/30\tloss: 0.1063\tacc: 96.89%\n",
      "Epoch 26/30\tloss: 0.1039\tacc: 96.94%\n",
      "Epoch 27/30\tloss: 0.1030\tacc: 96.95%\n",
      "Epoch 28/30\tloss: 0.1016\tacc: 96.96%\n",
      "Epoch 29/30\tloss: 0.0987\tacc: 97.06%\n",
      "Epoch 30/30\tloss: 0.0986\tacc: 97.06%\n",
      "=== Training Model 2 ===\n",
      "Epoch 1/30\tloss: 0.2917\tacc: 91.57%\n",
      "Epoch 2/30\tloss: 0.2556\tacc: 92.66%\n",
      "Epoch 3/30\tloss: 0.2357\tacc: 93.28%\n",
      "Epoch 4/30\tloss: 0.2230\tacc: 93.50%\n",
      "Epoch 5/30\tloss: 0.2076\tacc: 94.04%\n",
      "Epoch 6/30\tloss: 0.1962\tacc: 94.34%\n",
      "Epoch 7/30\tloss: 0.1889\tacc: 94.53%\n",
      "Epoch 8/30\tloss: 0.1813\tacc: 94.78%\n",
      "Epoch 9/30\tloss: 0.1774\tacc: 94.80%\n",
      "Epoch 10/30\tloss: 0.1702\tacc: 95.13%\n",
      "Epoch 11/30\tloss: 0.1665\tacc: 95.21%\n",
      "Epoch 12/30\tloss: 0.1631\tacc: 95.23%\n",
      "Epoch 13/30\tloss: 0.1583\tacc: 95.47%\n",
      "Epoch 14/30\tloss: 0.1548\tacc: 95.51%\n",
      "Epoch 15/30\tloss: 0.1524\tacc: 95.59%\n",
      "Epoch 16/30\tloss: 0.1515\tacc: 95.53%\n",
      "Epoch 17/30\tloss: 0.1477\tacc: 95.67%\n",
      "Epoch 18/30\tloss: 0.1463\tacc: 95.73%\n",
      "Epoch 19/30\tloss: 0.1424\tacc: 95.82%\n",
      "Epoch 20/30\tloss: 0.1404\tacc: 96.00%\n",
      "Epoch 21/30\tloss: 0.1398\tacc: 95.84%\n",
      "Epoch 22/30\tloss: 0.1346\tacc: 96.11%\n",
      "Epoch 23/30\tloss: 0.1359\tacc: 95.95%\n",
      "Epoch 24/30\tloss: 0.1344\tacc: 96.00%\n",
      "Epoch 25/30\tloss: 0.1327\tacc: 96.11%\n",
      "Epoch 26/30\tloss: 0.1315\tacc: 96.09%\n",
      "Epoch 27/30\tloss: 0.1286\tacc: 96.20%\n",
      "Epoch 28/30\tloss: 0.1286\tacc: 96.19%\n",
      "Epoch 29/30\tloss: 0.1246\tacc: 96.34%\n",
      "Epoch 30/30\tloss: 0.1241\tacc: 96.36%\n",
      "=== Training Model 3 ===\n",
      "Epoch 1/30\tloss: 0.2557\tacc: 92.62%\n",
      "Epoch 2/30\tloss: 0.2240\tacc: 93.48%\n",
      "Epoch 3/30\tloss: 0.2043\tacc: 93.98%\n",
      "Epoch 4/30\tloss: 0.1880\tacc: 94.40%\n",
      "Epoch 5/30\tloss: 0.1771\tacc: 94.83%\n",
      "Epoch 6/30\tloss: 0.1675\tacc: 95.18%\n",
      "Epoch 7/30\tloss: 0.1611\tacc: 95.35%\n",
      "Epoch 8/30\tloss: 0.1542\tacc: 95.48%\n",
      "Epoch 9/30\tloss: 0.1485\tacc: 95.67%\n",
      "Epoch 10/30\tloss: 0.1458\tacc: 95.79%\n",
      "Epoch 11/30\tloss: 0.1414\tacc: 95.90%\n",
      "Epoch 12/30\tloss: 0.1415\tacc: 95.83%\n",
      "Epoch 13/30\tloss: 0.1356\tacc: 95.99%\n",
      "Epoch 14/30\tloss: 0.1344\tacc: 96.04%\n",
      "Epoch 15/30\tloss: 0.1326\tacc: 96.11%\n",
      "Epoch 16/30\tloss: 0.1287\tacc: 96.18%\n",
      "Epoch 17/30\tloss: 0.1238\tacc: 96.35%\n",
      "Epoch 18/30\tloss: 0.1228\tacc: 96.43%\n",
      "Epoch 19/30\tloss: 0.1187\tacc: 96.51%\n",
      "Epoch 20/30\tloss: 0.1182\tacc: 96.64%\n",
      "Epoch 21/30\tloss: 0.1171\tacc: 96.53%\n",
      "Epoch 22/30\tloss: 0.1148\tacc: 96.61%\n",
      "Epoch 23/30\tloss: 0.1125\tacc: 96.66%\n",
      "Epoch 24/30\tloss: 0.1138\tacc: 96.63%\n",
      "Epoch 25/30\tloss: 0.1104\tacc: 96.65%\n",
      "Epoch 26/30\tloss: 0.1095\tacc: 96.66%\n",
      "Epoch 27/30\tloss: 0.1086\tacc: 96.73%\n",
      "Epoch 28/30\tloss: 0.1035\tacc: 96.98%\n",
      "Epoch 29/30\tloss: 0.1062\tacc: 96.79%\n",
      "Epoch 30/30\tloss: 0.1028\tacc: 96.96%\n",
      "=== Training Model 4 ===\n",
      "Epoch 1/30\tloss: 0.2553\tacc: 92.70%\n",
      "Epoch 2/30\tloss: 0.2147\tacc: 93.87%\n",
      "Epoch 3/30\tloss: 0.1943\tacc: 94.45%\n",
      "Epoch 4/30\tloss: 0.1830\tacc: 94.76%\n",
      "Epoch 5/30\tloss: 0.1747\tacc: 94.97%\n",
      "Epoch 6/30\tloss: 0.1646\tacc: 95.26%\n",
      "Epoch 7/30\tloss: 0.1573\tacc: 95.40%\n",
      "Epoch 8/30\tloss: 0.1527\tacc: 95.56%\n",
      "Epoch 9/30\tloss: 0.1495\tacc: 95.64%\n",
      "Epoch 10/30\tloss: 0.1420\tacc: 95.79%\n",
      "Epoch 11/30\tloss: 0.1404\tacc: 95.92%\n",
      "Epoch 12/30\tloss: 0.1364\tacc: 96.03%\n",
      "Epoch 13/30\tloss: 0.1355\tacc: 95.94%\n",
      "Epoch 14/30\tloss: 0.1288\tacc: 96.21%\n",
      "Epoch 15/30\tloss: 0.1262\tacc: 96.33%\n",
      "Epoch 16/30\tloss: 0.1233\tacc: 96.38%\n",
      "Epoch 17/30\tloss: 0.1228\tacc: 96.32%\n",
      "Epoch 18/30\tloss: 0.1175\tacc: 96.53%\n",
      "Epoch 19/30\tloss: 0.1174\tacc: 96.49%\n",
      "Epoch 20/30\tloss: 0.1137\tacc: 96.68%\n",
      "Epoch 21/30\tloss: 0.1133\tacc: 96.61%\n",
      "Epoch 22/30\tloss: 0.1110\tacc: 96.76%\n",
      "Epoch 23/30\tloss: 0.1083\tacc: 96.76%\n",
      "Epoch 24/30\tloss: 0.1074\tacc: 96.86%\n",
      "Epoch 25/30\tloss: 0.1065\tacc: 96.85%\n",
      "Epoch 26/30\tloss: 0.1028\tacc: 96.92%\n",
      "Epoch 27/30\tloss: 0.1010\tacc: 96.97%\n",
      "Epoch 28/30\tloss: 0.1019\tacc: 97.00%\n",
      "Epoch 29/30\tloss: 0.0993\tacc: 97.12%\n",
      "Epoch 30/30\tloss: 0.0998\tacc: 97.06%\n",
      "=== Training Model 5 ===\n",
      "Epoch 1/30\tloss: 0.2956\tacc: 91.93%\n",
      "Epoch 2/30\tloss: 0.2489\tacc: 93.10%\n",
      "Epoch 3/30\tloss: 0.2232\tacc: 93.77%\n",
      "Epoch 4/30\tloss: 0.2093\tacc: 94.09%\n",
      "Epoch 5/30\tloss: 0.2002\tacc: 94.28%\n",
      "Epoch 6/30\tloss: 0.1937\tacc: 94.41%\n",
      "Epoch 7/30\tloss: 0.1867\tacc: 94.68%\n",
      "Epoch 8/30\tloss: 0.1813\tacc: 94.72%\n",
      "Epoch 9/30\tloss: 0.1805\tacc: 94.89%\n",
      "Epoch 10/30\tloss: 0.1752\tacc: 95.00%\n",
      "Epoch 11/30\tloss: 0.1680\tacc: 95.14%\n",
      "Epoch 12/30\tloss: 0.1656\tacc: 95.35%\n",
      "Epoch 13/30\tloss: 0.1613\tacc: 95.38%\n",
      "Epoch 14/30\tloss: 0.1603\tacc: 95.43%\n",
      "Epoch 15/30\tloss: 0.1586\tacc: 95.46%\n",
      "Epoch 16/30\tloss: 0.1554\tacc: 95.58%\n",
      "Epoch 17/30\tloss: 0.1545\tacc: 95.54%\n",
      "Epoch 18/30\tloss: 0.1537\tacc: 95.62%\n",
      "Epoch 19/30\tloss: 0.1478\tacc: 95.84%\n",
      "Epoch 20/30\tloss: 0.1469\tacc: 95.81%\n",
      "Epoch 21/30\tloss: 0.1459\tacc: 95.88%\n",
      "Epoch 22/30\tloss: 0.1433\tacc: 95.94%\n",
      "Epoch 23/30\tloss: 0.1410\tacc: 96.00%\n",
      "Epoch 24/30\tloss: 0.1417\tacc: 95.99%\n",
      "Epoch 25/30\tloss: 0.1380\tacc: 96.08%\n",
      "Epoch 26/30\tloss: 0.1375\tacc: 96.05%\n",
      "Epoch 27/30\tloss: 0.1387\tacc: 96.02%\n",
      "Epoch 28/30\tloss: 0.1352\tacc: 96.15%\n",
      "Epoch 29/30\tloss: 0.1339\tacc: 96.16%\n",
      "Epoch 30/30\tloss: 0.1320\tacc: 96.25%\n",
      "=== Training Model 6 ===\n",
      "Epoch 1/30\tloss: 0.2698\tacc: 92.24%\n",
      "Epoch 2/30\tloss: 0.2276\tacc: 93.43%\n",
      "Epoch 3/30\tloss: 0.2053\tacc: 94.02%\n",
      "Epoch 4/30\tloss: 0.1863\tacc: 94.62%\n",
      "Epoch 5/30\tloss: 0.1772\tacc: 94.85%\n",
      "Epoch 6/30\tloss: 0.1650\tacc: 95.21%\n",
      "Epoch 7/30\tloss: 0.1565\tacc: 95.49%\n",
      "Epoch 8/30\tloss: 0.1494\tacc: 95.69%\n",
      "Epoch 9/30\tloss: 0.1434\tacc: 95.88%\n",
      "Epoch 10/30\tloss: 0.1389\tacc: 95.97%\n",
      "Epoch 11/30\tloss: 0.1374\tacc: 95.99%\n",
      "Epoch 12/30\tloss: 0.1344\tacc: 96.15%\n",
      "Epoch 13/30\tloss: 0.1312\tacc: 96.23%\n",
      "Epoch 14/30\tloss: 0.1260\tacc: 96.36%\n",
      "Epoch 15/30\tloss: 0.1242\tacc: 96.35%\n",
      "Epoch 16/30\tloss: 0.1217\tacc: 96.48%\n",
      "Epoch 17/30\tloss: 0.1186\tacc: 96.54%\n",
      "Epoch 18/30\tloss: 0.1182\tacc: 96.62%\n",
      "Epoch 19/30\tloss: 0.1139\tacc: 96.69%\n",
      "Epoch 20/30\tloss: 0.1131\tacc: 96.70%\n",
      "Epoch 21/30\tloss: 0.1129\tacc: 96.70%\n",
      "Epoch 22/30\tloss: 0.1109\tacc: 96.75%\n",
      "Epoch 23/30\tloss: 0.1075\tacc: 96.93%\n",
      "Epoch 24/30\tloss: 0.1070\tacc: 96.85%\n",
      "Epoch 25/30\tloss: 0.1029\tacc: 97.05%\n",
      "Epoch 26/30\tloss: 0.1011\tacc: 97.10%\n",
      "Epoch 27/30\tloss: 0.1020\tacc: 97.04%\n",
      "Epoch 28/30\tloss: 0.1059\tacc: 96.83%\n",
      "Epoch 29/30\tloss: 0.1040\tacc: 96.95%\n",
      "Epoch 30/30\tloss: 0.0977\tacc: 97.12%\n",
      "=== Training Model 7 ===\n",
      "Epoch 1/30\tloss: 0.2557\tacc: 92.80%\n",
      "Epoch 2/30\tloss: 0.2224\tacc: 93.62%\n",
      "Epoch 3/30\tloss: 0.1939\tacc: 94.40%\n",
      "Epoch 4/30\tloss: 0.1767\tacc: 94.95%\n",
      "Epoch 5/30\tloss: 0.1660\tacc: 95.25%\n",
      "Epoch 6/30\tloss: 0.1576\tacc: 95.53%\n",
      "Epoch 7/30\tloss: 0.1497\tacc: 95.74%\n",
      "Epoch 8/30\tloss: 0.1451\tacc: 95.86%\n"
     ]
    },
    {
     "name": "stdout",
     "output_type": "stream",
     "text": [
      "Epoch 9/30\tloss: 0.1400\tacc: 96.02%\n",
      "Epoch 10/30\tloss: 0.1367\tacc: 96.10%\n",
      "Epoch 11/30\tloss: 0.1348\tacc: 96.18%\n",
      "Epoch 12/30\tloss: 0.1349\tacc: 96.20%\n",
      "Epoch 13/30\tloss: 0.1293\tacc: 96.26%\n",
      "Epoch 14/30\tloss: 0.1264\tacc: 96.33%\n",
      "Epoch 15/30\tloss: 0.1232\tacc: 96.48%\n",
      "Epoch 16/30\tloss: 0.1196\tacc: 96.57%\n",
      "Epoch 17/30\tloss: 0.1182\tacc: 96.59%\n",
      "Epoch 18/30\tloss: 0.1147\tacc: 96.73%\n",
      "Epoch 19/30\tloss: 0.1150\tacc: 96.58%\n",
      "Epoch 20/30\tloss: 0.1146\tacc: 96.66%\n",
      "Epoch 21/30\tloss: 0.1090\tacc: 96.85%\n",
      "Epoch 22/30\tloss: 0.1084\tacc: 96.85%\n",
      "Epoch 23/30\tloss: 0.1045\tacc: 96.99%\n",
      "Epoch 24/30\tloss: 0.1064\tacc: 96.91%\n",
      "Epoch 25/30\tloss: 0.1027\tacc: 97.00%\n",
      "Epoch 26/30\tloss: 0.1035\tacc: 97.00%\n",
      "Epoch 27/30\tloss: 0.1062\tacc: 96.82%\n",
      "Epoch 28/30\tloss: 0.0997\tacc: 97.04%\n",
      "Epoch 29/30\tloss: 0.1006\tacc: 97.02%\n",
      "Epoch 30/30\tloss: 0.0973\tacc: 97.13%\n"
     ]
    }
   ],
   "source": [
    "history = []\n",
    "weights = []\n",
    "for i in range(8):\n",
    "    print(\"=== Training Model %d ===\" % i)\n",
    "    h, w = train_model((x_train, y_train), models[i])\n",
    "    history.append(h)\n",
    "    weights.append(w)"
   ]
  },
  {
   "cell_type": "markdown",
   "metadata": {},
   "source": [
    "### Plot Learning Curves"
   ]
  },
  {
   "cell_type": "code",
   "execution_count": 8,
   "metadata": {
    "ExecuteTime": {
     "end_time": "2018-07-03T12:41:25.010976Z",
     "start_time": "2018-07-03T12:41:24.992542Z"
    }
   },
   "outputs": [],
   "source": [
    "def plot_learning_curve(history):\n",
    "    plt.plot(history[\"loss\"], label=\"Training Loss\")\n",
    "    plt.plot(1-np.array(history[\"acc\"]), label=\"Training Error Rate\")\n",
    "#     plt.plot(history[\"val_loss\"], label=\"Testing Loss\")\n",
    "#     plt.plot(1-np.array(history[\"val_acc\"]), label=\"Testing Error Rate\")\n",
    "    plt.legend()\n",
    "    plt.title(\"Learning Curve\")\n",
    "    plt.show()"
   ]
  },
  {
   "cell_type": "code",
   "execution_count": 9,
   "metadata": {
    "ExecuteTime": {
     "end_time": "2018-07-03T12:41:30.543389Z",
     "start_time": "2018-07-03T12:41:30.014904Z"
    }
   },
   "outputs": [
    {
     "data": {
      "image/png": "[encoded data removed]",
      "text/plain": [
       "<Figure size 432x288 with 1 Axes>"
      ]
     },
     "metadata": {},
     "output_type": "display_data"
    },
    {
     "data": {
      "image/png": "[encoded data removed]",
      "text/plain": [
       "<Figure size 432x288 with 1 Axes>"
      ]
     },
     "metadata": {},
     "output_type": "display_data"
    },
    {
     "data": {
      "image/png": "[encoded data removed]",
      "text/plain": [
       "<Figure size 432x288 with 1 Axes>"
      ]
     },
     "metadata": {},
     "output_type": "display_data"
    },
    {
     "data": {
      "image/png": "[encoded data removed]",
      "text/plain": [
       "<Figure size 432x288 with 1 Axes>"
      ]
     },
     "metadata": {},
     "output_type": "display_data"
    },
    {
     "data": {
      "image/png": "[encoded data removed]",
      "text/plain": [
       "<Figure size 432x288 with 1 Axes>"
      ]
     },
     "metadata": {},
     "output_type": "display_data"
    },
    {
     "data": {
      "image/png": "[encoded data removed]",
      "text/plain": [
       "<Figure size 432x288 with 1 Axes>"
      ]
     },
     "metadata": {},
     "output_type": "display_data"
    },
    {
     "data": {
      "image/png": "[encoded data removed]",
      "text/plain": [
       "<Figure size 432x288 with 1 Axes>"
      ]
     },
     "metadata": {},
     "output_type": "display_data"
    },
    {
     "data": {
      "image/png": "[encoded data removed]",
      "text/plain": [
       "<Figure size 432x288 with 1 Axes>"
      ]
     },
     "metadata": {},
     "output_type": "display_data"
    }
   ],
   "source": [
    "for i in range(8):\n",
    "    plot_learning_curve(history[i])"
   ]
  },
  {
   "cell_type": "markdown",
   "metadata": {},
   "source": [
    "### Apply PCA"
   ]
  },
  {
   "cell_type": "code",
   "execution_count": 10,
   "metadata": {
    "ExecuteTime": {
     "end_time": "2018-07-03T12:44:17.487049Z",
     "start_time": "2018-07-03T12:44:17.476629Z"
    }
   },
   "outputs": [],
   "source": [
    "# Concatenate weights of all events\n",
    "#weights = np.concatenate((weights0, weights1, weights2, weights3, weights4, weights5, weights6, weights7))\n",
    "whole_w = []\n",
    "for w in weights:\n",
    "    whole_w.append(w)\n",
    "whole_w = np.concatenate((whole_w))"
   ]
  },
  {
   "cell_type": "code",
   "execution_count": 11,
   "metadata": {
    "ExecuteTime": {
     "end_time": "2018-07-03T12:45:15.881603Z",
     "start_time": "2018-07-03T12:45:15.275909Z"
    }
   },
   "outputs": [],
   "source": [
    "from sklearn.decomposition import PCA\n",
    "pca = PCA(n_components=2)\n",
    "# Get layer 1 weights\n",
    "l1_w = pca.fit_transform(whole_w[:, :12544])\n",
    "# Get whole model weights\n",
    "whole_w = pca.fit_transform(whole_w)"
   ]
  },
  {
   "cell_type": "markdown",
   "metadata": {},
   "source": [
    "### Plot weights"
   ]
  },
  {
   "cell_type": "code",
   "execution_count": 12,
   "metadata": {
    "ExecuteTime": {
     "end_time": "2018-07-03T14:29:56.052229Z",
     "start_time": "2018-07-03T14:29:55.125493Z"
    }
   },
   "outputs": [
    {
     "data": {
      "image/png": "[encoded data removed]",
      "text/plain": [
       "<Figure size 432x288 with 1 Axes>"
      ]
     },
     "metadata": {},
     "output_type": "display_data"
    },
    {
     "data": {
      "image/png": "[encoded data removed]",
      "text/plain": [
       "<Figure size 432x288 with 1 Axes>"
      ]
     },
     "metadata": {},
     "output_type": "display_data"
    }
   ],
   "source": [
    "for i in range(8):\n",
    "    l1_x = l1_w[i*(EPOCHS//3):(i+1)*(EPOCHS//3), 0]\n",
    "    l1_y = l1_w[i*(EPOCHS//3):(i+1)*(EPOCHS//3), 1]\n",
    "    label = \"event %d\" % i\n",
    "    plt.scatter(l1_x, l1_y, label=label)\n",
    "    plt.legend()\n",
    "    plt.title(\"Layer 1\")\n",
    "plt.show()\n",
    "\n",
    "for i in range(8):\n",
    "    x = whole_w[i*(EPOCHS//3):(i+1)*(EPOCHS//3), 0]\n",
    "    y = whole_w[i*(EPOCHS//3):(i+1)*(EPOCHS//3), 1]\n",
    "    label = \"event %d\" % i\n",
    "    plt.scatter(x, y, label=label)\n",
    "    plt.legend()\n",
    "    plt.title(\"Whole Model\")\n",
    "plt.show()"
   ]
  },
  {
   "cell_type": "markdown",
   "metadata": {},
   "source": [
    "## Observe Gradient Norm During Training"
   ]
  },
  {
   "cell_type": "markdown",
   "metadata": {},
   "source": [
    "### Build Model"
   ]
  },
  {
   "cell_type": "code",
   "execution_count": 13,
   "metadata": {
    "ExecuteTime": {
     "end_time": "2018-07-03T16:37:24.800417Z",
     "start_time": "2018-07-03T16:37:24.510141Z"
    }
   },
   "outputs": [],
   "source": [
    "model2 = build_model()"
   ]
  },
  {
   "cell_type": "code",
   "execution_count": 14,
   "metadata": {
    "ExecuteTime": {
     "end_time": "2018-07-03T16:37:27.426495Z",
     "start_time": "2018-07-03T16:37:27.367877Z"
    }
   },
   "outputs": [],
   "source": [
    "model2.compile(optimizer=\"adam\", loss=\"categorical_crossentropy\")"
   ]
  },
  {
   "cell_type": "markdown",
   "metadata": {},
   "source": [
    "### Get Gradient Function"
   ]
  },
  {
   "cell_type": "code",
   "execution_count": 15,
   "metadata": {
    "ExecuteTime": {
     "end_time": "2018-07-03T16:37:34.600175Z",
     "start_time": "2018-07-03T16:37:34.591937Z"
    }
   },
   "outputs": [],
   "source": [
    "def get_gradients(model):\n",
    "    \"\"\"\n",
    "    Return the gradient of every trainable weight in model\n",
    "\n",
    "    Parameters\n",
    "    -----------\n",
    "    model : a keras model instance\n",
    "\n",
    "    First, find all tensors which are trainable in the model. Surprisingly,\n",
    "    `model.trainable_weights` will return tensors for which\n",
    "    trainable=False has been set on their layer (last time I checked), hence the extra check.\n",
    "    Next, get the gradients of the loss with respect to the weights.\n",
    "\n",
    "    \"\"\"\n",
    "    weights = [tensor for tensor in model.trainable_weights if model.get_layer(tensor.name[:-2]).trainable]\n",
    "    optimizer = model.optimizer\n",
    "\n",
    "    return optimizer.get_gradients(model.total_loss, weights)"
   ]
  },
  {
   "cell_type": "markdown",
   "metadata": {},
   "source": [
    "### Train Model\n",
    "*MNIST case only*"
   ]
  },
  {
   "cell_type": "code",
   "execution_count": 16,
   "metadata": {
    "ExecuteTime": {
     "end_time": "2018-07-03T18:12:32.282770Z",
     "start_time": "2018-07-03T17:31:20.194730Z"
    },
    "scrolled": true
   },
   "outputs": [
    {
     "name": "stdout",
     "output_type": "stream",
     "text": [
      "Epoch 1/5\tBatch 1/118\tloss: 2.3152\tgradient: 0.4511\n",
      "Epoch 1/5\tBatch 2/118\tloss: 2.3004\tgradient: 0.4428\n",
      "Epoch 1/5\tBatch 3/118\tloss: 2.2671\tgradient: 0.4593\n",
      "Epoch 1/5\tBatch 4/118\tloss: 2.2432\tgradient: 0.4433\n",
      "Epoch 1/5\tBatch 5/118\tloss: 2.2073\tgradient: 0.4690\n",
      "Epoch 1/5\tBatch 6/118\tloss: 2.1962\tgradient: 0.4498\n",
      "Epoch 1/5\tBatch 7/118\tloss: 2.1931\tgradient: 0.4467\n",
      "Epoch 1/5\tBatch 8/118\tloss: 2.1693\tgradient: 0.4565\n",
      "Epoch 1/5\tBatch 9/118\tloss: 2.1689\tgradient: 0.4879\n",
      "Epoch 1/5\tBatch 10/118\tloss: 2.1053\tgradient: 0.5548\n",
      "Epoch 1/5\tBatch 11/118\tloss: 2.1213\tgradient: 0.5276\n",
      "Epoch 1/5\tBatch 12/118\tloss: 2.0958\tgradient: 0.5323\n",
      "Epoch 1/5\tBatch 13/118\tloss: 2.0916\tgradient: 0.5504\n",
      "Epoch 1/5\tBatch 14/118\tloss: 2.0369\tgradient: 0.6348\n",
      "Epoch 1/5\tBatch 15/118\tloss: 2.0163\tgradient: 0.5879\n",
      "Epoch 1/5\tBatch 16/118\tloss: 2.0276\tgradient: 0.5765\n",
      "Epoch 1/5\tBatch 17/118\tloss: 1.9811\tgradient: 0.5634\n",
      "Epoch 1/5\tBatch 18/118\tloss: 1.9685\tgradient: 0.5616\n",
      "Epoch 1/5\tBatch 19/118\tloss: 1.9480\tgradient: 0.6059\n",
      "Epoch 1/5\tBatch 20/118\tloss: 1.9525\tgradient: 0.5593\n",
      "Epoch 1/5\tBatch 21/118\tloss: 1.8956\tgradient: 0.5938\n",
      "Epoch 1/5\tBatch 22/118\tloss: 1.8811\tgradient: 0.5785\n",
      "Epoch 1/5\tBatch 23/118\tloss: 1.8785\tgradient: 0.6383\n",
      "Epoch 1/5\tBatch 24/118\tloss: 1.8459\tgradient: 0.6644\n",
      "Epoch 1/5\tBatch 25/118\tloss: 1.7934\tgradient: 0.6694\n",
      "Epoch 1/5\tBatch 26/118\tloss: 1.7586\tgradient: 0.6320\n",
      "Epoch 1/5\tBatch 27/118\tloss: 1.8130\tgradient: 0.6387\n",
      "Epoch 1/5\tBatch 28/118\tloss: 1.7385\tgradient: 0.6520\n",
      "Epoch 1/5\tBatch 29/118\tloss: 1.7556\tgradient: 0.6159\n",
      "Epoch 1/5\tBatch 30/118\tloss: 1.7211\tgradient: 0.6989\n",
      "Epoch 1/5\tBatch 31/118\tloss: 1.7205\tgradient: 0.7012\n",
      "Epoch 1/5\tBatch 32/118\tloss: 1.6719\tgradient: 0.6087\n",
      "Epoch 1/5\tBatch 33/118\tloss: 1.6515\tgradient: 0.6743\n",
      "Epoch 1/5\tBatch 34/118\tloss: 1.6457\tgradient: 0.6176\n",
      "Epoch 1/5\tBatch 35/118\tloss: 1.5587\tgradient: 0.7061\n",
      "Epoch 1/5\tBatch 36/118\tloss: 1.5388\tgradient: 0.6526\n",
      "Epoch 1/5\tBatch 37/118\tloss: 1.5302\tgradient: 0.7358\n",
      "Epoch 1/5\tBatch 38/118\tloss: 1.5431\tgradient: 0.7284\n",
      "Epoch 1/5\tBatch 39/118\tloss: 1.4946\tgradient: 0.6216\n",
      "Epoch 1/5\tBatch 40/118\tloss: 1.5010\tgradient: 0.7865\n",
      "Epoch 1/5\tBatch 41/118\tloss: 1.4534\tgradient: 0.6401\n",
      "Epoch 1/5\tBatch 42/118\tloss: 1.4307\tgradient: 0.7268\n",
      "Epoch 1/5\tBatch 43/118\tloss: 1.3888\tgradient: 0.6512\n",
      "Epoch 1/5\tBatch 44/118\tloss: 1.4455\tgradient: 0.6417\n",
      "Epoch 1/5\tBatch 45/118\tloss: 1.3141\tgradient: 0.6989\n",
      "Epoch 1/5\tBatch 46/118\tloss: 1.3593\tgradient: 0.6529\n",
      "Epoch 1/5\tBatch 47/118\tloss: 1.3722\tgradient: 0.6892\n",
      "Epoch 1/5\tBatch 48/118\tloss: 1.2903\tgradient: 0.6981\n",
      "Epoch 1/5\tBatch 49/118\tloss: 1.2497\tgradient: 0.6782\n",
      "Epoch 1/5\tBatch 50/118\tloss: 1.2517\tgradient: 0.7092\n",
      "Epoch 1/5\tBatch 51/118\tloss: 1.2163\tgradient: 0.6279\n",
      "Epoch 1/5\tBatch 52/118\tloss: 1.2299\tgradient: 0.8219\n",
      "Epoch 1/5\tBatch 53/118\tloss: 1.2123\tgradient: 0.6999\n",
      "Epoch 1/5\tBatch 54/118\tloss: 1.1635\tgradient: 0.6535\n",
      "Epoch 1/5\tBatch 55/118\tloss: 1.1446\tgradient: 0.6327\n",
      "Epoch 1/5\tBatch 56/118\tloss: 1.1134\tgradient: 0.7089\n",
      "Epoch 1/5\tBatch 57/118\tloss: 1.1999\tgradient: 0.7058\n",
      "Epoch 1/5\tBatch 58/118\tloss: 1.0922\tgradient: 0.7647\n",
      "Epoch 1/5\tBatch 59/118\tloss: 1.1479\tgradient: 0.6152\n",
      "Epoch 1/5\tBatch 60/118\tloss: 1.0284\tgradient: 0.7006\n",
      "Epoch 1/5\tBatch 61/118\tloss: 1.1329\tgradient: 0.7142\n",
      "Epoch 1/5\tBatch 62/118\tloss: 1.0423\tgradient: 0.6518\n",
      "Epoch 1/5\tBatch 63/118\tloss: 0.9807\tgradient: 0.7262\n",
      "Epoch 1/5\tBatch 64/118\tloss: 0.9995\tgradient: 0.7104\n",
      "Epoch 1/5\tBatch 65/118\tloss: 0.9677\tgradient: 0.6691\n",
      "Epoch 1/5\tBatch 66/118\tloss: 0.9488\tgradient: 0.6827\n",
      "Epoch 1/5\tBatch 67/118\tloss: 0.9754\tgradient: 0.5454\n",
      "Epoch 1/5\tBatch 68/118\tloss: 0.9059\tgradient: 0.7241\n",
      "Epoch 1/5\tBatch 69/118\tloss: 0.9628\tgradient: 0.6802\n",
      "Epoch 1/5\tBatch 70/118\tloss: 0.8800\tgradient: 0.5790\n",
      "Epoch 1/5\tBatch 71/118\tloss: 0.9214\tgradient: 0.5409\n",
      "Epoch 1/5\tBatch 72/118\tloss: 0.9027\tgradient: 0.6049\n",
      "Epoch 1/5\tBatch 73/118\tloss: 0.8261\tgradient: 0.5130\n",
      "Epoch 1/5\tBatch 74/118\tloss: 0.8298\tgradient: 0.6122\n",
      "Epoch 1/5\tBatch 75/118\tloss: 0.8724\tgradient: 0.5472\n",
      "Epoch 1/5\tBatch 76/118\tloss: 0.8218\tgradient: 0.5379\n",
      "Epoch 1/5\tBatch 77/118\tloss: 0.7761\tgradient: 0.5868\n",
      "Epoch 1/5\tBatch 78/118\tloss: 0.8034\tgradient: 0.6461\n",
      "Epoch 1/5\tBatch 79/118\tloss: 0.7451\tgradient: 0.6041\n",
      "Epoch 1/5\tBatch 80/118\tloss: 0.7862\tgradient: 0.5197\n",
      "Epoch 1/5\tBatch 81/118\tloss: 0.6807\tgradient: 0.5966\n",
      "Epoch 1/5\tBatch 82/118\tloss: 0.7564\tgradient: 0.5706\n",
      "Epoch 1/5\tBatch 83/118\tloss: 0.7589\tgradient: 0.6047\n",
      "Epoch 1/5\tBatch 84/118\tloss: 0.7325\tgradient: 0.7673\n",
      "Epoch 1/5\tBatch 85/118\tloss: 0.7434\tgradient: 0.4839\n",
      "Epoch 1/5\tBatch 86/118\tloss: 0.7372\tgradient: 0.4590\n",
      "Epoch 1/5\tBatch 87/118\tloss: 0.7256\tgradient: 0.4414\n",
      "Epoch 1/5\tBatch 88/118\tloss: 0.7244\tgradient: 0.4675\n",
      "Epoch 1/5\tBatch 89/118\tloss: 0.7214\tgradient: 0.5133\n",
      "Epoch 1/5\tBatch 90/118\tloss: 0.7105\tgradient: 0.5972\n",
      "Epoch 1/5\tBatch 91/118\tloss: 0.6283\tgradient: 0.4958\n",
      "Epoch 1/5\tBatch 92/118\tloss: 0.6560\tgradient: 0.4901\n",
      "Epoch 1/5\tBatch 93/118\tloss: 0.5885\tgradient: 0.5040\n",
      "Epoch 1/5\tBatch 94/118\tloss: 0.6753\tgradient: 0.6339\n",
      "Epoch 1/5\tBatch 95/118\tloss: 0.6314\tgradient: 0.6683\n",
      "Epoch 1/5\tBatch 96/118\tloss: 0.5891\tgradient: 0.5920\n",
      "Epoch 1/5\tBatch 97/118\tloss: 0.6420\tgradient: 0.5912\n",
      "Epoch 1/5\tBatch 98/118\tloss: 0.6482\tgradient: 0.6579\n",
      "Epoch 1/5\tBatch 99/118\tloss: 0.6066\tgradient: 0.5506\n",
      "Epoch 1/5\tBatch 100/118\tloss: 0.5775\tgradient: 0.6263\n",
      "Epoch 1/5\tBatch 101/118\tloss: 0.5959\tgradient: 0.5382\n",
      "Epoch 1/5\tBatch 102/118\tloss: 0.6021\tgradient: 0.4655\n",
      "Epoch 1/5\tBatch 103/118\tloss: 0.6386\tgradient: 0.5038\n",
      "Epoch 1/5\tBatch 104/118\tloss: 0.5976\tgradient: 0.5940\n",
      "Epoch 1/5\tBatch 105/118\tloss: 0.6110\tgradient: 0.6215\n",
      "Epoch 1/5\tBatch 106/118\tloss: 0.5872\tgradient: 0.6151\n",
      "Epoch 1/5\tBatch 107/118\tloss: 0.5315\tgradient: 0.5978\n",
      "Epoch 1/5\tBatch 108/118\tloss: 0.5916\tgradient: 0.6734\n",
      "Epoch 1/5\tBatch 109/118\tloss: 0.5105\tgradient: 0.4815\n",
      "Epoch 1/5\tBatch 110/118\tloss: 0.5110\tgradient: 0.5461\n",
      "Epoch 1/5\tBatch 111/118\tloss: 0.5649\tgradient: 0.4275\n",
      "Epoch 1/5\tBatch 112/118\tloss: 0.4864\tgradient: 0.4532\n",
      "Epoch 1/5\tBatch 113/118\tloss: 0.5236\tgradient: 0.6144\n",
      "Epoch 1/5\tBatch 114/118\tloss: 0.5618\tgradient: 0.6406\n",
      "Epoch 1/5\tBatch 115/118\tloss: 0.5782\tgradient: 0.6040\n",
      "Epoch 1/5\tBatch 116/118\tloss: 0.4755\tgradient: 0.5031\n",
      "Epoch 1/5\tBatch 117/118\tloss: 0.5542\tgradient: 0.6823\n",
      "Epoch 1/5\tBatch 118/118\tloss: 0.5205\tgradient: 1.1128\n",
      "Epoch 2/5\tBatch 1/118\tloss: 0.5409\tgradient: 0.5537\n",
      "Epoch 2/5\tBatch 2/118\tloss: 0.4417\tgradient: 0.4179\n",
      "Epoch 2/5\tBatch 3/118\tloss: 0.4857\tgradient: 0.4724\n",
      "Epoch 2/5\tBatch 4/118\tloss: 0.4642\tgradient: 0.6503\n",
      "Epoch 2/5\tBatch 5/118\tloss: 0.4414\tgradient: 0.4406\n",
      "Epoch 2/5\tBatch 6/118\tloss: 0.4984\tgradient: 0.5248\n",
      "Epoch 2/5\tBatch 7/118\tloss: 0.5669\tgradient: 0.5992\n",
      "Epoch 2/5\tBatch 8/118\tloss: 0.5128\tgradient: 0.4421\n",
      "Epoch 2/5\tBatch 9/118\tloss: 0.4551\tgradient: 0.5076\n",
      "Epoch 2/5\tBatch 10/118\tloss: 0.4926\tgradient: 0.6242\n",
      "Epoch 2/5\tBatch 11/118\tloss: 0.5064\tgradient: 0.4963\n",
      "Epoch 2/5\tBatch 12/118\tloss: 0.4687\tgradient: 0.5429\n",
      "Epoch 2/5\tBatch 13/118\tloss: 0.4527\tgradient: 0.5338\n",
      "Epoch 2/5\tBatch 14/118\tloss: 0.4809\tgradient: 0.4725\n",
      "Epoch 2/5\tBatch 15/118\tloss: 0.4646\tgradient: 0.5127\n",
      "Epoch 2/5\tBatch 16/118\tloss: 0.4222\tgradient: 0.7800\n",
      "Epoch 2/5\tBatch 17/118\tloss: 0.4424\tgradient: 0.7047\n",
      "Epoch 2/5\tBatch 18/118\tloss: 0.4684\tgradient: 0.5605\n",
      "Epoch 2/5\tBatch 19/118\tloss: 0.4570\tgradient: 0.7312\n",
      "Epoch 2/5\tBatch 20/118\tloss: 0.4184\tgradient: 0.6743\n",
      "Epoch 2/5\tBatch 21/118\tloss: 0.4596\tgradient: 0.3728\n",
      "Epoch 2/5\tBatch 22/118\tloss: 0.3938\tgradient: 0.4973\n",
      "Epoch 2/5\tBatch 23/118\tloss: 0.4864\tgradient: 0.4796\n",
      "Epoch 2/5\tBatch 24/118\tloss: 0.4528\tgradient: 0.7691\n",
      "Epoch 2/5\tBatch 25/118\tloss: 0.4975\tgradient: 0.4978\n",
      "Epoch 2/5\tBatch 26/118\tloss: 0.4385\tgradient: 0.5298\n",
      "Epoch 2/5\tBatch 27/118\tloss: 0.4692\tgradient: 0.5557\n",
      "Epoch 2/5\tBatch 28/118\tloss: 0.4428\tgradient: 0.4862\n",
      "Epoch 2/5\tBatch 29/118\tloss: 0.4738\tgradient: 0.4315\n",
      "Epoch 2/5\tBatch 30/118\tloss: 0.3921\tgradient: 0.6300\n",
      "Epoch 2/5\tBatch 31/118\tloss: 0.5097\tgradient: 0.5966\n",
      "Epoch 2/5\tBatch 32/118\tloss: 0.4675\tgradient: 0.3984\n",
      "Epoch 2/5\tBatch 33/118\tloss: 0.4144\tgradient: 0.3819\n",
      "Epoch 2/5\tBatch 34/118\tloss: 0.4182\tgradient: 0.3901\n",
      "Epoch 2/5\tBatch 35/118\tloss: 0.3791\tgradient: 0.3010\n",
      "Epoch 2/5\tBatch 36/118\tloss: 0.4046\tgradient: 0.4141\n",
      "Epoch 2/5\tBatch 37/118\tloss: 0.4884\tgradient: 0.5422\n"
     ]
    },
    {
     "name": "stdout",
     "output_type": "stream",
     "text": [
      "Epoch 2/5\tBatch 38/118\tloss: 0.4568\tgradient: 0.4503\n",
      "Epoch 2/5\tBatch 39/118\tloss: 0.4189\tgradient: 0.5449\n",
      "Epoch 2/5\tBatch 40/118\tloss: 0.3763\tgradient: 0.3911\n",
      "Epoch 2/5\tBatch 41/118\tloss: 0.4139\tgradient: 0.3862\n",
      "Epoch 2/5\tBatch 42/118\tloss: 0.3855\tgradient: 0.3404\n",
      "Epoch 2/5\tBatch 43/118\tloss: 0.4144\tgradient: 0.4023\n",
      "Epoch 2/5\tBatch 44/118\tloss: 0.4186\tgradient: 0.4224\n",
      "Epoch 2/5\tBatch 45/118\tloss: 0.3970\tgradient: 0.4487\n",
      "Epoch 2/5\tBatch 46/118\tloss: 0.3828\tgradient: 0.3804\n",
      "Epoch 2/5\tBatch 47/118\tloss: 0.4321\tgradient: 0.5420\n",
      "Epoch 2/5\tBatch 48/118\tloss: 0.3939\tgradient: 0.3470\n",
      "Epoch 2/5\tBatch 49/118\tloss: 0.4269\tgradient: 0.4440\n",
      "Epoch 2/5\tBatch 50/118\tloss: 0.5003\tgradient: 0.6807\n",
      "Epoch 2/5\tBatch 51/118\tloss: 0.3992\tgradient: 0.4896\n",
      "Epoch 2/5\tBatch 52/118\tloss: 0.3807\tgradient: 0.4220\n",
      "Epoch 2/5\tBatch 53/118\tloss: 0.3979\tgradient: 0.4867\n",
      "Epoch 2/5\tBatch 54/118\tloss: 0.4348\tgradient: 0.5862\n",
      "Epoch 2/5\tBatch 55/118\tloss: 0.4242\tgradient: 0.4951\n",
      "Epoch 2/5\tBatch 56/118\tloss: 0.4249\tgradient: 0.4396\n",
      "Epoch 2/5\tBatch 57/118\tloss: 0.3729\tgradient: 0.4057\n",
      "Epoch 2/5\tBatch 58/118\tloss: 0.3452\tgradient: 0.3526\n",
      "Epoch 2/5\tBatch 59/118\tloss: 0.4031\tgradient: 0.5557\n",
      "Epoch 2/5\tBatch 60/118\tloss: 0.3568\tgradient: 0.4829\n",
      "Epoch 2/5\tBatch 61/118\tloss: 0.5123\tgradient: 0.6279\n",
      "Epoch 2/5\tBatch 62/118\tloss: 0.3565\tgradient: 0.3378\n",
      "Epoch 2/5\tBatch 63/118\tloss: 0.3792\tgradient: 0.5015\n",
      "Epoch 2/5\tBatch 64/118\tloss: 0.3825\tgradient: 0.3168\n",
      "Epoch 2/5\tBatch 65/118\tloss: 0.4239\tgradient: 0.4612\n",
      "Epoch 2/5\tBatch 66/118\tloss: 0.3749\tgradient: 0.5201\n",
      "Epoch 2/5\tBatch 67/118\tloss: 0.4602\tgradient: 0.4476\n",
      "Epoch 2/5\tBatch 68/118\tloss: 0.3738\tgradient: 0.5464\n",
      "Epoch 2/5\tBatch 69/118\tloss: 0.3721\tgradient: 0.5281\n",
      "Epoch 2/5\tBatch 70/118\tloss: 0.3774\tgradient: 0.4090\n",
      "Epoch 2/5\tBatch 71/118\tloss: 0.4135\tgradient: 0.5504\n",
      "Epoch 2/5\tBatch 72/118\tloss: 0.3434\tgradient: 0.5696\n",
      "Epoch 2/5\tBatch 73/118\tloss: 0.3886\tgradient: 0.5931\n",
      "Epoch 2/5\tBatch 74/118\tloss: 0.3447\tgradient: 0.4352\n",
      "Epoch 2/5\tBatch 75/118\tloss: 0.3974\tgradient: 0.5053\n",
      "Epoch 2/5\tBatch 76/118\tloss: 0.3522\tgradient: 0.5708\n",
      "Epoch 2/5\tBatch 77/118\tloss: 0.3418\tgradient: 0.3871\n",
      "Epoch 2/5\tBatch 78/118\tloss: 0.3434\tgradient: 0.3981\n",
      "Epoch 2/5\tBatch 79/118\tloss: 0.3657\tgradient: 0.4295\n",
      "Epoch 2/5\tBatch 80/118\tloss: 0.3299\tgradient: 0.4657\n",
      "Epoch 2/5\tBatch 81/118\tloss: 0.3798\tgradient: 0.4283\n",
      "Epoch 2/5\tBatch 82/118\tloss: 0.3529\tgradient: 0.5193\n",
      "Epoch 2/5\tBatch 83/118\tloss: 0.3496\tgradient: 0.3877\n",
      "Epoch 2/5\tBatch 84/118\tloss: 0.3504\tgradient: 0.7717\n",
      "Epoch 2/5\tBatch 85/118\tloss: 0.3573\tgradient: 0.3594\n",
      "Epoch 2/5\tBatch 86/118\tloss: 0.3227\tgradient: 0.5191\n",
      "Epoch 2/5\tBatch 87/118\tloss: 0.3634\tgradient: 0.3139\n",
      "Epoch 2/5\tBatch 88/118\tloss: 0.3772\tgradient: 0.3386\n",
      "Epoch 2/5\tBatch 89/118\tloss: 0.3801\tgradient: 0.5754\n",
      "Epoch 2/5\tBatch 90/118\tloss: 0.3529\tgradient: 0.4547\n",
      "Epoch 2/5\tBatch 91/118\tloss: 0.4004\tgradient: 0.5001\n",
      "Epoch 2/5\tBatch 92/118\tloss: 0.3157\tgradient: 0.3848\n",
      "Epoch 2/5\tBatch 93/118\tloss: 0.4202\tgradient: 0.6357\n",
      "Epoch 2/5\tBatch 94/118\tloss: 0.3236\tgradient: 0.3865\n",
      "Epoch 2/5\tBatch 95/118\tloss: 0.3367\tgradient: 0.6031\n",
      "Epoch 2/5\tBatch 96/118\tloss: 0.3333\tgradient: 0.5637\n",
      "Epoch 2/5\tBatch 97/118\tloss: 0.3936\tgradient: 0.4890\n",
      "Epoch 2/5\tBatch 98/118\tloss: 0.3006\tgradient: 0.4748\n",
      "Epoch 2/5\tBatch 99/118\tloss: 0.4111\tgradient: 0.6398\n",
      "Epoch 2/5\tBatch 100/118\tloss: 0.3550\tgradient: 0.5558\n",
      "Epoch 2/5\tBatch 101/118\tloss: 0.3205\tgradient: 0.6113\n",
      "Epoch 2/5\tBatch 102/118\tloss: 0.4251\tgradient: 0.7116\n",
      "Epoch 2/5\tBatch 103/118\tloss: 0.3603\tgradient: 0.4590\n",
      "Epoch 2/5\tBatch 104/118\tloss: 0.3176\tgradient: 0.3785\n",
      "Epoch 2/5\tBatch 105/118\tloss: 0.3502\tgradient: 0.5445\n",
      "Epoch 2/5\tBatch 106/118\tloss: 0.3736\tgradient: 0.6584\n",
      "Epoch 2/5\tBatch 107/118\tloss: 0.3820\tgradient: 0.5169\n",
      "Epoch 2/5\tBatch 108/118\tloss: 0.3363\tgradient: 0.4757\n",
      "Epoch 2/5\tBatch 109/118\tloss: 0.3502\tgradient: 0.4025\n",
      "Epoch 2/5\tBatch 110/118\tloss: 0.3679\tgradient: 0.4878\n",
      "Epoch 2/5\tBatch 111/118\tloss: 0.4064\tgradient: 0.5312\n",
      "Epoch 2/5\tBatch 112/118\tloss: 0.3567\tgradient: 0.4832\n",
      "Epoch 2/5\tBatch 113/118\tloss: 0.3157\tgradient: 0.7472\n",
      "Epoch 2/5\tBatch 114/118\tloss: 0.3157\tgradient: 0.5535\n",
      "Epoch 2/5\tBatch 115/118\tloss: 0.3647\tgradient: 0.5626\n",
      "Epoch 2/5\tBatch 116/118\tloss: 0.4235\tgradient: 0.5434\n",
      "Epoch 2/5\tBatch 117/118\tloss: 0.3116\tgradient: 0.4259\n",
      "Epoch 2/5\tBatch 118/118\tloss: 0.2690\tgradient: 0.6113\n",
      "Epoch 3/5\tBatch 1/118\tloss: 0.2847\tgradient: 0.4270\n",
      "Epoch 3/5\tBatch 2/118\tloss: 0.3339\tgradient: 0.3679\n",
      "Epoch 3/5\tBatch 3/118\tloss: 0.3134\tgradient: 0.5442\n",
      "Epoch 3/5\tBatch 4/118\tloss: 0.4009\tgradient: 0.6660\n",
      "Epoch 3/5\tBatch 5/118\tloss: 0.2922\tgradient: 0.4121\n",
      "Epoch 3/5\tBatch 6/118\tloss: 0.3245\tgradient: 0.5227\n",
      "Epoch 3/5\tBatch 7/118\tloss: 0.3556\tgradient: 0.5473\n",
      "Epoch 3/5\tBatch 8/118\tloss: 0.2889\tgradient: 0.6915\n",
      "Epoch 3/5\tBatch 9/118\tloss: 0.3046\tgradient: 0.3417\n",
      "Epoch 3/5\tBatch 10/118\tloss: 0.3004\tgradient: 0.4321\n",
      "Epoch 3/5\tBatch 11/118\tloss: 0.3309\tgradient: 0.4417\n",
      "Epoch 3/5\tBatch 12/118\tloss: 0.3593\tgradient: 0.5027\n",
      "Epoch 3/5\tBatch 13/118\tloss: 0.3619\tgradient: 0.3596\n",
      "Epoch 3/5\tBatch 14/118\tloss: 0.3565\tgradient: 0.4955\n",
      "Epoch 3/5\tBatch 15/118\tloss: 0.3968\tgradient: 0.5818\n",
      "Epoch 3/5\tBatch 16/118\tloss: 0.2878\tgradient: 0.4165\n",
      "Epoch 3/5\tBatch 17/118\tloss: 0.3118\tgradient: 0.5148\n",
      "Epoch 3/5\tBatch 18/118\tloss: 0.3056\tgradient: 0.4214\n",
      "Epoch 3/5\tBatch 19/118\tloss: 0.2915\tgradient: 0.5945\n",
      "Epoch 3/5\tBatch 20/118\tloss: 0.3042\tgradient: 0.6281\n",
      "Epoch 3/5\tBatch 21/118\tloss: 0.3140\tgradient: 0.3753\n",
      "Epoch 3/5\tBatch 22/118\tloss: 0.3470\tgradient: 0.5259\n",
      "Epoch 3/5\tBatch 23/118\tloss: 0.4028\tgradient: 0.5187\n",
      "Epoch 3/5\tBatch 24/118\tloss: 0.2943\tgradient: 0.4455\n",
      "Epoch 3/5\tBatch 25/118\tloss: 0.3348\tgradient: 0.6232\n",
      "Epoch 3/5\tBatch 26/118\tloss: 0.2857\tgradient: 0.4271\n",
      "Epoch 3/5\tBatch 27/118\tloss: 0.3405\tgradient: 0.5895\n",
      "Epoch 3/5\tBatch 28/118\tloss: 0.3416\tgradient: 0.4658\n",
      "Epoch 3/5\tBatch 29/118\tloss: 0.3013\tgradient: 0.4353\n",
      "Epoch 3/5\tBatch 30/118\tloss: 0.3643\tgradient: 0.4177\n",
      "Epoch 3/5\tBatch 31/118\tloss: 0.3411\tgradient: 0.3213\n",
      "Epoch 3/5\tBatch 32/118\tloss: 0.3413\tgradient: 0.4486\n",
      "Epoch 3/5\tBatch 33/118\tloss: 0.3403\tgradient: 0.5712\n",
      "Epoch 3/5\tBatch 34/118\tloss: 0.3534\tgradient: 0.5943\n",
      "Epoch 3/5\tBatch 35/118\tloss: 0.2763\tgradient: 0.5138\n",
      "Epoch 3/5\tBatch 36/118\tloss: 0.3474\tgradient: 0.4795\n",
      "Epoch 3/5\tBatch 37/118\tloss: 0.3436\tgradient: 0.3275\n",
      "Epoch 3/5\tBatch 38/118\tloss: 0.3510\tgradient: 0.4358\n",
      "Epoch 3/5\tBatch 39/118\tloss: 0.3094\tgradient: 0.5346\n",
      "Epoch 3/5\tBatch 40/118\tloss: 0.2895\tgradient: 0.6059\n",
      "Epoch 3/5\tBatch 41/118\tloss: 0.3028\tgradient: 0.4434\n",
      "Epoch 3/5\tBatch 42/118\tloss: 0.3090\tgradient: 0.4730\n",
      "Epoch 3/5\tBatch 43/118\tloss: 0.2797\tgradient: 0.5764\n",
      "Epoch 3/5\tBatch 44/118\tloss: 0.3559\tgradient: 0.4259\n",
      "Epoch 3/5\tBatch 45/118\tloss: 0.2960\tgradient: 0.3733\n",
      "Epoch 3/5\tBatch 46/118\tloss: 0.3479\tgradient: 0.5756\n",
      "Epoch 3/5\tBatch 47/118\tloss: 0.3434\tgradient: 0.5410\n",
      "Epoch 3/5\tBatch 48/118\tloss: 0.3046\tgradient: 0.5344\n",
      "Epoch 3/5\tBatch 49/118\tloss: 0.3519\tgradient: 0.5692\n",
      "Epoch 3/5\tBatch 50/118\tloss: 0.3228\tgradient: 0.4101\n",
      "Epoch 3/5\tBatch 51/118\tloss: 0.2853\tgradient: 0.5305\n",
      "Epoch 3/5\tBatch 52/118\tloss: 0.3189\tgradient: 0.5339\n",
      "Epoch 3/5\tBatch 53/118\tloss: 0.3255\tgradient: 0.5648\n",
      "Epoch 3/5\tBatch 54/118\tloss: 0.3897\tgradient: 0.7066\n",
      "Epoch 3/5\tBatch 55/118\tloss: 0.2835\tgradient: 0.4244\n",
      "Epoch 3/5\tBatch 56/118\tloss: 0.3198\tgradient: 0.4815\n",
      "Epoch 3/5\tBatch 57/118\tloss: 0.2761\tgradient: 0.4202\n",
      "Epoch 3/5\tBatch 58/118\tloss: 0.4253\tgradient: 0.5460\n",
      "Epoch 3/5\tBatch 59/118\tloss: 0.3507\tgradient: 0.5673\n",
      "Epoch 3/5\tBatch 60/118\tloss: 0.3354\tgradient: 0.6842\n",
      "Epoch 3/5\tBatch 61/118\tloss: 0.3644\tgradient: 0.4880\n",
      "Epoch 3/5\tBatch 62/118\tloss: 0.2764\tgradient: 0.3872\n",
      "Epoch 3/5\tBatch 63/118\tloss: 0.3191\tgradient: 0.4763\n",
      "Epoch 3/5\tBatch 64/118\tloss: 0.3038\tgradient: 0.4069\n",
      "Epoch 3/5\tBatch 65/118\tloss: 0.3076\tgradient: 0.3571\n",
      "Epoch 3/5\tBatch 66/118\tloss: 0.2994\tgradient: 0.4553\n",
      "Epoch 3/5\tBatch 67/118\tloss: 0.3281\tgradient: 0.4064\n",
      "Epoch 3/5\tBatch 68/118\tloss: 0.2870\tgradient: 0.5787\n",
      "Epoch 3/5\tBatch 69/118\tloss: 0.2863\tgradient: 0.4942\n",
      "Epoch 3/5\tBatch 70/118\tloss: 0.2806\tgradient: 0.4515\n",
      "Epoch 3/5\tBatch 71/118\tloss: 0.2776\tgradient: 0.6251\n",
      "Epoch 3/5\tBatch 72/118\tloss: 0.3512\tgradient: 0.4042\n",
      "Epoch 3/5\tBatch 73/118\tloss: 0.2849\tgradient: 0.4882\n",
      "Epoch 3/5\tBatch 74/118\tloss: 0.3093\tgradient: 0.5298\n"
     ]
    },
    {
     "name": "stdout",
     "output_type": "stream",
     "text": [
      "Epoch 3/5\tBatch 75/118\tloss: 0.3205\tgradient: 0.3454\n",
      "Epoch 3/5\tBatch 76/118\tloss: 0.3605\tgradient: 0.5363\n",
      "Epoch 3/5\tBatch 77/118\tloss: 0.2238\tgradient: 0.3662\n",
      "Epoch 3/5\tBatch 78/118\tloss: 0.2708\tgradient: 0.5497\n",
      "Epoch 3/5\tBatch 79/118\tloss: 0.2912\tgradient: 0.4533\n",
      "Epoch 3/5\tBatch 80/118\tloss: 0.3765\tgradient: 0.6605\n",
      "Epoch 3/5\tBatch 81/118\tloss: 0.2920\tgradient: 0.5493\n",
      "Epoch 3/5\tBatch 82/118\tloss: 0.3384\tgradient: 0.4590\n",
      "Epoch 3/5\tBatch 83/118\tloss: 0.2866\tgradient: 0.3307\n",
      "Epoch 3/5\tBatch 84/118\tloss: 0.2864\tgradient: 0.4574\n",
      "Epoch 3/5\tBatch 85/118\tloss: 0.2740\tgradient: 0.4264\n",
      "Epoch 3/5\tBatch 86/118\tloss: 0.3129\tgradient: 0.4147\n",
      "Epoch 3/5\tBatch 87/118\tloss: 0.2887\tgradient: 0.3750\n",
      "Epoch 3/5\tBatch 88/118\tloss: 0.3193\tgradient: 0.6252\n",
      "Epoch 3/5\tBatch 89/118\tloss: 0.4154\tgradient: 0.5869\n",
      "Epoch 3/5\tBatch 90/118\tloss: 0.2709\tgradient: 0.4946\n",
      "Epoch 3/5\tBatch 91/118\tloss: 0.3313\tgradient: 0.5808\n",
      "Epoch 3/5\tBatch 92/118\tloss: 0.3315\tgradient: 0.4569\n",
      "Epoch 3/5\tBatch 93/118\tloss: 0.3134\tgradient: 0.6097\n",
      "Epoch 3/5\tBatch 94/118\tloss: 0.3139\tgradient: 0.4127\n",
      "Epoch 3/5\tBatch 95/118\tloss: 0.2893\tgradient: 0.5436\n",
      "Epoch 3/5\tBatch 96/118\tloss: 0.2785\tgradient: 0.5996\n",
      "Epoch 3/5\tBatch 97/118\tloss: 0.2911\tgradient: 0.4085\n",
      "Epoch 3/5\tBatch 98/118\tloss: 0.3670\tgradient: 0.5952\n",
      "Epoch 3/5\tBatch 99/118\tloss: 0.3228\tgradient: 0.6150\n",
      "Epoch 3/5\tBatch 100/118\tloss: 0.3569\tgradient: 0.6298\n",
      "Epoch 3/5\tBatch 101/118\tloss: 0.3174\tgradient: 0.4326\n",
      "Epoch 3/5\tBatch 102/118\tloss: 0.3353\tgradient: 0.6311\n",
      "Epoch 3/5\tBatch 103/118\tloss: 0.3091\tgradient: 0.7328\n",
      "Epoch 3/5\tBatch 104/118\tloss: 0.4329\tgradient: 0.8396\n",
      "Epoch 3/5\tBatch 105/118\tloss: 0.2820\tgradient: 0.4972\n",
      "Epoch 3/5\tBatch 106/118\tloss: 0.2781\tgradient: 0.3762\n",
      "Epoch 3/5\tBatch 107/118\tloss: 0.3098\tgradient: 0.5657\n",
      "Epoch 3/5\tBatch 108/118\tloss: 0.3221\tgradient: 0.4359\n",
      "Epoch 3/5\tBatch 109/118\tloss: 0.3660\tgradient: 0.5058\n",
      "Epoch 3/5\tBatch 110/118\tloss: 0.3098\tgradient: 0.4404\n",
      "Epoch 3/5\tBatch 111/118\tloss: 0.2518\tgradient: 0.5467\n",
      "Epoch 3/5\tBatch 112/118\tloss: 0.2713\tgradient: 0.4321\n",
      "Epoch 3/5\tBatch 113/118\tloss: 0.2803\tgradient: 0.3307\n",
      "Epoch 3/5\tBatch 114/118\tloss: 0.3009\tgradient: 0.5656\n",
      "Epoch 3/5\tBatch 115/118\tloss: 0.3450\tgradient: 0.4609\n",
      "Epoch 3/5\tBatch 116/118\tloss: 0.3185\tgradient: 0.4345\n",
      "Epoch 3/5\tBatch 117/118\tloss: 0.2989\tgradient: 0.4375\n",
      "Epoch 3/5\tBatch 118/118\tloss: 0.2419\tgradient: 0.9423\n",
      "Epoch 4/5\tBatch 1/118\tloss: 0.3459\tgradient: 0.6809\n",
      "Epoch 4/5\tBatch 2/118\tloss: 0.2392\tgradient: 0.5339\n",
      "Epoch 4/5\tBatch 3/118\tloss: 0.3119\tgradient: 0.6712\n",
      "Epoch 4/5\tBatch 4/118\tloss: 0.2816\tgradient: 0.6390\n",
      "Epoch 4/5\tBatch 5/118\tloss: 0.2375\tgradient: 0.6138\n",
      "Epoch 4/5\tBatch 6/118\tloss: 0.3297\tgradient: 0.4060\n",
      "Epoch 4/5\tBatch 7/118\tloss: 0.2556\tgradient: 0.4941\n",
      "Epoch 4/5\tBatch 8/118\tloss: 0.2623\tgradient: 0.4254\n",
      "Epoch 4/5\tBatch 9/118\tloss: 0.3016\tgradient: 0.3969\n",
      "Epoch 4/5\tBatch 10/118\tloss: 0.2956\tgradient: 0.4642\n",
      "Epoch 4/5\tBatch 11/118\tloss: 0.3154\tgradient: 0.5531\n",
      "Epoch 4/5\tBatch 12/118\tloss: 0.3170\tgradient: 0.4905\n",
      "Epoch 4/5\tBatch 13/118\tloss: 0.2459\tgradient: 0.3521\n",
      "Epoch 4/5\tBatch 14/118\tloss: 0.3020\tgradient: 0.6557\n",
      "Epoch 4/5\tBatch 15/118\tloss: 0.2459\tgradient: 0.6057\n",
      "Epoch 4/5\tBatch 16/118\tloss: 0.2623\tgradient: 0.5161\n",
      "Epoch 4/5\tBatch 17/118\tloss: 0.2973\tgradient: 0.5777\n",
      "Epoch 4/5\tBatch 18/118\tloss: 0.3105\tgradient: 0.3946\n",
      "Epoch 4/5\tBatch 19/118\tloss: 0.2466\tgradient: 0.3482\n",
      "Epoch 4/5\tBatch 20/118\tloss: 0.2638\tgradient: 0.5043\n",
      "Epoch 4/5\tBatch 21/118\tloss: 0.2804\tgradient: 0.6050\n",
      "Epoch 4/5\tBatch 22/118\tloss: 0.2795\tgradient: 0.5430\n",
      "Epoch 4/5\tBatch 23/118\tloss: 0.3274\tgradient: 0.5790\n",
      "Epoch 4/5\tBatch 24/118\tloss: 0.2618\tgradient: 0.2813\n",
      "Epoch 4/5\tBatch 25/118\tloss: 0.3386\tgradient: 0.4934\n",
      "Epoch 4/5\tBatch 26/118\tloss: 0.2937\tgradient: 0.3945\n",
      "Epoch 4/5\tBatch 27/118\tloss: 0.3182\tgradient: 0.4323\n",
      "Epoch 4/5\tBatch 28/118\tloss: 0.3065\tgradient: 0.4071\n",
      "Epoch 4/5\tBatch 29/118\tloss: 0.2415\tgradient: 0.3806\n",
      "Epoch 4/5\tBatch 30/118\tloss: 0.2340\tgradient: 0.3828\n",
      "Epoch 4/5\tBatch 31/118\tloss: 0.3207\tgradient: 0.5216\n",
      "Epoch 4/5\tBatch 32/118\tloss: 0.3081\tgradient: 0.4005\n",
      "Epoch 4/5\tBatch 33/118\tloss: 0.2742\tgradient: 0.5317\n",
      "Epoch 4/5\tBatch 34/118\tloss: 0.3300\tgradient: 0.4424\n",
      "Epoch 4/5\tBatch 35/118\tloss: 0.3549\tgradient: 0.8108\n",
      "Epoch 4/5\tBatch 36/118\tloss: 0.2948\tgradient: 0.4310\n",
      "Epoch 4/5\tBatch 37/118\tloss: 0.2281\tgradient: 0.5041\n",
      "Epoch 4/5\tBatch 38/118\tloss: 0.3107\tgradient: 0.6251\n",
      "Epoch 4/5\tBatch 39/118\tloss: 0.2932\tgradient: 0.5549\n",
      "Epoch 4/5\tBatch 40/118\tloss: 0.2917\tgradient: 0.7202\n",
      "Epoch 4/5\tBatch 41/118\tloss: 0.3165\tgradient: 0.4495\n",
      "Epoch 4/5\tBatch 42/118\tloss: 0.2721\tgradient: 0.5191\n",
      "Epoch 4/5\tBatch 43/118\tloss: 0.2901\tgradient: 0.5044\n",
      "Epoch 4/5\tBatch 44/118\tloss: 0.3147\tgradient: 0.5810\n",
      "Epoch 4/5\tBatch 45/118\tloss: 0.2888\tgradient: 0.5516\n",
      "Epoch 4/5\tBatch 46/118\tloss: 0.2478\tgradient: 0.6074\n",
      "Epoch 4/5\tBatch 47/118\tloss: 0.2944\tgradient: 0.3789\n",
      "Epoch 4/5\tBatch 48/118\tloss: 0.3148\tgradient: 0.5254\n",
      "Epoch 4/5\tBatch 49/118\tloss: 0.2690\tgradient: 0.4491\n",
      "Epoch 4/5\tBatch 50/118\tloss: 0.2866\tgradient: 0.4174\n",
      "Epoch 4/5\tBatch 51/118\tloss: 0.2689\tgradient: 0.4510\n",
      "Epoch 4/5\tBatch 52/118\tloss: 0.3377\tgradient: 0.6704\n",
      "Epoch 4/5\tBatch 53/118\tloss: 0.3135\tgradient: 0.8760\n",
      "Epoch 4/5\tBatch 54/118\tloss: 0.3137\tgradient: 0.6425\n",
      "Epoch 4/5\tBatch 55/118\tloss: 0.2915\tgradient: 0.4902\n",
      "Epoch 4/5\tBatch 56/118\tloss: 0.2635\tgradient: 0.7849\n",
      "Epoch 4/5\tBatch 57/118\tloss: 0.2773\tgradient: 0.4583\n",
      "Epoch 4/5\tBatch 58/118\tloss: 0.3035\tgradient: 0.4312\n",
      "Epoch 4/5\tBatch 59/118\tloss: 0.2482\tgradient: 0.3029\n",
      "Epoch 4/5\tBatch 60/118\tloss: 0.2973\tgradient: 0.5289\n",
      "Epoch 4/5\tBatch 61/118\tloss: 0.2326\tgradient: 0.6427\n",
      "Epoch 4/5\tBatch 62/118\tloss: 0.2664\tgradient: 0.6503\n",
      "Epoch 4/5\tBatch 63/118\tloss: 0.2918\tgradient: 0.4074\n",
      "Epoch 4/5\tBatch 64/118\tloss: 0.2810\tgradient: 0.5960\n",
      "Epoch 4/5\tBatch 65/118\tloss: 0.3630\tgradient: 0.5385\n",
      "Epoch 4/5\tBatch 66/118\tloss: 0.3232\tgradient: 0.5073\n",
      "Epoch 4/5\tBatch 67/118\tloss: 0.2639\tgradient: 0.4295\n",
      "Epoch 4/5\tBatch 68/118\tloss: 0.3293\tgradient: 0.5022\n",
      "Epoch 4/5\tBatch 69/118\tloss: 0.3067\tgradient: 0.5042\n",
      "Epoch 4/5\tBatch 70/118\tloss: 0.3283\tgradient: 0.3978\n",
      "Epoch 4/5\tBatch 71/118\tloss: 0.2873\tgradient: 0.5141\n",
      "Epoch 4/5\tBatch 72/118\tloss: 0.2952\tgradient: 0.5333\n",
      "Epoch 4/5\tBatch 73/118\tloss: 0.2942\tgradient: 0.7501\n",
      "Epoch 4/5\tBatch 74/118\tloss: 0.2182\tgradient: 0.4822\n",
      "Epoch 4/5\tBatch 75/118\tloss: 0.3405\tgradient: 0.4086\n",
      "Epoch 4/5\tBatch 76/118\tloss: 0.3134\tgradient: 0.6065\n",
      "Epoch 4/5\tBatch 77/118\tloss: 0.2933\tgradient: 0.5525\n",
      "Epoch 4/5\tBatch 78/118\tloss: 0.2632\tgradient: 0.4132\n",
      "Epoch 4/5\tBatch 79/118\tloss: 0.3031\tgradient: 0.5155\n",
      "Epoch 4/5\tBatch 80/118\tloss: 0.2597\tgradient: 0.5066\n",
      "Epoch 4/5\tBatch 81/118\tloss: 0.2608\tgradient: 0.5848\n",
      "Epoch 4/5\tBatch 82/118\tloss: 0.2648\tgradient: 0.6894\n",
      "Epoch 4/5\tBatch 83/118\tloss: 0.2891\tgradient: 0.5635\n",
      "Epoch 4/5\tBatch 84/118\tloss: 0.3437\tgradient: 0.6763\n",
      "Epoch 4/5\tBatch 85/118\tloss: 0.2585\tgradient: 0.6313\n",
      "Epoch 4/5\tBatch 86/118\tloss: 0.2706\tgradient: 0.5271\n",
      "Epoch 4/5\tBatch 87/118\tloss: 0.3021\tgradient: 0.5104\n",
      "Epoch 4/5\tBatch 88/118\tloss: 0.2875\tgradient: 0.5908\n",
      "Epoch 4/5\tBatch 89/118\tloss: 0.3659\tgradient: 0.6105\n",
      "Epoch 4/5\tBatch 90/118\tloss: 0.3039\tgradient: 0.5175\n",
      "Epoch 4/5\tBatch 91/118\tloss: 0.3359\tgradient: 0.6026\n",
      "Epoch 4/5\tBatch 92/118\tloss: 0.2816\tgradient: 0.5421\n",
      "Epoch 4/5\tBatch 93/118\tloss: 0.2229\tgradient: 0.3497\n",
      "Epoch 4/5\tBatch 94/118\tloss: 0.2973\tgradient: 0.4616\n",
      "Epoch 4/5\tBatch 95/118\tloss: 0.2745\tgradient: 0.4218\n",
      "Epoch 4/5\tBatch 96/118\tloss: 0.2346\tgradient: 0.4561\n",
      "Epoch 4/5\tBatch 97/118\tloss: 0.2937\tgradient: 0.7200\n",
      "Epoch 4/5\tBatch 98/118\tloss: 0.2534\tgradient: 0.4231\n",
      "Epoch 4/5\tBatch 99/118\tloss: 0.2912\tgradient: 0.3831\n",
      "Epoch 4/5\tBatch 100/118\tloss: 0.2967\tgradient: 0.5268\n",
      "Epoch 4/5\tBatch 101/118\tloss: 0.2901\tgradient: 0.3773\n",
      "Epoch 4/5\tBatch 102/118\tloss: 0.2395\tgradient: 0.3388\n",
      "Epoch 4/5\tBatch 103/118\tloss: 0.2306\tgradient: 0.4755\n",
      "Epoch 4/5\tBatch 104/118\tloss: 0.2960\tgradient: 0.5214\n",
      "Epoch 4/5\tBatch 105/118\tloss: 0.2650\tgradient: 0.4514\n",
      "Epoch 4/5\tBatch 106/118\tloss: 0.2920\tgradient: 0.5369\n",
      "Epoch 4/5\tBatch 107/118\tloss: 0.2424\tgradient: 0.4622\n",
      "Epoch 4/5\tBatch 108/118\tloss: 0.2441\tgradient: 0.5037\n",
      "Epoch 4/5\tBatch 109/118\tloss: 0.2736\tgradient: 0.6328\n",
      "Epoch 4/5\tBatch 110/118\tloss: 0.3039\tgradient: 0.5965\n",
      "Epoch 4/5\tBatch 111/118\tloss: 0.2591\tgradient: 0.5611\n"
     ]
    },
    {
     "name": "stdout",
     "output_type": "stream",
     "text": [
      "Epoch 4/5\tBatch 112/118\tloss: 0.3327\tgradient: 0.4991\n",
      "Epoch 4/5\tBatch 113/118\tloss: 0.2738\tgradient: 0.7148\n",
      "Epoch 4/5\tBatch 114/118\tloss: 0.2859\tgradient: 0.3521\n",
      "Epoch 4/5\tBatch 115/118\tloss: 0.2814\tgradient: 0.3943\n",
      "Epoch 4/5\tBatch 116/118\tloss: 0.2892\tgradient: 0.4227\n",
      "Epoch 4/5\tBatch 117/118\tloss: 0.3307\tgradient: 0.5785\n",
      "Epoch 4/5\tBatch 118/118\tloss: 0.2580\tgradient: 1.1216\n",
      "Epoch 5/5\tBatch 1/118\tloss: 0.2219\tgradient: 0.5911\n",
      "Epoch 5/5\tBatch 2/118\tloss: 0.2939\tgradient: 0.7461\n",
      "Epoch 5/5\tBatch 3/118\tloss: 0.2265\tgradient: 0.5217\n",
      "Epoch 5/5\tBatch 4/118\tloss: 0.2958\tgradient: 0.7179\n",
      "Epoch 5/5\tBatch 5/118\tloss: 0.2690\tgradient: 0.6608\n",
      "Epoch 5/5\tBatch 6/118\tloss: 0.2616\tgradient: 0.5400\n",
      "Epoch 5/5\tBatch 7/118\tloss: 0.2778\tgradient: 0.5857\n",
      "Epoch 5/5\tBatch 8/118\tloss: 0.2446\tgradient: 0.6010\n",
      "Epoch 5/5\tBatch 9/118\tloss: 0.2638\tgradient: 0.5598\n",
      "Epoch 5/5\tBatch 10/118\tloss: 0.2601\tgradient: 0.3960\n",
      "Epoch 5/5\tBatch 11/118\tloss: 0.2897\tgradient: 0.4837\n",
      "Epoch 5/5\tBatch 12/118\tloss: 0.2691\tgradient: 0.4845\n",
      "Epoch 5/5\tBatch 13/118\tloss: 0.2583\tgradient: 0.4444\n",
      "Epoch 5/5\tBatch 14/118\tloss: 0.3264\tgradient: 0.7185\n",
      "Epoch 5/5\tBatch 15/118\tloss: 0.2821\tgradient: 0.5060\n",
      "Epoch 5/5\tBatch 16/118\tloss: 0.2739\tgradient: 0.3109\n",
      "Epoch 5/5\tBatch 17/118\tloss: 0.2785\tgradient: 0.6010\n",
      "Epoch 5/5\tBatch 18/118\tloss: 0.2819\tgradient: 0.5255\n",
      "Epoch 5/5\tBatch 19/118\tloss: 0.2227\tgradient: 0.3944\n",
      "Epoch 5/5\tBatch 20/118\tloss: 0.2891\tgradient: 0.7059\n",
      "Epoch 5/5\tBatch 21/118\tloss: 0.2956\tgradient: 0.6323\n",
      "Epoch 5/5\tBatch 22/118\tloss: 0.2045\tgradient: 0.4402\n",
      "Epoch 5/5\tBatch 23/118\tloss: 0.2950\tgradient: 0.8212\n",
      "Epoch 5/5\tBatch 24/118\tloss: 0.2414\tgradient: 0.5226\n",
      "Epoch 5/5\tBatch 25/118\tloss: 0.2765\tgradient: 0.5632\n",
      "Epoch 5/5\tBatch 26/118\tloss: 0.3067\tgradient: 0.3953\n",
      "Epoch 5/5\tBatch 27/118\tloss: 0.2791\tgradient: 0.6267\n",
      "Epoch 5/5\tBatch 28/118\tloss: 0.2031\tgradient: 0.6081\n",
      "Epoch 5/5\tBatch 29/118\tloss: 0.2381\tgradient: 0.5485\n",
      "Epoch 5/5\tBatch 30/118\tloss: 0.2704\tgradient: 0.5123\n",
      "Epoch 5/5\tBatch 31/118\tloss: 0.2538\tgradient: 0.4839\n",
      "Epoch 5/5\tBatch 32/118\tloss: 0.2714\tgradient: 0.4418\n",
      "Epoch 5/5\tBatch 33/118\tloss: 0.2115\tgradient: 0.5530\n",
      "Epoch 5/5\tBatch 34/118\tloss: 0.2370\tgradient: 0.5915\n",
      "Epoch 5/5\tBatch 35/118\tloss: 0.2412\tgradient: 0.4393\n",
      "Epoch 5/5\tBatch 36/118\tloss: 0.2399\tgradient: 0.3477\n",
      "Epoch 5/5\tBatch 37/118\tloss: 0.3130\tgradient: 0.4395\n",
      "Epoch 5/5\tBatch 38/118\tloss: 0.3319\tgradient: 0.5332\n",
      "Epoch 5/5\tBatch 39/118\tloss: 0.3190\tgradient: 0.3830\n",
      "Epoch 5/5\tBatch 40/118\tloss: 0.2718\tgradient: 0.5062\n",
      "Epoch 5/5\tBatch 41/118\tloss: 0.2219\tgradient: 0.5921\n",
      "Epoch 5/5\tBatch 42/118\tloss: 0.2619\tgradient: 0.6040\n",
      "Epoch 5/5\tBatch 43/118\tloss: 0.2593\tgradient: 0.4212\n",
      "Epoch 5/5\tBatch 44/118\tloss: 0.3004\tgradient: 0.5108\n",
      "Epoch 5/5\tBatch 45/118\tloss: 0.2602\tgradient: 0.3786\n",
      "Epoch 5/5\tBatch 46/118\tloss: 0.2410\tgradient: 0.3937\n",
      "Epoch 5/5\tBatch 47/118\tloss: 0.2985\tgradient: 0.7281\n",
      "Epoch 5/5\tBatch 48/118\tloss: 0.2923\tgradient: 0.5187\n",
      "Epoch 5/5\tBatch 49/118\tloss: 0.2935\tgradient: 0.4598\n",
      "Epoch 5/5\tBatch 50/118\tloss: 0.2635\tgradient: 0.6505\n",
      "Epoch 5/5\tBatch 51/118\tloss: 0.2730\tgradient: 0.4931\n",
      "Epoch 5/5\tBatch 52/118\tloss: 0.2443\tgradient: 0.4267\n",
      "Epoch 5/5\tBatch 53/118\tloss: 0.2299\tgradient: 0.3119\n",
      "Epoch 5/5\tBatch 54/118\tloss: 0.3328\tgradient: 0.5411\n",
      "Epoch 5/5\tBatch 55/118\tloss: 0.3239\tgradient: 0.5230\n",
      "Epoch 5/5\tBatch 56/118\tloss: 0.3035\tgradient: 0.6067\n",
      "Epoch 5/5\tBatch 57/118\tloss: 0.2837\tgradient: 0.5161\n",
      "Epoch 5/5\tBatch 58/118\tloss: 0.2459\tgradient: 0.4772\n",
      "Epoch 5/5\tBatch 59/118\tloss: 0.2313\tgradient: 0.3337\n",
      "Epoch 5/5\tBatch 60/118\tloss: 0.2972\tgradient: 0.5504\n",
      "Epoch 5/5\tBatch 61/118\tloss: 0.3129\tgradient: 0.5478\n",
      "Epoch 5/5\tBatch 62/118\tloss: 0.2742\tgradient: 0.5674\n",
      "Epoch 5/5\tBatch 63/118\tloss: 0.3047\tgradient: 0.5313\n",
      "Epoch 5/5\tBatch 64/118\tloss: 0.2842\tgradient: 0.4637\n",
      "Epoch 5/5\tBatch 65/118\tloss: 0.2653\tgradient: 0.4653\n",
      "Epoch 5/5\tBatch 66/118\tloss: 0.2423\tgradient: 0.5220\n",
      "Epoch 5/5\tBatch 67/118\tloss: 0.3080\tgradient: 0.4881\n",
      "Epoch 5/5\tBatch 68/118\tloss: 0.2199\tgradient: 0.5724\n",
      "Epoch 5/5\tBatch 69/118\tloss: 0.2929\tgradient: 0.5625\n",
      "Epoch 5/5\tBatch 70/118\tloss: 0.3522\tgradient: 0.5193\n",
      "Epoch 5/5\tBatch 71/118\tloss: 0.2037\tgradient: 0.3026\n",
      "Epoch 5/5\tBatch 72/118\tloss: 0.2969\tgradient: 0.4681\n",
      "Epoch 5/5\tBatch 73/118\tloss: 0.2579\tgradient: 0.4243\n",
      "Epoch 5/5\tBatch 74/118\tloss: 0.2766\tgradient: 0.6953\n",
      "Epoch 5/5\tBatch 75/118\tloss: 0.3067\tgradient: 0.5664\n",
      "Epoch 5/5\tBatch 76/118\tloss: 0.2756\tgradient: 0.6481\n",
      "Epoch 5/5\tBatch 77/118\tloss: 0.2064\tgradient: 0.3584\n",
      "Epoch 5/5\tBatch 78/118\tloss: 0.2512\tgradient: 0.4123\n",
      "Epoch 5/5\tBatch 79/118\tloss: 0.3009\tgradient: 0.5521\n",
      "Epoch 5/5\tBatch 80/118\tloss: 0.2042\tgradient: 0.5920\n",
      "Epoch 5/5\tBatch 81/118\tloss: 0.2727\tgradient: 0.5915\n",
      "Epoch 5/5\tBatch 82/118\tloss: 0.3195\tgradient: 0.4903\n",
      "Epoch 5/5\tBatch 83/118\tloss: 0.2562\tgradient: 0.5240\n",
      "Epoch 5/5\tBatch 84/118\tloss: 0.2393\tgradient: 0.6377\n",
      "Epoch 5/5\tBatch 85/118\tloss: 0.2254\tgradient: 0.3119\n",
      "Epoch 5/5\tBatch 86/118\tloss: 0.2521\tgradient: 0.4829\n",
      "Epoch 5/5\tBatch 87/118\tloss: 0.2814\tgradient: 0.6111\n",
      "Epoch 5/5\tBatch 88/118\tloss: 0.3009\tgradient: 0.5517\n",
      "Epoch 5/5\tBatch 89/118\tloss: 0.2648\tgradient: 0.6035\n",
      "Epoch 5/5\tBatch 90/118\tloss: 0.3268\tgradient: 0.4172\n",
      "Epoch 5/5\tBatch 91/118\tloss: 0.2337\tgradient: 0.4904\n",
      "Epoch 5/5\tBatch 92/118\tloss: 0.2661\tgradient: 0.6038\n",
      "Epoch 5/5\tBatch 93/118\tloss: 0.2819\tgradient: 0.5732\n",
      "Epoch 5/5\tBatch 94/118\tloss: 0.2807\tgradient: 0.6233\n",
      "Epoch 5/5\tBatch 95/118\tloss: 0.2850\tgradient: 0.7045\n",
      "Epoch 5/5\tBatch 96/118\tloss: 0.2452\tgradient: 0.4451\n",
      "Epoch 5/5\tBatch 97/118\tloss: 0.2565\tgradient: 0.3580\n",
      "Epoch 5/5\tBatch 98/118\tloss: 0.2643\tgradient: 0.4756\n",
      "Epoch 5/5\tBatch 99/118\tloss: 0.3155\tgradient: 0.5281\n",
      "Epoch 5/5\tBatch 100/118\tloss: 0.2363\tgradient: 0.5823\n",
      "Epoch 5/5\tBatch 101/118\tloss: 0.2515\tgradient: 0.5202\n",
      "Epoch 5/5\tBatch 102/118\tloss: 0.2557\tgradient: 0.7851\n",
      "Epoch 5/5\tBatch 103/118\tloss: 0.2845\tgradient: 0.4231\n",
      "Epoch 5/5\tBatch 104/118\tloss: 0.2473\tgradient: 0.4519\n",
      "Epoch 5/5\tBatch 105/118\tloss: 0.2298\tgradient: 0.4033\n",
      "Epoch 5/5\tBatch 106/118\tloss: 0.2327\tgradient: 0.5929\n",
      "Epoch 5/5\tBatch 107/118\tloss: 0.1950\tgradient: 0.3387\n",
      "Epoch 5/5\tBatch 108/118\tloss: 0.2589\tgradient: 0.4378\n",
      "Epoch 5/5\tBatch 109/118\tloss: 0.3081\tgradient: 0.6435\n",
      "Epoch 5/5\tBatch 110/118\tloss: 0.2599\tgradient: 0.4200\n",
      "Epoch 5/5\tBatch 111/118\tloss: 0.3426\tgradient: 0.6160\n",
      "Epoch 5/5\tBatch 112/118\tloss: 0.2680\tgradient: 0.5099\n",
      "Epoch 5/5\tBatch 113/118\tloss: 0.2535\tgradient: 0.5936\n",
      "Epoch 5/5\tBatch 114/118\tloss: 0.2102\tgradient: 0.3225\n",
      "Epoch 5/5\tBatch 115/118\tloss: 0.2901\tgradient: 0.5374\n",
      "Epoch 5/5\tBatch 116/118\tloss: 0.2782\tgradient: 0.4871\n",
      "Epoch 5/5\tBatch 117/118\tloss: 0.2568\tgradient: 0.4293\n",
      "Epoch 5/5\tBatch 118/118\tloss: 0.4336\tgradient: 1.2165\n"
     ]
    }
   ],
   "source": [
    "# Train model\n",
    "gradients = []\n",
    "losses = []\n",
    "for e in range(5):\n",
    "        # Shuffle\n",
    "        idx = np.random.permutation(x_train.shape[0])\n",
    "        counter = 0\n",
    "        # Train batch\n",
    "        for b_x, b_y in get_batch(x_train[idx], y_train[idx], 512):\n",
    "            counter += 1\n",
    "            # WARNING! This part is not appropriate (very time-consuming)\n",
    "            # When you run train_on_batch(), you actually already get_gradients() and update parameters once\n",
    "            loss = model2.train_on_batch(b_x, b_y)\n",
    "            weights = model2.weights # weight tensors\n",
    "            gradient = model2.optimizer.get_gradients(model2.total_loss, weights) # gradient tensors\n",
    "            input_tensors = [\n",
    "                model2.inputs[0], # input data\n",
    "                model2.sample_weights[0], # sample weights\n",
    "                model2.targets[0], # labels\n",
    "                K.learning_phase(), # train or test mode\n",
    "            ]\n",
    "            get_gradients = K.function(inputs=input_tensors, outputs=gradient)\n",
    "\n",
    "            inputs = [\n",
    "                b_x, # X input data\n",
    "                np.ones((b_x.shape[0],)), # sample weights\n",
    "                b_y, # y labels\n",
    "                0 # learning phase in TEST mode\n",
    "            ]\n",
    "            g = get_gradients(inputs)\n",
    "#             loss = model2.evaluate(b_x, b_y, verbose=0)\n",
    "            losses.append(loss)\n",
    "            # Apply 2-norm\n",
    "            g_0 = np.sum(g[0]**2)\n",
    "            g_1 = np.sum(g[1]**2)\n",
    "            g_2 = np.sum(g[2]**2)\n",
    "            g_all = np.sqrt(g_0+g_1+g_2)\n",
    "            gradients.append(g_all)\n",
    "            print(\"Epoch %d/5\\tBatch %d/%d\\tloss: %.4f\\tgradient: %.4f\" % (e+1, counter, x_train.shape[0]//512+1, loss, g_all))"
   ]
  },
  {
   "cell_type": "markdown",
   "metadata": {},
   "source": [
    "### Plot Result"
   ]
  },
  {
   "cell_type": "code",
   "execution_count": 17,
   "metadata": {
    "ExecuteTime": {
     "end_time": "2018-07-04T00:25:53.436197Z",
     "start_time": "2018-07-04T00:25:52.484466Z"
    },
    "scrolled": true
   },
   "outputs": [
    {
     "data": {
      "image/png": "[encoded data removed]",
      "text/plain": [
       "<Figure size 432x288 with 1 Axes>"
      ]
     },
     "metadata": {},
     "output_type": "display_data"
    },
    {
     "data": {
      "image/png": "[encoded data removed]",
      "text/plain": [
       "<Figure size 432x288 with 1 Axes>"
      ]
     },
     "metadata": {},
     "output_type": "display_data"
    }
   ],
   "source": [
    "# Plot Loss\n",
    "plt.plot(losses)\n",
    "plt.xlabel(\"Iteration\")\n",
    "plt.ylabel(\"Loss\")\n",
    "plt.title(\"Learning Curve\")\n",
    "plt.show()\n",
    "# Plot Gradients\n",
    "plt.plot(gradients)\n",
    "plt.xlabel(\"Iteration\")\n",
    "plt.title(\"Gradients\")\n",
    "plt.show()"
   ]
  },
  {
   "cell_type": "markdown",
   "metadata": {},
   "source": [
    "## What Happened When Gradient is Almost Zero"
   ]
  },
  {
   "cell_type": "code",
   "execution_count": null,
   "metadata": {},
   "outputs": [],
   "source": [
    "# TODO\n",
    "# This part is canceled"
   ]
  }
 ],
 "metadata": {
  "kernelspec": {
   "display_name": "Python 3",
   "language": "python",
   "name": "python3"
  },
  "language_info": {
   "codemirror_mode": {
    "name": "ipython",
    "version": 3
   },
   "file_extension": ".py",
   "mimetype": "text/x-python",
   "name": "python",
   "nbconvert_exporter": "python",
   "pygments_lexer": "ipython3",
   "version": "3.6.4"
  },
  "toc": {
   "base_numbering": 1,
   "nav_menu": {},
   "number_sections": true,
   "sideBar": true,
   "skip_h1_title": false,
   "title_cell": "Table of Contents",
   "title_sidebar": "Contents",
   "toc_cell": false,
   "toc_position": {
    "height": "calc(100% - 180px)",
    "left": "10px",
    "top": "150px",
    "width": "272px"
   },
   "toc_section_display": true,
   "toc_window_display": true
  },
  "varInspector": {
   "cols": {
    "lenName": 16,
    "lenType": 16,
    "lenVar": 40
   },
   "kernels_config": {
    "python": {
     "delete_cmd_postfix": "",
     "delete_cmd_prefix": "del ",
     "library": "var_list.py",
     "varRefreshCmd": "print(var_dic_list())"
    },
    "r": {
     "delete_cmd_postfix": ") ",
     "delete_cmd_prefix": "rm(",
     "library": "var_list.r",
     "varRefreshCmd": "cat(var_dic_list()) "
    }
   },
   "oldHeight": 190,
   "position": {
    "height": "212px",
    "left": "1219px",
    "right": "38px",
    "top": "7px",
    "width": "663px"
   },
   "types_to_exclude": [
    "module",
    "function",
    "builtin_function_or_method",
    "instance",
    "_Feature"
   ],
   "varInspector_section_display": "block",
   "window_display": true
  }
 },
 "nbformat": 4,
 "nbformat_minor": 2
}
