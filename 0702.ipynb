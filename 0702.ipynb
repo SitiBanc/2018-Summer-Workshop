{
 "cells": [
  {
   "cell_type": "code",
   "execution_count": 1,
   "metadata": {
    "ExecuteTime": {
     "end_time": "2018-07-02T09:53:37.271902Z",
     "start_time": "2018-07-02T09:53:36.821523Z"
    }
   },
   "outputs": [],
   "source": [
    "import seaborn as sns\n",
    "import numpy as np\n",
    "from sklearn.model_selection import train_test_split"
   ]
  },
  {
   "cell_type": "code",
   "execution_count": 2,
   "metadata": {
    "ExecuteTime": {
     "end_time": "2018-07-02T09:53:37.279045Z",
     "start_time": "2018-07-02T09:53:37.273382Z"
    }
   },
   "outputs": [],
   "source": [
    "# Load dataset\n",
    "iris = sns.load_dataset(\"iris\")"
   ]
  },
  {
   "cell_type": "code",
   "execution_count": 3,
   "metadata": {
    "ExecuteTime": {
     "end_time": "2018-07-02T09:53:37.364587Z",
     "start_time": "2018-07-02T09:53:37.280113Z"
    }
   },
   "outputs": [],
   "source": [
    "# Split features and labels\n",
    "x = iris.values[:, :4]\n",
    "y = iris.values[:, 4]"
   ]
  },
  {
   "cell_type": "code",
   "execution_count": 4,
   "metadata": {
    "ExecuteTime": {
     "end_time": "2018-07-02T09:53:37.447668Z",
     "start_time": "2018-07-02T09:53:37.369554Z"
    }
   },
   "outputs": [],
   "source": [
    "# Split training and testing data\n",
    "train_x, test_x, train_y, test_y = train_test_split(x, y, test_size=0.5, random_state=0)"
   ]
  },
  {
   "cell_type": "code",
   "execution_count": 5,
   "metadata": {
    "ExecuteTime": {
     "end_time": "2018-07-02T09:53:38.201420Z",
     "start_time": "2018-07-02T09:53:37.452458Z"
    }
   },
   "outputs": [
    {
     "name": "stderr",
     "output_type": "stream",
     "text": [
      "/home/sitibanc/anaconda3/lib/python3.6/site-packages/h5py/__init__.py:36: FutureWarning: Conversion of the second argument of issubdtype from `float` to `np.floating` is deprecated. In future, it will be treated as `np.float64 == np.dtype(float).type`.\n",
      "  from ._conv import register_converters as _register_converters\n",
      "Using TensorFlow backend.\n"
     ]
    }
   ],
   "source": [
    "# One-hot Encoding\n",
    "from keras.utils import to_categorical\n",
    "def one_hot_encoder(arr):\n",
    "    uniques, idx = np.unique(arr, return_inverse=True)\n",
    "    return to_categorical(idx, len(uniques))\n",
    "\n",
    "train_y_encoded = one_hot_encoder(train_y)\n",
    "test_y_encoded = one_hot_encoder(test_y)"
   ]
  },
  {
   "cell_type": "code",
   "execution_count": 6,
   "metadata": {
    "ExecuteTime": {
     "end_time": "2018-07-02T09:53:38.204845Z",
     "start_time": "2018-07-02T09:53:38.202771Z"
    }
   },
   "outputs": [],
   "source": [
    "# Build Model\n",
    "from keras.models import Model\n",
    "from keras.layers import Input, Dense"
   ]
  },
  {
   "cell_type": "code",
   "execution_count": 7,
   "metadata": {
    "ExecuteTime": {
     "end_time": "2018-07-02T09:53:38.312427Z",
     "start_time": "2018-07-02T09:53:38.206017Z"
    }
   },
   "outputs": [],
   "source": [
    "inputs = Input(shape=(4,), name=\"input\")\n",
    "x = Dense(16, activation=\"sigmoid\", name=\"h1\")(inputs)\n",
    "x = Dense(16, activation=\"sigmoid\", name=\"h2\")(x)\n",
    "outputs = Dense(3, activation=\"softmax\", name=\"output\")(x)\n",
    "\n",
    "model = Model(inputs, outputs)"
   ]
  },
  {
   "cell_type": "code",
   "execution_count": 8,
   "metadata": {
    "ExecuteTime": {
     "end_time": "2018-07-02T09:53:38.393352Z",
     "start_time": "2018-07-02T09:53:38.313839Z"
    }
   },
   "outputs": [],
   "source": [
    "# ====================\n",
    "# Sequential\n",
    "# ====================\n",
    "from keras.models import Sequential\n",
    "model2 = Sequential()\n",
    "\n",
    "model2.add(Dense(16, activation=\"sigmoid\", name=\"h1\", input_dim=4))\n",
    "model2.add(Dense(16, activation=\"sigmoid\", name=\"h2\"))\n",
    "model2.add(Dense(3, activation=\"softmax\", name=\"output\"))"
   ]
  },
  {
   "cell_type": "code",
   "execution_count": 9,
   "metadata": {
    "ExecuteTime": {
     "end_time": "2018-07-02T09:53:38.449039Z",
     "start_time": "2018-07-02T09:53:38.394740Z"
    }
   },
   "outputs": [
    {
     "name": "stdout",
     "output_type": "stream",
     "text": [
      "=== Model ===\n",
      "_________________________________________________________________\n",
      "Layer (type)                 Output Shape              Param #   \n",
      "=================================================================\n",
      "input (InputLayer)           (None, 4)                 0         \n",
      "_________________________________________________________________\n",
      "h1 (Dense)                   (None, 16)                80        \n",
      "_________________________________________________________________\n",
      "h2 (Dense)                   (None, 16)                272       \n",
      "_________________________________________________________________\n",
      "output (Dense)               (None, 3)                 51        \n",
      "=================================================================\n",
      "Total params: 403\n",
      "Trainable params: 403\n",
      "Non-trainable params: 0\n",
      "_________________________________________________________________\n",
      "=== Sequential ===\n",
      "_________________________________________________________________\n",
      "Layer (type)                 Output Shape              Param #   \n",
      "=================================================================\n",
      "h1 (Dense)                   (None, 16)                80        \n",
      "_________________________________________________________________\n",
      "h2 (Dense)                   (None, 16)                272       \n",
      "_________________________________________________________________\n",
      "output (Dense)               (None, 3)                 51        \n",
      "=================================================================\n",
      "Total params: 403\n",
      "Trainable params: 403\n",
      "Non-trainable params: 0\n",
      "_________________________________________________________________\n"
     ]
    }
   ],
   "source": [
    "# Print Summary\n",
    "print(\"=== Model ===\")\n",
    "model.summary()\n",
    "print(\"=== Sequential ===\")\n",
    "model2.summary()"
   ]
  },
  {
   "cell_type": "code",
   "execution_count": 10,
   "metadata": {
    "ExecuteTime": {
     "end_time": "2018-07-02T09:53:38.585777Z",
     "start_time": "2018-07-02T09:53:38.451052Z"
    }
   },
   "outputs": [],
   "source": [
    "# Compile model\n",
    "model.compile(optimizer=\"adam\", loss=\"categorical_crossentropy\", metrics=[\"accuracy\"])"
   ]
  },
  {
   "cell_type": "code",
   "execution_count": 11,
   "metadata": {
    "ExecuteTime": {
     "end_time": "2018-07-02T09:53:40.115404Z",
     "start_time": "2018-07-02T09:53:38.587374Z"
    },
    "scrolled": true
   },
   "outputs": [
    {
     "name": "stdout",
     "output_type": "stream",
     "text": [
      "Train on 75 samples, validate on 75 samples\n",
      "Epoch 1/100\n",
      "75/75 [==============================] - 0s 2ms/step - loss: 1.0661 - acc: 0.3867 - val_loss: 1.0822 - val_acc: 0.2800\n",
      "Epoch 2/100\n",
      "75/75 [==============================] - 0s 150us/step - loss: 1.0549 - acc: 0.5467 - val_loss: 1.0786 - val_acc: 0.5467\n",
      "Epoch 3/100\n",
      "75/75 [==============================] - 0s 139us/step - loss: 1.0476 - acc: 0.7333 - val_loss: 1.0757 - val_acc: 0.6000\n",
      "Epoch 4/100\n",
      "75/75 [==============================] - 0s 141us/step - loss: 1.0383 - acc: 0.7333 - val_loss: 1.0722 - val_acc: 0.6000\n",
      "Epoch 5/100\n",
      "75/75 [==============================] - 0s 135us/step - loss: 1.0292 - acc: 0.7333 - val_loss: 1.0694 - val_acc: 0.6000\n",
      "Epoch 6/100\n",
      "75/75 [==============================] - 0s 145us/step - loss: 1.0201 - acc: 0.7333 - val_loss: 1.0670 - val_acc: 0.6000\n",
      "Epoch 7/100\n",
      "75/75 [==============================] - 0s 141us/step - loss: 1.0113 - acc: 0.7333 - val_loss: 1.0629 - val_acc: 0.6000\n",
      "Epoch 8/100\n",
      "75/75 [==============================] - 0s 137us/step - loss: 1.0014 - acc: 0.7333 - val_loss: 1.0539 - val_acc: 0.6000\n",
      "Epoch 9/100\n",
      "75/75 [==============================] - 0s 134us/step - loss: 0.9916 - acc: 0.7333 - val_loss: 1.0445 - val_acc: 0.6000\n",
      "Epoch 10/100\n",
      "75/75 [==============================] - 0s 139us/step - loss: 0.9819 - acc: 0.7333 - val_loss: 1.0344 - val_acc: 0.6000\n",
      "Epoch 11/100\n",
      "75/75 [==============================] - 0s 136us/step - loss: 0.9706 - acc: 0.7333 - val_loss: 1.0250 - val_acc: 0.6000\n",
      "Epoch 12/100\n",
      "75/75 [==============================] - 0s 136us/step - loss: 0.9591 - acc: 0.7333 - val_loss: 1.0183 - val_acc: 0.6000\n",
      "Epoch 13/100\n",
      "75/75 [==============================] - 0s 141us/step - loss: 0.9474 - acc: 0.7333 - val_loss: 1.0075 - val_acc: 0.6000\n",
      "Epoch 14/100\n",
      "75/75 [==============================] - 0s 138us/step - loss: 0.9360 - acc: 0.7333 - val_loss: 0.9988 - val_acc: 0.6000\n",
      "Epoch 15/100\n",
      "75/75 [==============================] - 0s 135us/step - loss: 0.9223 - acc: 0.7333 - val_loss: 0.9888 - val_acc: 0.6000\n",
      "Epoch 16/100\n",
      "75/75 [==============================] - 0s 137us/step - loss: 0.9093 - acc: 0.7333 - val_loss: 0.9758 - val_acc: 0.6000\n",
      "Epoch 17/100\n",
      "75/75 [==============================] - 0s 139us/step - loss: 0.8948 - acc: 0.7333 - val_loss: 0.9648 - val_acc: 0.6000\n",
      "Epoch 18/100\n",
      "75/75 [==============================] - 0s 140us/step - loss: 0.8800 - acc: 0.7333 - val_loss: 0.9536 - val_acc: 0.6000\n",
      "Epoch 19/100\n",
      "75/75 [==============================] - 0s 142us/step - loss: 0.8660 - acc: 0.7333 - val_loss: 0.9429 - val_acc: 0.6000\n",
      "Epoch 20/100\n",
      "75/75 [==============================] - 0s 145us/step - loss: 0.8501 - acc: 0.7333 - val_loss: 0.9308 - val_acc: 0.6000\n",
      "Epoch 21/100\n",
      "75/75 [==============================] - 0s 140us/step - loss: 0.8341 - acc: 0.7333 - val_loss: 0.9156 - val_acc: 0.6000\n",
      "Epoch 22/100\n",
      "75/75 [==============================] - 0s 139us/step - loss: 0.8171 - acc: 0.7333 - val_loss: 0.9012 - val_acc: 0.6000\n",
      "Epoch 23/100\n",
      "75/75 [==============================] - 0s 142us/step - loss: 0.8010 - acc: 0.7333 - val_loss: 0.8856 - val_acc: 0.6000\n",
      "Epoch 24/100\n",
      "75/75 [==============================] - 0s 147us/step - loss: 0.7857 - acc: 0.7333 - val_loss: 0.8736 - val_acc: 0.6000\n",
      "Epoch 25/100\n",
      "75/75 [==============================] - 0s 140us/step - loss: 0.7680 - acc: 0.7333 - val_loss: 0.8592 - val_acc: 0.6000\n",
      "Epoch 26/100\n",
      "75/75 [==============================] - 0s 144us/step - loss: 0.7519 - acc: 0.7333 - val_loss: 0.8444 - val_acc: 0.6000\n",
      "Epoch 27/100\n",
      "75/75 [==============================] - 0s 143us/step - loss: 0.7359 - acc: 0.7333 - val_loss: 0.8312 - val_acc: 0.6000\n",
      "Epoch 28/100\n",
      "75/75 [==============================] - 0s 145us/step - loss: 0.7202 - acc: 0.7333 - val_loss: 0.8161 - val_acc: 0.6000\n",
      "Epoch 29/100\n",
      "75/75 [==============================] - 0s 142us/step - loss: 0.7050 - acc: 0.7333 - val_loss: 0.8041 - val_acc: 0.6000\n",
      "Epoch 30/100\n",
      "75/75 [==============================] - 0s 143us/step - loss: 0.6901 - acc: 0.7333 - val_loss: 0.7866 - val_acc: 0.6000\n",
      "Epoch 31/100\n",
      "75/75 [==============================] - 0s 137us/step - loss: 0.6754 - acc: 0.7333 - val_loss: 0.7753 - val_acc: 0.6000\n",
      "Epoch 32/100\n",
      "75/75 [==============================] - 0s 141us/step - loss: 0.6612 - acc: 0.7333 - val_loss: 0.7612 - val_acc: 0.6000\n",
      "Epoch 33/100\n",
      "75/75 [==============================] - 0s 141us/step - loss: 0.6471 - acc: 0.7333 - val_loss: 0.7457 - val_acc: 0.6000\n",
      "Epoch 34/100\n",
      "75/75 [==============================] - 0s 138us/step - loss: 0.6347 - acc: 0.7333 - val_loss: 0.7311 - val_acc: 0.6000\n",
      "Epoch 35/100\n",
      "75/75 [==============================] - 0s 140us/step - loss: 0.6218 - acc: 0.7333 - val_loss: 0.7156 - val_acc: 0.6000\n",
      "Epoch 36/100\n",
      "75/75 [==============================] - 0s 142us/step - loss: 0.6106 - acc: 0.7333 - val_loss: 0.7061 - val_acc: 0.6000\n",
      "Epoch 37/100\n",
      "75/75 [==============================] - 0s 142us/step - loss: 0.5997 - acc: 0.7467 - val_loss: 0.6931 - val_acc: 0.6000\n",
      "Epoch 38/100\n",
      "75/75 [==============================] - 0s 142us/step - loss: 0.5880 - acc: 0.7467 - val_loss: 0.6857 - val_acc: 0.6000\n",
      "Epoch 39/100\n",
      "75/75 [==============================] - 0s 148us/step - loss: 0.5772 - acc: 0.7333 - val_loss: 0.6784 - val_acc: 0.6000\n",
      "Epoch 40/100\n",
      "75/75 [==============================] - 0s 153us/step - loss: 0.5670 - acc: 0.7333 - val_loss: 0.6688 - val_acc: 0.6000\n",
      "Epoch 41/100\n",
      "75/75 [==============================] - 0s 144us/step - loss: 0.5577 - acc: 0.7467 - val_loss: 0.6593 - val_acc: 0.6000\n",
      "Epoch 42/100\n",
      "75/75 [==============================] - 0s 144us/step - loss: 0.5485 - acc: 0.7600 - val_loss: 0.6505 - val_acc: 0.6000\n",
      "Epoch 43/100\n",
      "75/75 [==============================] - 0s 143us/step - loss: 0.5397 - acc: 0.7733 - val_loss: 0.6397 - val_acc: 0.6133\n",
      "Epoch 44/100\n",
      "75/75 [==============================] - 0s 138us/step - loss: 0.5317 - acc: 0.7733 - val_loss: 0.6289 - val_acc: 0.6267\n",
      "Epoch 45/100\n",
      "75/75 [==============================] - 0s 139us/step - loss: 0.5229 - acc: 0.7733 - val_loss: 0.6184 - val_acc: 0.6267\n",
      "Epoch 46/100\n",
      "75/75 [==============================] - 0s 138us/step - loss: 0.5156 - acc: 0.7867 - val_loss: 0.6119 - val_acc: 0.6267\n",
      "Epoch 47/100\n",
      "75/75 [==============================] - 0s 141us/step - loss: 0.5078 - acc: 0.7867 - val_loss: 0.6047 - val_acc: 0.6267\n",
      "Epoch 48/100\n",
      "75/75 [==============================] - 0s 150us/step - loss: 0.5009 - acc: 0.7867 - val_loss: 0.5983 - val_acc: 0.6267\n",
      "Epoch 49/100\n",
      "75/75 [==============================] - 0s 146us/step - loss: 0.4940 - acc: 0.7867 - val_loss: 0.5922 - val_acc: 0.6267\n",
      "Epoch 50/100\n",
      "75/75 [==============================] - 0s 150us/step - loss: 0.4877 - acc: 0.7867 - val_loss: 0.5882 - val_acc: 0.6267\n",
      "Epoch 51/100\n",
      "75/75 [==============================] - 0s 145us/step - loss: 0.4822 - acc: 0.7867 - val_loss: 0.5801 - val_acc: 0.6267\n",
      "Epoch 52/100\n",
      "75/75 [==============================] - 0s 142us/step - loss: 0.4759 - acc: 0.7867 - val_loss: 0.5757 - val_acc: 0.6267\n",
      "Epoch 53/100\n",
      "75/75 [==============================] - 0s 139us/step - loss: 0.4708 - acc: 0.7867 - val_loss: 0.5726 - val_acc: 0.6267\n",
      "Epoch 54/100\n",
      "75/75 [==============================] - 0s 145us/step - loss: 0.4646 - acc: 0.7867 - val_loss: 0.5656 - val_acc: 0.6267\n",
      "Epoch 55/100\n",
      "75/75 [==============================] - 0s 148us/step - loss: 0.4588 - acc: 0.8133 - val_loss: 0.5569 - val_acc: 0.6667\n",
      "Epoch 56/100\n",
      "75/75 [==============================] - 0s 142us/step - loss: 0.4527 - acc: 0.8267 - val_loss: 0.5479 - val_acc: 0.7200\n",
      "Epoch 57/100\n",
      "75/75 [==============================] - 0s 140us/step - loss: 0.4476 - acc: 0.8267 - val_loss: 0.5424 - val_acc: 0.7200\n",
      "Epoch 58/100\n",
      "75/75 [==============================] - 0s 150us/step - loss: 0.4445 - acc: 0.8533 - val_loss: 0.5336 - val_acc: 0.7333\n",
      "Epoch 59/100\n",
      "75/75 [==============================] - 0s 136us/step - loss: 0.4379 - acc: 0.8933 - val_loss: 0.5290 - val_acc: 0.7467\n",
      "Epoch 60/100\n",
      "75/75 [==============================] - 0s 143us/step - loss: 0.4336 - acc: 0.8800 - val_loss: 0.5273 - val_acc: 0.7200\n",
      "Epoch 61/100\n",
      "75/75 [==============================] - 0s 161us/step - loss: 0.4281 - acc: 0.8667 - val_loss: 0.5214 - val_acc: 0.7333\n"
     ]
    },
    {
     "name": "stdout",
     "output_type": "stream",
     "text": [
      "Epoch 62/100\n",
      "75/75 [==============================] - 0s 149us/step - loss: 0.4245 - acc: 0.8933 - val_loss: 0.5118 - val_acc: 0.8133\n",
      "Epoch 63/100\n",
      "75/75 [==============================] - 0s 141us/step - loss: 0.4193 - acc: 0.8933 - val_loss: 0.5081 - val_acc: 0.8000\n",
      "Epoch 64/100\n",
      "75/75 [==============================] - 0s 140us/step - loss: 0.4151 - acc: 0.8933 - val_loss: 0.5041 - val_acc: 0.7867\n",
      "Epoch 65/100\n",
      "75/75 [==============================] - 0s 144us/step - loss: 0.4108 - acc: 0.9067 - val_loss: 0.4967 - val_acc: 0.8267\n",
      "Epoch 66/100\n",
      "75/75 [==============================] - 0s 140us/step - loss: 0.4064 - acc: 0.9067 - val_loss: 0.4933 - val_acc: 0.8267\n",
      "Epoch 67/100\n",
      "75/75 [==============================] - 0s 143us/step - loss: 0.4035 - acc: 0.9067 - val_loss: 0.4925 - val_acc: 0.7867\n",
      "Epoch 68/100\n",
      "75/75 [==============================] - 0s 143us/step - loss: 0.3982 - acc: 0.8933 - val_loss: 0.4881 - val_acc: 0.7867\n",
      "Epoch 69/100\n",
      "75/75 [==============================] - 0s 138us/step - loss: 0.3940 - acc: 0.8933 - val_loss: 0.4846 - val_acc: 0.7867\n",
      "Epoch 70/100\n",
      "75/75 [==============================] - 0s 135us/step - loss: 0.3905 - acc: 0.8933 - val_loss: 0.4805 - val_acc: 0.8133\n",
      "Epoch 71/100\n",
      "75/75 [==============================] - 0s 141us/step - loss: 0.3872 - acc: 0.9200 - val_loss: 0.4722 - val_acc: 0.8267\n",
      "Epoch 72/100\n",
      "75/75 [==============================] - 0s 142us/step - loss: 0.3825 - acc: 0.9067 - val_loss: 0.4724 - val_acc: 0.8133\n",
      "Epoch 73/100\n",
      "75/75 [==============================] - 0s 140us/step - loss: 0.3785 - acc: 0.9067 - val_loss: 0.4655 - val_acc: 0.8267\n",
      "Epoch 74/100\n",
      "75/75 [==============================] - 0s 143us/step - loss: 0.3771 - acc: 0.9067 - val_loss: 0.4647 - val_acc: 0.8267\n",
      "Epoch 75/100\n",
      "75/75 [==============================] - 0s 144us/step - loss: 0.3711 - acc: 0.9067 - val_loss: 0.4552 - val_acc: 0.8800\n",
      "Epoch 76/100\n",
      "75/75 [==============================] - 0s 149us/step - loss: 0.3672 - acc: 0.9333 - val_loss: 0.4489 - val_acc: 0.8933\n",
      "Epoch 77/100\n",
      "75/75 [==============================] - 0s 148us/step - loss: 0.3642 - acc: 0.9333 - val_loss: 0.4436 - val_acc: 0.8933\n",
      "Epoch 78/100\n",
      "75/75 [==============================] - 0s 140us/step - loss: 0.3608 - acc: 0.9333 - val_loss: 0.4391 - val_acc: 0.9067\n",
      "Epoch 79/100\n",
      "75/75 [==============================] - 0s 143us/step - loss: 0.3559 - acc: 0.9333 - val_loss: 0.4405 - val_acc: 0.8800\n",
      "Epoch 80/100\n",
      "75/75 [==============================] - 0s 148us/step - loss: 0.3555 - acc: 0.9067 - val_loss: 0.4421 - val_acc: 0.8267\n",
      "Epoch 81/100\n",
      "75/75 [==============================] - 0s 146us/step - loss: 0.3499 - acc: 0.9067 - val_loss: 0.4342 - val_acc: 0.8800\n",
      "Epoch 82/100\n",
      "75/75 [==============================] - 0s 163us/step - loss: 0.3477 - acc: 0.9333 - val_loss: 0.4211 - val_acc: 0.9867\n",
      "Epoch 83/100\n",
      "75/75 [==============================] - 0s 163us/step - loss: 0.3435 - acc: 0.9467 - val_loss: 0.4205 - val_acc: 0.9467\n",
      "Epoch 84/100\n",
      "75/75 [==============================] - 0s 157us/step - loss: 0.3406 - acc: 0.9467 - val_loss: 0.4135 - val_acc: 0.9867\n",
      "Epoch 85/100\n",
      "75/75 [==============================] - 0s 153us/step - loss: 0.3358 - acc: 0.9467 - val_loss: 0.4111 - val_acc: 0.9733\n",
      "Epoch 86/100\n",
      "75/75 [==============================] - 0s 156us/step - loss: 0.3326 - acc: 0.9467 - val_loss: 0.4113 - val_acc: 0.8933\n",
      "Epoch 87/100\n",
      "75/75 [==============================] - 0s 149us/step - loss: 0.3292 - acc: 0.9333 - val_loss: 0.4115 - val_acc: 0.8800\n",
      "Epoch 88/100\n",
      "75/75 [==============================] - 0s 152us/step - loss: 0.3263 - acc: 0.9333 - val_loss: 0.4072 - val_acc: 0.8933\n",
      "Epoch 89/100\n",
      "75/75 [==============================] - 0s 161us/step - loss: 0.3238 - acc: 0.9333 - val_loss: 0.3995 - val_acc: 0.9733\n",
      "Epoch 90/100\n",
      "75/75 [==============================] - 0s 154us/step - loss: 0.3205 - acc: 0.9467 - val_loss: 0.3920 - val_acc: 0.9867\n",
      "Epoch 91/100\n",
      "75/75 [==============================] - 0s 158us/step - loss: 0.3163 - acc: 0.9467 - val_loss: 0.3899 - val_acc: 0.9867\n",
      "Epoch 92/100\n",
      "75/75 [==============================] - 0s 161us/step - loss: 0.3136 - acc: 0.9467 - val_loss: 0.3850 - val_acc: 0.9867\n",
      "Epoch 93/100\n",
      "75/75 [==============================] - 0s 144us/step - loss: 0.3103 - acc: 0.9467 - val_loss: 0.3854 - val_acc: 0.9733\n",
      "Epoch 94/100\n",
      "75/75 [==============================] - 0s 140us/step - loss: 0.3080 - acc: 0.9467 - val_loss: 0.3858 - val_acc: 0.9067\n",
      "Epoch 95/100\n",
      "75/75 [==============================] - 0s 137us/step - loss: 0.3066 - acc: 0.9467 - val_loss: 0.3747 - val_acc: 0.9867\n",
      "Epoch 96/100\n",
      "75/75 [==============================] - 0s 161us/step - loss: 0.3012 - acc: 0.9467 - val_loss: 0.3758 - val_acc: 0.9733\n",
      "Epoch 97/100\n",
      "75/75 [==============================] - 0s 142us/step - loss: 0.2994 - acc: 0.9467 - val_loss: 0.3751 - val_acc: 0.9467\n",
      "Epoch 98/100\n",
      "75/75 [==============================] - 0s 139us/step - loss: 0.2958 - acc: 0.9467 - val_loss: 0.3680 - val_acc: 0.9867\n",
      "Epoch 99/100\n",
      "75/75 [==============================] - 0s 139us/step - loss: 0.2927 - acc: 0.9467 - val_loss: 0.3634 - val_acc: 0.9867\n",
      "Epoch 100/100\n",
      "75/75 [==============================] - 0s 136us/step - loss: 0.2903 - acc: 0.9467 - val_loss: 0.3585 - val_acc: 0.9867\n"
     ]
    }
   ],
   "source": [
    "history = model.fit(train_x, train_y_encoded, validation_data=(test_x, test_y_encoded), epochs=100, batch_size=8)"
   ]
  },
  {
   "cell_type": "code",
   "execution_count": 12,
   "metadata": {
    "ExecuteTime": {
     "end_time": "2018-07-02T09:53:40.218688Z",
     "start_time": "2018-07-02T09:53:40.116518Z"
    }
   },
   "outputs": [
    {
     "data": {
      "image/png": "[encoded data removed]",
      "text/plain": [
       "<Figure size 432x288 with 1 Axes>"
      ]
     },
     "metadata": {},
     "output_type": "display_data"
    }
   ],
   "source": [
    "# Plot result\n",
    "from matplotlib import pyplot as plt\n",
    "sns.set(color_codes=True)\n",
    "plt.xlabel(\"Epochs\")\n",
    "plt.ylabel(\"Accuracy/Loss\")\n",
    "plt.title(\"Learning Curve\")\n",
    "plt.plot(history.history[\"acc\"], label=\"Accuracy\")\n",
    "plt.plot(history.history[\"loss\"], label=\"Loss\")\n",
    "plt.legend(loc=\"lower right\")\n",
    "plt.show()"
   ]
  },
  {
   "cell_type": "code",
   "execution_count": 13,
   "metadata": {
    "ExecuteTime": {
     "end_time": "2018-07-02T09:53:40.225250Z",
     "start_time": "2018-07-02T09:53:40.219709Z"
    }
   },
   "outputs": [
    {
     "name": "stdout",
     "output_type": "stream",
     "text": [
      "75/75 [==============================] - 0s 33us/step\n",
      "Testing Loss:0.35849 Accuracy:98.67%\n"
     ]
    }
   ],
   "source": [
    "# Testing\n",
    "loss, accuracy = model.evaluate(test_x, test_y_encoded)\n",
    "print(\"Testing Loss:%.5f Accuracy:%.2f%%\" % (loss, accuracy*100))"
   ]
  },
  {
   "cell_type": "code",
   "execution_count": 14,
   "metadata": {
    "ExecuteTime": {
     "end_time": "2018-07-02T09:53:40.422218Z",
     "start_time": "2018-07-02T09:53:40.226313Z"
    }
   },
   "outputs": [
    {
     "data": {
      "image/png": "[encoded data removed]",
      "text/plain": [
       "<Figure size 432x288 with 1 Axes>"
      ]
     },
     "metadata": {},
     "output_type": "display_data"
    }
   ],
   "source": [
    "plt.xlabel(\"Epochs\")\n",
    "plt.ylabel(\"Accuracy/Loss\")\n",
    "plt.title(\"Testing Performance\")\n",
    "plt.plot(history.history[\"val_acc\"], label=\"Accuracy\")\n",
    "plt.plot(history.history[\"val_loss\"], label=\"Loss\")\n",
    "plt.legend(loc=\"lower right\")\n",
    "plt.show()"
   ]
  },
  {
   "cell_type": "code",
   "execution_count": 15,
   "metadata": {
    "ExecuteTime": {
     "end_time": "2018-07-02T09:53:40.436524Z",
     "start_time": "2018-07-02T09:53:40.423503Z"
    }
   },
   "outputs": [],
   "source": [
    "preds = model.predict(test_x)"
   ]
  },
  {
   "cell_type": "code",
   "execution_count": 16,
   "metadata": {
    "ExecuteTime": {
     "end_time": "2018-07-02T09:53:40.606177Z",
     "start_time": "2018-07-02T09:53:40.437699Z"
    }
   },
   "outputs": [
    {
     "data": {
      "image/png": "[encoded data removed]",
      "text/plain": [
       "<Figure size 432x288 with 1 Axes>"
      ]
     },
     "metadata": {},
     "output_type": "display_data"
    }
   ],
   "source": [
    "plt.xlabel(\"Epochs\")\n",
    "plt.ylabel(\"Accuracy\")\n",
    "plt.title(\"Training vs Testing\")\n",
    "plt.plot(history.history[\"acc\"], label=\"Training\")\n",
    "plt.plot(history.history[\"val_acc\"], label=\"Testing\")\n",
    "plt.legend(loc=\"lower right\")\n",
    "plt.show()"
   ]
  }
 ],
 "metadata": {
  "kernelspec": {
   "display_name": "Python 3",
   "language": "python",
   "name": "python3"
  },
  "language_info": {
   "codemirror_mode": {
    "name": "ipython",
    "version": 3
   },
   "file_extension": ".py",
   "mimetype": "text/x-python",
   "name": "python",
   "nbconvert_exporter": "python",
   "pygments_lexer": "ipython3",
   "version": "3.6.4"
  },
  "toc": {
   "base_numbering": 1,
   "nav_menu": {},
   "number_sections": true,
   "sideBar": true,
   "skip_h1_title": false,
   "title_cell": "Table of Contents",
   "title_sidebar": "Contents",
   "toc_cell": false,
   "toc_position": {},
   "toc_section_display": true,
   "toc_window_display": false
  },
  "varInspector": {
   "cols": {
    "lenName": 16,
    "lenType": 16,
    "lenVar": 40
   },
   "kernels_config": {
    "python": {
     "delete_cmd_postfix": "",
     "delete_cmd_prefix": "del ",
     "library": "var_list.py",
     "varRefreshCmd": "print(var_dic_list())"
    },
    "r": {
     "delete_cmd_postfix": ") ",
     "delete_cmd_prefix": "rm(",
     "library": "var_list.r",
     "varRefreshCmd": "cat(var_dic_list()) "
    }
   },
   "oldHeight": 351,
   "position": {
    "height": "40px",
    "left": "188px",
    "right": "74px",
    "top": "-3px",
    "width": "698px"
   },
   "types_to_exclude": [
    "module",
    "function",
    "builtin_function_or_method",
    "instance",
    "_Feature"
   ],
   "varInspector_section_display": "none",
   "window_display": true
  }
 },
 "nbformat": 4,
 "nbformat_minor": 2
}
